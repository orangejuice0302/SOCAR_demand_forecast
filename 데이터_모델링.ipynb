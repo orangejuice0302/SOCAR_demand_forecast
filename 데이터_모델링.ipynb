{
  "cells": [
    {
      "cell_type": "markdown",
      "metadata": {
        "id": "MSrFuWc3Fm7D"
      },
      "source": [
        "# 모듈 불러오기"
      ]
    },
    {
      "cell_type": "code",
      "execution_count": null,
      "metadata": {
        "id": "MUNtGW0_ODzn"
      },
      "outputs": [],
      "source": [
        "import numpy as np\n",
        "import pandas as pd\n",
        "import warnings\n",
        "warnings.filterwarnings('ignore')\n",
        "\n",
        "# 시각화\n",
        "import matplotlib.pyplot as plt\n",
        "import seaborn as sns\n",
        "plt.rc('font', family='NanumBarunGothic')\n",
        "\n",
        "# 모델링\n",
        "from sklearn.model_selection import train_test_split\n",
        "import xgboost as XGB\n",
        "from xgboost import XGBRegressor\n",
        "from xgboost import plot_importance\n",
        "from lightgbm import LGBMRegressor\n",
        "from sklearn.linear_model import LinearRegression\n",
        "from statsmodels.formula.api import ols\n",
        "import statsmodels.api as sm"
      ]
    },
    {
      "cell_type": "code",
      "execution_count": null,
      "metadata": {
        "id": "EXttP-4LR2vG"
      },
      "outputs": [],
      "source": [
        "import sklearn\n",
        "import optuna\n",
        "from optuna import Trial\n",
        "from optuna.samplers import TPESampler\n",
        "from sklearn.metrics import mean_absolute_error\n",
        "from sklearn.model_selection import StratifiedKFold, train_test_split, cross_val_score\n",
        "from catboost import CatBoostRegressor,Pool\n",
        "from sklearn.metrics import mean_squared_error "
      ]
    },
    {
      "cell_type": "markdown",
      "metadata": {
        "id": "lO05ErD-Fq_O"
      },
      "source": [
        "# 데이터 불러오기"
      ]
    },
    {
      "cell_type": "code",
      "execution_count": null,
      "metadata": {
        "id": "SpCLVGf8OJUW"
      },
      "outputs": [],
      "source": [
        "preprocessed_data = pd.read_pickle('/home/aiffeldefinition/해커톤/data/대여시간구간화_60.pkl')\n",
        "preprocessed_data.head()"
      ]
    },
    {
      "cell_type": "code",
      "execution_count": null,
      "metadata": {
        "id": "oFuAcYKROTOu"
      },
      "outputs": [],
      "source": [
        "preprocessed_df = preprocessed_data.copy()"
      ]
    },
    {
      "cell_type": "code",
      "execution_count": null,
      "metadata": {
        "id": "HZ4TBV4QOd3H"
      },
      "outputs": [],
      "source": [
        "def 컬럼6_classification(df):\n",
        "  A_ratio = round(len(df[df['컬럼6']=='A']) / (len(df[df['컬럼6']=='B']) + len(df[df['컬럼6']=='A'])), 3)\n",
        "  B_ratio = 1 - A_ratio\n",
        "  unknown = df[df['컬럼6']=='unknown']\n",
        "\n",
        "  # 비율에 맞게 샘플링\n",
        "  na_to_B = unknown.sample(frac=B_ratio, random_state=302)\n",
        "  B_index = na_to_B.index\n",
        "  A_index = [x for x in unknown.index if x not in B_index]\n",
        "\n",
        "  # 입력\n",
        "  for i in B_index:  \n",
        "    df['컬럼6'][i] = 'B'\n",
        "\n",
        "  for j in A_index:\n",
        "    df['컬럼6'][j] = 'A'"
      ]
    },
    {
      "cell_type": "code",
      "execution_count": null,
      "metadata": {
        "id": "T60cYXfkOi-O"
      },
      "outputs": [],
      "source": [
        "컬럼6_classification(preprocessed_df)"
      ]
    },
    {
      "cell_type": "code",
      "execution_count": null,
      "metadata": {
        "id": "1ZmGX81-E-jU"
      },
      "outputs": [],
      "source": [
        "preprocessed_df['MP'] = (preprocessed_df['컬럼8'] + preprocessed_df['컬럼9']) / 2"
      ]
    },
    {
      "cell_type": "code",
      "execution_count": null,
      "metadata": {
        "id": "MzZiEzapOtfb"
      },
      "outputs": [],
      "source": [
        "cluster_01 = preprocessed_df[(preprocessed_df['컬럼2'] == 'AAA') | (preprocessed_df['컬럼2'] == 'AAB')]\n",
        "cluster_02 = preprocessed_df[(preprocessed_df['컬럼2'] == 'AAC')]\n",
        "cluster_1 = preprocessed_df[(preprocessed_df['컬럼2'] == 'ABA') | (preprocessed_df['컬럼2'] == 'ABB') | (preprocessed_df['컬럼2'] == 'ABC') | (preprocessed_df['컬럼2'] == 'ABD') | (preprocessed_df['컬럼2'] == 'ABE')]\n",
        "cluster_2 = preprocessed_df[(preprocessed_df['컬럼2'] == 'ACA') | (preprocessed_df['컬럼2'] == 'ACB') | (preprocessed_df['컬럼2'] == 'ACC') | (preprocessed_df['컬럼2'] == 'ACD') | (preprocessed_df['컬럼2'] == 'ACE')]\n",
        "cluster_3 = preprocessed_df[(preprocessed_df['컬럼2'] == 'ADA') | (preprocessed_df['컬럼2'] == 'ADB') | (preprocessed_df['컬럼2'] == 'ADC')]"
      ]
    },
    {
      "cell_type": "markdown",
      "metadata": {
        "id": "-up_C4zbRLta"
      },
      "source": [
        "# 개미와 베짱이 군집- 개미 Modeling\n"
      ]
    },
    {
      "cell_type": "code",
      "execution_count": null,
      "metadata": {
        "id": "JFsz7wIL4pHP"
      },
      "outputs": [],
      "source": [
        "cluster_01_df = cluster_01.copy()"
      ]
    },
    {
      "cell_type": "markdown",
      "metadata": {
        "id": "IKfIH2M88k_5"
      },
      "source": [
        "## feature 그룹화"
      ]
    },
    {
      "cell_type": "code",
      "execution_count": null,
      "metadata": {
        "id": "lQ9dR_LM4uKR"
      },
      "outputs": [],
      "source": [
        "컬럼7_list = list(cluster_01_df[(cluster_01_df['컬럼7'] == 'CA') | (cluster_01_df['컬럼7'] == 'CL')].index)\n",
        "for i in 컬럼7_list:\n",
        "  cluster_01_df.loc[i,'컬럼7그룹'] = 5\n",
        "\n",
        "컬럼7_list = list(cluster_01_df[(cluster_01_df['컬럼7'] == 'CD') | (cluster_01_df['컬럼7'] == 'CK')].index)\n",
        "for i in 컬럼7_list:\n",
        "  cluster_01_df.loc[i,'컬럼7그룹'] = 4\n",
        "\n",
        "컬럼7_list = list(cluster_01_df[(cluster_01_df['컬럼7'] == 'CF') | (cluster_01_df['컬럼7'] == 'CG')].index)\n",
        "for i in 컬럼7_list:\n",
        "  cluster_01_df.loc[i,'컬럼7그룹'] = 3\n",
        "\n",
        "컬럼7_list = list(cluster_01_df[(cluster_01_df['컬럼7'] == 'CI') | (cluster_01_df['컬럼7'] == 'CC')].index)\n",
        "for i in 컬럼7_list:\n",
        "  cluster_01_df.loc[i,'컬럼7그룹'] = 2\n",
        "\n",
        "컬럼7_list = list(cluster_01_df[(cluster_01_df['컬럼7'] == 'CJ') | (cluster_01_df['컬럼7'] == 'CE')].index)\n",
        "for i in 컬럼7_list:\n",
        "  cluster_01_df.loc[i,'컬럼7그룹'] = 1"
      ]
    },
    {
      "cell_type": "code",
      "execution_count": null,
      "metadata": {
        "id": "bimS17Ia8PCz"
      },
      "outputs": [],
      "source": [
        "cluster_01_df.컬럼7그룹.value_counts()"
      ]
    },
    {
      "cell_type": "code",
      "execution_count": null,
      "metadata": {
        "id": "bGvSYbMD43rB"
      },
      "outputs": [],
      "source": [
        "컬럼10_list = list(cluster_01_df[(cluster_01_df['컬럼10'] == 12) ].index)\n",
        "for i in 컬럼10_list:\n",
        "  cluster_01_df.loc[i,'컬럼10_'] = 6\n",
        "\n",
        "컬럼10_list = list(cluster_01_df[(cluster_01_df['컬럼10'] == 7) ].index)\n",
        "for i in 컬럼10_list:\n",
        "  cluster_01_df.loc[i,'컬럼10_'] = 5\n",
        "\n",
        "컬럼10_list = list(cluster_01_df[(cluster_01_df['컬럼10'] == 11) | (cluster_01_df['컬럼10'] == 8) |  (cluster_01_df['컬럼10'] == 10) |  (cluster_01_df['컬럼10'] == 6)].index)\n",
        "for i in 컬럼10_list:\n",
        "  cluster_01_df.loc[i,'컬럼10_'] = 4\n",
        "\n",
        "컬럼10_list = list(cluster_01_df[(cluster_01_df['컬럼10'] == 9) | (cluster_01_df['컬럼10'] == 5)].index)\n",
        "for i in 컬럼10_list:\n",
        "  cluster_01_df.loc[i,'컬럼10_'] = 3\n",
        "\n",
        "컬럼10_list = list(cluster_01_df[(cluster_01_df['컬럼10'] == 4)].index)\n",
        "for i in 컬럼10_list:\n",
        "  cluster_01_df.loc[i,'컬럼10_'] = 2\n",
        "\n",
        "컬럼10_list = list(cluster_01_df[(cluster_01_df['컬럼10'] == 3) | (cluster_01_df['컬럼10'] == 1) | (cluster_01_df['컬럼10'] == 2)].index)\n",
        "for i in 컬럼10_list:\n",
        "  cluster_01_df.loc[i,'컬럼10_'] = 1"
      ]
    },
    {
      "cell_type": "code",
      "execution_count": null,
      "metadata": {
        "id": "ektRB5vh8OFu"
      },
      "outputs": [],
      "source": [
        "cluster_01_df.컬럼10_.value_counts()"
      ]
    },
    {
      "cell_type": "code",
      "execution_count": null,
      "metadata": {
        "id": "Hne39kBg5ujQ"
      },
      "outputs": [],
      "source": [
        "컬럼12_list = list(cluster_01_df[(cluster_01_df['컬럼12'] == 4) | (cluster_01_df['컬럼12'] == 5)].index)\n",
        "for i in 컬럼12_list:\n",
        "  cluster_01_df.loc[i,'컬럼12_'] = 3\n",
        "\n",
        "컬럼12_list = list(cluster_01_df[(cluster_01_df['컬럼12'] == 2) | (cluster_01_df['컬럼12'] == 0) |(cluster_01_df['컬럼12'] == 3)].index)\n",
        "for i in 컬럼12_list:\n",
        "  cluster_01_df.loc[i,'컬럼12_'] = 2\n",
        "\n",
        "컬럼12_list = list(cluster_01_df[(cluster_01_df['컬럼12'] == 6) | (cluster_01_df['컬럼12'] == 1) ].index)\n",
        "for i in 컬럼12_list:\n",
        "  cluster_01_df.loc[i,'컬럼12_'] = 1"
      ]
    },
    {
      "cell_type": "code",
      "execution_count": null,
      "metadata": {
        "id": "-oHith7L8Uev"
      },
      "outputs": [],
      "source": [
        "cluster_01_df.컬럼12_.value_counts()"
      ]
    },
    {
      "cell_type": "code",
      "execution_count": null,
      "metadata": {
        "id": "1G69FNNyGFED"
      },
      "outputs": [],
      "source": [
        "컬럼2_list = list(cluster_01_df[(cluster_01_df['컬럼2'] == 'AAA')].index)\n",
        "for i in 컬럼2_list:\n",
        "  cluster_01_df.loc[i,'컬럼2분류'] = 2\n",
        "\n",
        "컬럼2_list = list(cluster_01_df[(cluster_01_df['컬럼2'] == 'AAB')].index)\n",
        "for i in 컬럼2_list:\n",
        "  cluster_01_df.loc[i,'컬럼2분류'] = 1"
      ]
    },
    {
      "cell_type": "code",
      "execution_count": null,
      "metadata": {
        "id": "EQHIRCQNI0NH"
      },
      "outputs": [],
      "source": [
        "cluster_01_df.컬럼2분류.value_counts()"
      ]
    },
    {
      "cell_type": "code",
      "execution_count": null,
      "metadata": {
        "id": "WdM-df-gG2Ok"
      },
      "outputs": [],
      "source": [
        "컬럼13_list = list(cluster_01_df[(cluster_01_df['컬럼13'] == 7) | (cluster_01_df['컬럼13'] == 6) ].index)\n",
        "for i in 컬럼13_list:\n",
        "  cluster_01_df.loc[i,'컬럼13_'] = 9\n",
        "\n",
        "컬럼13_list = list(cluster_01_df[(cluster_01_df['컬럼13'] == 5) | (cluster_01_df['컬럼13'] == 9) | (cluster_01_df['컬럼13'] == 8) ].index)\n",
        "for i in 컬럼13_list:\n",
        "  cluster_01_df.loc[i,'컬럼13_'] = 8\n",
        "\n",
        "컬럼13_list = list(cluster_01_df[(cluster_01_df['컬럼13'] == 10) ].index)\n",
        "for i in 컬럼13_list:\n",
        "  cluster_01_df.loc[i,'컬럼13_'] = 7\n",
        "\n",
        "컬럼13_list = list(cluster_01_df[(cluster_01_df['컬럼13'] == 18) | (cluster_01_df['컬럼13'] == 12) |  (cluster_01_df['컬럼13'] == 11)].index)\n",
        "for i in 컬럼13_list:\n",
        "  cluster_01_df.loc[i,'컬럼13_'] = 6\n",
        "\n",
        "컬럼13_list = list(cluster_01_df[(cluster_01_df['컬럼13'] == 15) | (cluster_01_df['컬럼13'] == 14) | (cluster_01_df['컬럼13'] == 13) | (cluster_01_df['컬럼13'] == 19)].index)\n",
        "for i in 컬럼13_list:\n",
        "  cluster_01_df.loc[i,'컬럼13_'] = 5\n",
        "\n",
        "컬럼13_list = list(cluster_01_df[(cluster_01_df['컬럼13'] == 16) | (cluster_01_df['컬럼13'] == 17)| (cluster_01_df['컬럼13'] == 4)].index)\n",
        "for i in 컬럼13_list:\n",
        "  cluster_01_df.loc[i,'컬럼13_'] = 4\n",
        "\n",
        "컬럼13_list = list(cluster_01_df[(cluster_01_df['컬럼13'] == 21) | (cluster_01_df['컬럼13'] == 20)].index)\n",
        "for i in 컬럼13_list:\n",
        "  cluster_01_df.loc[i,'컬럼13_'] = 3\n",
        "\n",
        "컬럼13_list = list(cluster_01_df[(cluster_01_df['컬럼13'] == 23) | (cluster_01_df['컬럼13'] == 22) | (cluster_01_df['컬럼13'] == 3)].index)\n",
        "for i in 컬럼13_list:\n",
        "  cluster_01_df.loc[i,'컬럼13_'] = 2\n",
        "\n",
        "컬럼13_list = list(cluster_01_df[(cluster_01_df['컬럼13'] == 1) | (cluster_01_df['컬럼13'] == 2) | (cluster_01_df['컬럼13'] == 0)].index)\n",
        "for i in 컬럼13_list:\n",
        "  cluster_01_df.loc[i,'컬럼13_'] = 1"
      ]
    },
    {
      "cell_type": "code",
      "execution_count": null,
      "metadata": {
        "id": "LOr2M3kxI3n5"
      },
      "outputs": [],
      "source": [
        "cluster_01_df.컬럼13_.value_counts()"
      ]
    },
    {
      "cell_type": "markdown",
      "metadata": {
        "id": "gq0E1OVf8gVs"
      },
      "source": [
        "## Modeling"
      ]
    },
    {
      "cell_type": "code",
      "execution_count": null,
      "metadata": {
        "id": "Ngxc6c_Z8qHB"
      },
      "outputs": [],
      "source": [
        "cluster_01_df.info()"
      ]
    },
    {
      "cell_type": "code",
      "execution_count": null,
      "metadata": {
        "id": "NENWx-LjNbxh"
      },
      "outputs": [],
      "source": [
        "cluster_01_ols = cluster_01_df.copy()\n",
        "cluster_01_cat = cluster_01_df.copy()"
      ]
    },
    {
      "cell_type": "code",
      "execution_count": null,
      "metadata": {
        "id": "921uoMeHDTsa"
      },
      "outputs": [],
      "source": [
        "from scipy import stats\n",
        "\n",
        "fig, axs = plt.subplots(1,3, figsize = (15,6))\n",
        "\n",
        "sns.histplot(cluster_01_ols[\"컬럼15\"], ax =axs[0], kde=True)\n",
        "stats.probplot(cluster_01_ols[\"컬럼15\"], dist='norm', fit=True, plot=axs[1])\n",
        "sns.histplot(np.log1p(cluster_01_ols[\"컬럼15\"]), ax=axs[2], kde=True)\n",
        "\n",
        "axs[0].set_title(\"Original 컬럼15 Histogram\")\n",
        "axs[2].set_title(\"Log Transformed 컬럼15 Histogram\")\n",
        "\n",
        "plt.show()"
      ]
    },
    {
      "cell_type": "markdown",
      "metadata": {
        "id": "QecHIwNLFhFR"
      },
      "source": [
        "## 개미 OLS base"
      ]
    },
    {
      "cell_type": "code",
      "execution_count": null,
      "metadata": {
        "id": "bjbrzR9WDu7l"
      },
      "outputs": [],
      "source": [
        "cluster_01_ols_base = cluster_01_ols.copy()"
      ]
    },
    {
      "cell_type": "code",
      "execution_count": null,
      "metadata": {
        "id": "jxP8mhq2GBEv"
      },
      "outputs": [],
      "source": [
        "cluster_01_ols_base.info()"
      ]
    },
    {
      "cell_type": "code",
      "execution_count": null,
      "metadata": {
        "id": "avWo37R_D4Cl"
      },
      "outputs": [],
      "source": [
        "# 피처 제거\n",
        "c_01_base_drop_cols = ['컬럼16',  '컬럼14', '컬럼11', '컬럼9', '컬럼8', \n",
        "                     '컬럼13_', '컬럼15_bin','Cluster_num', '컬럼7', '컬럼13_bin', '컬럼13', '컬럼12', '컬럼2', '컬럼10', '컬럼17']\n",
        "\n",
        "cluster_01_ols_base.drop(c_01_base_drop_cols, axis=1, inplace=True)\n",
        "\n",
        "\n",
        "org_SalePrice = cluster_01_ols_base[\"컬럼15\"]\n",
        "cluster_01_ols_base[\"컬럼15\"] = np.log1p(cluster_01_ols_base[\"컬럼15\"])\n",
        "\n",
        "\n",
        "cluster_01_ols_base['컬럼6'].replace({'B' : 0, 'A' : 1}, inplace=True) "
      ]
    },
    {
      "cell_type": "code",
      "execution_count": null,
      "metadata": {
        "id": "i3m4XCmu9G53"
      },
      "outputs": [],
      "source": [
        "cluster_01_ols_base.info()"
      ]
    },
    {
      "cell_type": "code",
      "execution_count": null,
      "metadata": {
        "id": "ihEAoVosIoGu"
      },
      "outputs": [],
      "source": [
        "target_01_ols_base = cluster_01_ols_base.컬럼15\n",
        "data_01_ols_base = cluster_01_ols_base.drop(columns = '컬럼15')\n",
        "data_01_ols_base = sm.add_constant(data_01_ols_base)\n",
        "\n",
        "ols_model_01_base = sm.OLS(target_01_ols_base, data_01_ols_base)\n",
        "ols_result_01_base = ols_model_01_base.fit()\n",
        "print(ols_result_01_base.summary())"
      ]
    },
    {
      "cell_type": "markdown",
      "metadata": {
        "id": "Cw0aTXWFJAB-"
      },
      "source": [
        "### VIF 지수 확인"
      ]
    },
    {
      "cell_type": "code",
      "execution_count": null,
      "metadata": {
        "id": "Sq0veU4mRJwK"
      },
      "outputs": [],
      "source": [
        "from patsy import dmatrices\n",
        "from statsmodels.stats.outliers_influence import variance_inflation_factor\n",
        "\n",
        "result1, result2 = dmatrices('컬럼15 ~ + ' + '+'.join(cluster_01_ols_base.columns),\n",
        "                             cluster_01_ols_base, return_type = 'dataframe')\n",
        "\n",
        "vif = pd.DataFrame()\n",
        "vif['VIF Factor'] = [variance_inflation_factor(result2.values, i) for i in range(result2.shape[1])]\n",
        "vif['features'] = result2.columns\n",
        "vif"
      ]
    },
    {
      "cell_type": "code",
      "execution_count": null,
      "metadata": {
        "id": "b7xtTu-NfOgo"
      },
      "outputs": [],
      "source": [
        "c_01_lr_del_vif = []\n",
        "\n",
        "for idx, row in vif.iterrows():\n",
        "  if row['VIF Factor'] >= 10:\n",
        "    c_01_lr_del_vif.append(row['features'])"
      ]
    },
    {
      "cell_type": "code",
      "execution_count": null,
      "metadata": {
        "id": "PRAI8tc9gFBp"
      },
      "outputs": [],
      "source": [
        "c_01_lr_del_vif"
      ]
    },
    {
      "cell_type": "markdown",
      "metadata": {
        "id": "S9UOBVMZPbFj"
      },
      "source": [
        "### 기본 성능"
      ]
    },
    {
      "cell_type": "code",
      "execution_count": null,
      "metadata": {
        "id": "ZCxozFT65vwF"
      },
      "outputs": [],
      "source": [
        "from sklearn.metrics import mean_squared_error \n",
        "\n",
        "target_01_ols_base = cluster_01_ols_base.컬럼15\n",
        "data_01_ols_base = cluster_01_ols_base.drop(columns = '컬럼15')\n",
        "x_train, x_test, y_train, y_test = train_test_split(data_01_ols_base, target_01_ols_base, test_size =0.3, random_state = 126)\n",
        "\n",
        "lr = LinearRegression()\n",
        "lr.fit(x_train, y_train)\n",
        "\n",
        "pred_lr = lr.predict(x_test)\n",
        "MSE_lr = mean_squared_error(y_test, pred_lr)\n",
        "np.sqrt(MSE_lr) "
      ]
    },
    {
      "cell_type": "code",
      "execution_count": null,
      "metadata": {
        "id": "pSVL_nhtMfXt"
      },
      "outputs": [],
      "source": [
        "from sklearn.metrics import r2_score\n",
        "\n",
        "r2_score(y_test, pred_lr)"
      ]
    },
    {
      "cell_type": "code",
      "execution_count": null,
      "metadata": {
        "id": "mV1JCJPQFpvi"
      },
      "outputs": [],
      "source": [
        "def adj_r2_score(y_true, y_pred, p=x_train.shape[1]):\n",
        "    return 1-(1-r2_score(y_true, y_pred)) * (len(y_true)-1) / (len(y_true) - p - 1)\n",
        "\n",
        "adj_r2_score(y_test, pred_lr)"
      ]
    },
    {
      "cell_type": "markdown",
      "metadata": {
        "id": "XaX42Q89NPCE"
      },
      "source": [
        "## 개미 OLS - Feature Engineering "
      ]
    },
    {
      "cell_type": "code",
      "execution_count": null,
      "metadata": {
        "id": "V_cySf2cNTzS"
      },
      "outputs": [],
      "source": [
        "cluster_01_ols_fe = cluster_01_ols.copy()\n",
        "cluster_01_ols_fe.info()"
      ]
    },
    {
      "cell_type": "markdown",
      "metadata": {
        "id": "7AqUhg6xNpvn"
      },
      "source": [
        "### 피쳐 추가"
      ]
    },
    {
      "cell_type": "markdown",
      "metadata": {
        "id": "fEm7nafWO5Yb"
      },
      "source": [
        "- 평일 1구간"
      ]
    },
    {
      "cell_type": "code",
      "execution_count": null,
      "metadata": {
        "id": "eYopa5SYNpFQ"
      },
      "outputs": [],
      "source": [
        "# 평일 1구간(7-10시)\n",
        "cluster_01_ols_fe['평일_1구간'] = 0\n",
        "\n",
        "컬럼13_list = list(cluster_01_ols_fe[(cluster_01_ols_fe['컬럼17'] == 0) & \n",
        "                                         (cluster_01_ols_fe['컬럼13'].between(7,9))].index)\n",
        "for i in 컬럼13_list:\n",
        "  cluster_01_ols_fe.loc[i,'평일_1구간'] = 1"
      ]
    },
    {
      "cell_type": "markdown",
      "metadata": {
        "id": "ZN8_GmXJPouS"
      },
      "source": [
        "- 평일 4구간"
      ]
    },
    {
      "cell_type": "code",
      "execution_count": null,
      "metadata": {
        "id": "SISCU6lbPoSc"
      },
      "outputs": [],
      "source": [
        "# 평일 4구간(17-20시)\n",
        "cluster_01_ols_fe['평일_4구간'] = 0\n",
        "\n",
        "컬럼13_list = list(cluster_01_ols_fe[(cluster_01_ols_fe['컬럼17']==0) & \n",
        "                                         (cluster_01_ols_fe['컬럼13'].between(17,19))].index)\n",
        "for i in 컬럼13_list:\n",
        "  preprocessed_df.loc[i,'평일_4구간'] = 1"
      ]
    },
    {
      "cell_type": "markdown",
      "metadata": {
        "id": "by8phxD1P2Iy"
      },
      "source": [
        "- 평일 5구간"
      ]
    },
    {
      "cell_type": "code",
      "execution_count": null,
      "metadata": {
        "id": "DfFRrifnP3II"
      },
      "outputs": [],
      "source": [
        "# 평일 5구간(20-23시)\n",
        "cluster_01_ols_fe['평일_5구간'] = 0\n",
        "\n",
        "컬럼13_list = list(cluster_01_ols_fe[(cluster_01_ols_fe['컬럼17']==0) & \n",
        "                                         (cluster_01_ols_fe['컬럼13'].between(20,22))].index)\n",
        "for i in 컬럼13_list:\n",
        "  cluster_01_ols_fe.loc[i,'평일_5구간'] = 1"
      ]
    },
    {
      "cell_type": "markdown",
      "metadata": {
        "id": "YXXOXM1zqgdy"
      },
      "source": [
        "- 주말 1구간"
      ]
    },
    {
      "cell_type": "code",
      "execution_count": null,
      "metadata": {
        "id": "k_rmbMp-qhwV"
      },
      "outputs": [],
      "source": [
        "# 주말 1구간(07-10시)\n",
        "cluster_01_ols_fe['주말_1구간'] = 0\n",
        "컬럼13_list = list(cluster_01_ols_fe[(cluster_01_ols_fe['컬럼17']==1) & \n",
        "                                         (cluster_01_ols_fe['컬럼13'].between(7,9))].index)\n",
        "for i in 컬럼13_list:\n",
        "  cluster_01_ols_fe.loc[i,'주말_1구간'] = 1 "
      ]
    },
    {
      "cell_type": "markdown",
      "metadata": {
        "id": "J-T8FUgTqkAn"
      },
      "source": [
        "- 주말 2구간"
      ]
    },
    {
      "cell_type": "code",
      "execution_count": null,
      "metadata": {
        "id": "mrNOAjO_qlBO"
      },
      "outputs": [],
      "source": [
        "# 주말 2구간(10-15시)\n",
        "cluster_01_ols_fe['주말_2구간'] = 0\n",
        "컬럼13_list = list(cluster_01_ols_fe[(cluster_01_ols_fe['컬럼17']==1) & \n",
        "                                             (cluster_01_ols_fe['컬럼13'].between(10,14))].index)\n",
        "for i in 컬럼13_list:\n",
        "  cluster_01_ols_fe.loc[i,'주말_2구간'] = 1"
      ]
    },
    {
      "cell_type": "markdown",
      "metadata": {
        "id": "6y1dSt7cP3UI"
      },
      "source": [
        "- 주말 3구간"
      ]
    },
    {
      "cell_type": "code",
      "execution_count": null,
      "metadata": {
        "id": "f6jsafcpP6xW"
      },
      "outputs": [],
      "source": [
        "# 주말 3구간(15-18시)\n",
        "cluster_01_ols_fe['주말_3구간'] = 0\n",
        "\n",
        "컬럼13_list = list(cluster_01_ols_fe[(cluster_01_ols_fe['컬럼17']==1) & \n",
        "                                         (cluster_01_ols_fe['컬럼13'].between(15,17))].index)\n",
        "\n",
        "for i in 컬럼13_list:\n",
        "  cluster_01_ols_fe.loc[i,'주말_3구간'] = 1"
      ]
    },
    {
      "cell_type": "code",
      "execution_count": null,
      "metadata": {
        "id": "YICON4vBNfTd"
      },
      "outputs": [],
      "source": [
        "# 피처 제거\n",
        "c_01_base_drop_cols = ['컬럼16', '컬럼3', '컬럼4', '컬럼14', '컬럼11', '컬럼9', '컬럼8', \n",
        "                     '컬럼15_G', '컬럼15_bin','Cluster_num', '컬럼7', '컬럼13_bin', '컬럼13', '컬럼12', '컬럼2', '컬럼10', '컬럼17']\n",
        "\n",
        "cluster_01_ols_fe.drop(c_01_base_drop_cols, axis=1, inplace=True)\n",
        "\n",
        "\n",
        "# 종속 변수 로그 변환\n",
        "org_SalePrice = cluster_01_ols_fe[\"컬럼15\"]\n",
        "cluster_01_ols_fe[\"컬럼15\"] = np.log1p(cluster_01_ols_fe[\"컬럼15\"])\n",
        "\n",
        "\n",
        "cluster_01_ols_fe['컬럼6'].replace({'B' : 0, 'A' : 1}, inplace=True) "
      ]
    },
    {
      "cell_type": "code",
      "execution_count": null,
      "metadata": {
        "id": "phwclCwyQZE_"
      },
      "outputs": [],
      "source": [
        "cluster_01_ols_fe.info()"
      ]
    },
    {
      "cell_type": "code",
      "execution_count": null,
      "metadata": {
        "id": "DtdGaGUFQd6W"
      },
      "outputs": [],
      "source": [
        "target_01_ols_fe = cluster_01_ols_fe.컬럼15\n",
        "data_01_ols_fe = cluster_01_ols_fe.drop(columns = '컬럼15')\n",
        "data_01_ols_fe = sm.add_constant(data_01_ols_fe)\n",
        "\n",
        "ols_model_01_fe = sm.OLS(target_01_ols_fe, data_01_ols_fe)\n",
        "ols_result_01_fe = ols_model_01_fe.fit()\n",
        "print(ols_result_01_fe.summary())"
      ]
    },
    {
      "cell_type": "code",
      "execution_count": null,
      "metadata": {
        "id": "sWXXUJVCKjTb"
      },
      "outputs": [],
      "source": [
        "result1, result2 = dmatrices('컬럼15 ~ + ' + '+'.join(cluster_01_ols_fe.columns),\n",
        "                             cluster_01_ols_fe, return_type = 'dataframe')\n",
        "\n",
        "vif = pd.DataFrame()\n",
        "vif['VIF Factor'] = [variance_inflation_factor(result2.values, i) for i in range(result2.shape[1])]\n",
        "vif['features'] = result2.columns\n",
        "vif"
      ]
    },
    {
      "cell_type": "markdown",
      "metadata": {
        "id": "HHD6cSRJQzST"
      },
      "source": [
        "### 피쳐 엔지니어링 후 성능"
      ]
    },
    {
      "cell_type": "code",
      "execution_count": null,
      "metadata": {
        "id": "02omOoJxQzEY"
      },
      "outputs": [],
      "source": [
        "from sklearn.metrics import mean_squared_error \n",
        "\n",
        "target_01_ols_fe = cluster_01_ols_fe.컬럼15\n",
        "data_01_ols_fe = cluster_01_ols_fe.drop(columns = '컬럼15')\n",
        "x_train, x_test, y_train, y_test = train_test_split(data_01_ols_fe, target_01_ols_fe, test_size =0.3, random_state = 126)\n",
        "\n",
        "lr = LinearRegression()\n",
        "lr.fit(x_train, y_train)\n",
        "\n",
        "pred_lr = lr.predict(x_test)\n",
        "MSE_lr = mean_squared_error(y_test, pred_lr)\n",
        "np.sqrt(MSE_lr) "
      ]
    },
    {
      "cell_type": "code",
      "execution_count": null,
      "metadata": {
        "id": "hNKMdiveRBkl"
      },
      "outputs": [],
      "source": [
        "from sklearn.metrics import r2_score\n",
        "\n",
        "r2_score(y_test, pred_lr)"
      ]
    },
    {
      "cell_type": "code",
      "execution_count": null,
      "metadata": {
        "id": "eJcD2o68NPEa"
      },
      "outputs": [],
      "source": [
        "adj_r2_score(y_test, pred_lr)"
      ]
    },
    {
      "cell_type": "code",
      "execution_count": null,
      "metadata": {
        "id": "RBEJcKfxYvmU"
      },
      "outputs": [],
      "source": [
        "# 상위, 하위 10개 coefficients 추출\n",
        "def get_top_bottom_coef(model):\n",
        "    # coef series\n",
        "    coef = pd.Series(model.coef_, index = data_01_ols_fe.columns)\n",
        "    \n",
        "    coef_high = coef.sort_values(ascending=False).head(10)\n",
        "    coef_low = coef.sort_values(ascending=False).tail(10)\n",
        "    return coef_high, coef_low\n",
        "\n",
        "# 회귀 계수 시각화\n",
        "def visualize_coefficient(models, xlim=None):\n",
        "    plt.figure(figsize=(15 , 10))\n",
        "    fig.tight_layout()\n",
        "    \n",
        "    for i, model in enumerate(models):\n",
        "        coef_high, coef_low = get_top_bottom_coef(model)\n",
        "        coef_concat = pd.concat( [coef_high , coef_low], axis=0 )\n",
        "        \n",
        "        axs[i].set_title(model.__class__.__name__ , size=25, x= 0.9, y= 0.1)\n",
        "        # axs[i].tick_params(axis=\"y\", direction=\"in\", pad=-120) # tick label 위치 조정\n",
        "        \n",
        "        # font size 조정\n",
        "        for label in (axs[i].get_xticklabels() + axs[i].get_yticklabels()):\n",
        "            label.set_fontsize(22)\n",
        "        \n",
        "        # x축 범위\n",
        "        if xlim:\n",
        "            axs[i].set_xlim(xlim)\n",
        "        \n",
        "        sns.barplot(x=coef_concat.values, y=coef_concat.index)"
      ]
    },
    {
      "cell_type": "code",
      "execution_count": null,
      "metadata": {
        "id": "OifcmIGKYwa1"
      },
      "outputs": [],
      "source": [
        "visualize_coefficient([lr])"
      ]
    },
    {
      "cell_type": "markdown",
      "metadata": {
        "id": "b9_yzgS53_X-"
      },
      "source": [
        "## 개미 Catboost Regression"
      ]
    },
    {
      "cell_type": "code",
      "execution_count": null,
      "metadata": {
        "id": "ZhIBwUprNKf_"
      },
      "outputs": [],
      "source": [
        "cluster_01_cat_fe = cluster_01_cat.copy()"
      ]
    },
    {
      "cell_type": "code",
      "execution_count": null,
      "metadata": {
        "id": "XhEEFMmmR5R8"
      },
      "outputs": [],
      "source": [
        "# 평일 1구간(7-10시)\n",
        "cluster_01_cat_fe['평일_1구간'] = 0\n",
        "\n",
        "컬럼13_list = list(cluster_01_cat_fe[(cluster_01_cat_fe['컬럼17'] == 0) & \n",
        "                                         (cluster_01_cat_fe['컬럼13'].between(7,9))].index)\n",
        "for i in 컬럼13_list:\n",
        "  cluster_01_cat_fe.loc[i,'평일_1구간'] = 1\n",
        "\n",
        "# 평일 4구간(17-20시)\n",
        "cluster_01_cat_fe['평일_4구간'] = 0\n",
        "\n",
        "컬럼13_list = list(cluster_01_cat_fe[(cluster_01_cat_fe['컬럼17']==0) & \n",
        "                                         (cluster_01_cat_fe['컬럼13'].between(17,19))].index)\n",
        "for i in 컬럼13_list:\n",
        "  cluster_01_cat_fe.loc[i,'평일_4구간'] = 1\n",
        "\n",
        "# 평일 5구간(20-23시)\n",
        "cluster_01_cat_fe['평일_5구간'] = 0\n",
        "\n",
        "컬럼13_list = list(cluster_01_cat_fe[(cluster_01_cat_fe['컬럼17']==0) & \n",
        "                                         (cluster_01_cat_fe['컬럼13'].between(20,22))].index)\n",
        "for i in 컬럼13_list:\n",
        "  cluster_01_cat_fe.loc[i,'평일_5구간'] = 1\n",
        "\n",
        "# 주말 3구간(15-18시)\n",
        "cluster_01_cat_fe['주말_3구간'] = 0\n",
        "\n",
        "컬럼13_list = list(cluster_01_cat_fe[(cluster_01_cat_fe['컬럼17']==1) & \n",
        "                                         (cluster_01_cat_fe['컬럼13'].between(15,17))].index)\n",
        "\n",
        "for i in 컬럼13_list:\n",
        "  cluster_01_cat_fe.loc[i,'주말_3구간'] = 1\n",
        "\n",
        "# 주말 1구간(07-10시)\n",
        "cluster_01_cat_fe['주말_1구간'] = 0\n",
        "컬럼13_list = list(cluster_01_cat_fe[(cluster_01_cat_fe['컬럼17']==1) & \n",
        "                                         (cluster_01_cat_fe['컬럼13'].between(7,9))].index)\n",
        "for i in 컬럼13_list:\n",
        "  cluster_01_cat_fe.loc[i,'주말_1구간'] = 1 \n",
        "\n",
        "# 주말 2구간(10-15시)\n",
        "cluster_01_cat_fe['주말_2구간'] = 0\n",
        "컬럼13_list = list(cluster_01_cat_fe[(cluster_01_cat_fe['컬럼17']==1) & \n",
        "                                             (cluster_01_cat_fe['컬럼13'].between(10,14))].index)\n",
        "for i in 컬럼13_list:\n",
        "  cluster_01_cat_fe.loc[i,'주말_2구간'] = 1"
      ]
    },
    {
      "cell_type": "code",
      "execution_count": null,
      "metadata": {
        "id": "7z91Ufu2yOBx"
      },
      "outputs": [],
      "source": [
        "from sklearn.preprocessing import LabelEncoder\n",
        "\n",
        "cols = ['컬럼6']\n",
        "for col in cols:\n",
        "    le = LabelEncoder()\n",
        "    cluster_01_cat_fe[col] = le.fit_transform(cluster_01_cat_fe[col])"
      ]
    },
    {
      "cell_type": "code",
      "execution_count": null,
      "metadata": {
        "id": "HiEpeHAKNVCi"
      },
      "outputs": [],
      "source": [
        "drop_cols_01_cat = ['컬럼3', '컬럼4', 'Cluster_num',\n",
        "                    '컬럼14', '컬럼11', '컬럼13', '컬럼12', '컬럼7', '컬럼16', '컬럼8', '컬럼9', '컬럼15_G',\n",
        "                    '컬럼13_bin', '컬럼15_bin', '컬럼10', '컬럼17', '컬럼2']\n",
        "\n",
        "cluster_01_cat_fe.drop(drop_cols_01_cat, axis=1, inplace=True)"
      ]
    },
    {
      "cell_type": "code",
      "execution_count": null,
      "metadata": {
        "id": "NMNwsRzeNX9H"
      },
      "outputs": [],
      "source": [
        "target_01_cat = cluster_01_cat_fe['컬럼15']\n",
        "data_df_01_cat = cluster_01_cat_fe.drop(columns = '컬럼15')\n",
        "x_train, x_test, y_train, y_test = train_test_split(data_df_01_cat, target_01_cat, test_size =0.3, random_state = 126)"
      ]
    },
    {
      "cell_type": "code",
      "execution_count": null,
      "metadata": {
        "id": "HcOgq4TcUKxH"
      },
      "outputs": [],
      "source": [
        "cluster_01_cat_fe.info()"
      ]
    },
    {
      "cell_type": "code",
      "execution_count": null,
      "metadata": {
        "id": "6oaqrcjURsx5"
      },
      "outputs": [],
      "source": [
        "cat_01 = CatBoostRegressor(random_state=126, \n",
        "                           learning_rate = 0.01, max_depth = 8, n_estimators = 800, min_child_samples= 8)\n",
        "evals = [(x_test, y_test)]"
      ]
    },
    {
      "cell_type": "code",
      "execution_count": null,
      "metadata": {
        "id": "-nwXf4fLSMpQ"
      },
      "outputs": [],
      "source": [
        "cat_01.fit(x_train, y_train,  verbose=False)\n",
        "pred_cat_01 = cat_01.predict(x_test)\n",
        "\n",
        "MSE_cat_01 = mean_squared_error(y_test, pred_cat_01) \n",
        "np.sqrt(MSE_cat_01)"
      ]
    },
    {
      "cell_type": "code",
      "execution_count": null,
      "metadata": {
        "id": "F1EIVVxuWdft"
      },
      "outputs": [],
      "source": [
        "r2_score(y_test, pred_cat_01)"
      ]
    },
    {
      "cell_type": "code",
      "execution_count": null,
      "metadata": {
        "id": "kP4YgH_zNgpf"
      },
      "outputs": [],
      "source": [
        "adj_r2_score(y_test, pred_cat_01)"
      ]
    },
    {
      "cell_type": "code",
      "execution_count": null,
      "metadata": {
        "id": "b5szvssxSZgZ"
      },
      "outputs": [],
      "source": [
        "def plot_features_importances(model, features):\n",
        "  n_features = features.shape[1]\n",
        "  plt.figure(figsize=(10, 8))\n",
        "  plt.barh(np.arange(n_features), sorted(model.feature_importances_), align = 'center')\n",
        "  plt.yticks(np.arange(n_features), features.columns)\n",
        "  plt.xlabel('Catboost Cluster01 Feature importances')\n",
        "  plt.ylabel('Features')\n",
        "  plt.ylim(-1, n_features)"
      ]
    },
    {
      "cell_type": "code",
      "execution_count": null,
      "metadata": {
        "id": "GTwULt4RZHsH"
      },
      "outputs": [],
      "source": [
        "plot_features_importances(cat_01, data_df_01_cat)"
      ]
    },
    {
      "cell_type": "markdown",
      "metadata": {
        "id": "niqr74CYgOrx"
      },
      "source": [
        "# 개미와 베짱이 군집 - 베짱이 Modeling"
      ]
    },
    {
      "cell_type": "code",
      "execution_count": null,
      "metadata": {
        "id": "NVj9aXSgAdL_"
      },
      "outputs": [],
      "source": [
        "cluster_02_df = cluster_02.copy()"
      ]
    },
    {
      "cell_type": "markdown",
      "metadata": {
        "id": "fp0QNAphAWTZ"
      },
      "source": [
        "## feature 그룹화"
      ]
    },
    {
      "cell_type": "code",
      "execution_count": null,
      "metadata": {
        "id": "dc44Ko0HAqPf"
      },
      "outputs": [],
      "source": [
        "컬럼7_list = list(cluster_02_df[(cluster_02_df['컬럼7'] == 'CI') ].index)\n",
        "for i in 컬럼7_list:\n",
        "  cluster_02_df.loc[i,'컬럼7그룹'] = 4\n",
        "\n",
        "컬럼7_list = list(cluster_02_df[(cluster_02_df['컬럼7'] == 'CJ') | (cluster_02_df['컬럼7'] == 'CE')].index)\n",
        "for i in 컬럼7_list:\n",
        "  cluster_02_df.loc[i,'컬럼7그룹'] = 3\n",
        "\n",
        "컬럼7_list = list(cluster_02_df[ (cluster_02_df['컬럼7'] == 'CC')].index)\n",
        "for i in 컬럼7_list:\n",
        "  cluster_02_df.loc[i,'컬럼7그룹'] = 2\n",
        "\n",
        "컬럼7_list = list(cluster_02_df[ (cluster_02_df['컬럼7'] == 'CF')].index)\n",
        "for i in 컬럼7_list:\n",
        "  cluster_02_df.loc[i,'컬럼7그룹'] = 1"
      ]
    },
    {
      "cell_type": "code",
      "execution_count": null,
      "metadata": {
        "id": "F0dpdUaVjycV"
      },
      "outputs": [],
      "source": [
        "cluster_02_df.컬럼7그룹.value_counts()"
      ]
    },
    {
      "cell_type": "code",
      "execution_count": null,
      "metadata": {
        "id": "eW_Cmt_cBIQ5"
      },
      "outputs": [],
      "source": [
        "컬럼10_list = list(cluster_02_df[(cluster_02_df['컬럼10'] == 12) ].index)\n",
        "for i in 컬럼10_list:\n",
        "  cluster_02_df.loc[i,'컬럼10_'] = 6\n",
        "\n",
        "컬럼10_list = list(cluster_02_df[(cluster_02_df['컬럼10'] == 5) ].index)\n",
        "for i in 컬럼10_list:\n",
        "  cluster_02_df.loc[i,'컬럼10_'] = 5\n",
        "\n",
        "컬럼10_list = list(cluster_02_df[(cluster_02_df['컬럼10'] == 1)].index)\n",
        "for i in 컬럼10_list:\n",
        "  cluster_02_df.loc[i,'컬럼10_'] = 4\n",
        "\n",
        "컬럼10_list = list(cluster_02_df[(cluster_02_df['컬럼10'] == 6) | (cluster_02_df['컬럼10'] == 7)].index)\n",
        "for i in 컬럼10_list:\n",
        "  cluster_02_df.loc[i,'컬럼10_'] = 3\n",
        "\n",
        "컬럼10_list = list(cluster_02_df[(cluster_02_df['컬럼10'] ==2) | (cluster_02_df['컬럼10'] == 8) | (cluster_02_df['컬럼10'] == 10) | (cluster_02_df['컬럼10'] == 3)].index)\n",
        "for i in 컬럼10_list:\n",
        "  cluster_02_df.loc[i,'컬럼10_'] = 2\n",
        "\n",
        "컬럼10_list = list(cluster_02_df[(cluster_02_df['컬럼10'] == 9) | (cluster_02_df['컬럼10'] == 4) | (cluster_02_df['컬럼10'] == 11)].index)\n",
        "for i in 컬럼10_list:\n",
        "  cluster_02_df.loc[i,'컬럼10_'] = 1"
      ]
    },
    {
      "cell_type": "code",
      "execution_count": null,
      "metadata": {
        "id": "0eUx0TI4jvd2"
      },
      "outputs": [],
      "source": [
        "cluster_02_df.컬럼10_.value_counts()"
      ]
    },
    {
      "cell_type": "code",
      "execution_count": null,
      "metadata": {
        "id": "FeDZXDlcBnFr"
      },
      "outputs": [],
      "source": [
        "컬럼12_list = list(cluster_02_df[(cluster_02_df['컬럼12'] == 5)].index)\n",
        "for i in 컬럼12_list:\n",
        "  cluster_02_df.loc[i,'컬럼12_'] = 4\n",
        "\n",
        "컬럼12_list = list(cluster_02_df[(cluster_02_df['컬럼12'] == 4) ].index)\n",
        "for i in 컬럼12_list:\n",
        "  cluster_02_df.loc[i,'컬럼12_'] = 3\n",
        "\n",
        "컬럼12_list = list(cluster_02_df[(cluster_02_df['컬럼12'] == 2) | (cluster_02_df['컬럼12'] == 0) |(cluster_02_df['컬럼12'] == 3) | (cluster_02_df['컬럼12'] == 6)].index)\n",
        "for i in 컬럼12_list:\n",
        "  cluster_02_df.loc[i,'컬럼12_'] = 2\n",
        "\n",
        "컬럼12_list = list(cluster_02_df[(cluster_02_df['컬럼12'] == 1) ].index)\n",
        "for i in 컬럼12_list:\n",
        "  cluster_02_df.loc[i,'컬럼12_'] = 1"
      ]
    },
    {
      "cell_type": "code",
      "execution_count": null,
      "metadata": {
        "id": "LS7kjt03jqDW"
      },
      "outputs": [],
      "source": [
        "cluster_02_df.컬럼12_.value_counts()"
      ]
    },
    {
      "cell_type": "code",
      "execution_count": null,
      "metadata": {
        "id": "jAybQxR7iV1Z"
      },
      "outputs": [],
      "source": [
        "컬럼13_list = list(cluster_02_df[(cluster_02_df['컬럼13'] == 7) ].index)\n",
        "for i in 컬럼13_list:\n",
        "  cluster_02_df.loc[i,'컬럼13_'] = 9\n",
        "\n",
        "컬럼13_list = list(cluster_02_df[(cluster_02_df['컬럼13'] == 8) ].index)\n",
        "for i in 컬럼13_list:\n",
        "  cluster_02_df.loc[i,'컬럼13_'] = 8\n",
        "\n",
        "컬럼13_list = list(cluster_02_df[(cluster_02_df['컬럼13'] == 5)  | (cluster_02_df['컬럼13'] == 13) | (cluster_02_df['컬럼13'] == 9)  ].index)\n",
        "for i in 컬럼13_list:\n",
        "  cluster_02_df.loc[i,'컬럼13_'] = 7\n",
        "\n",
        "컬럼13_list = list(cluster_02_df[(cluster_02_df['컬럼13'] == 10) |  (cluster_02_df['컬럼13'] == 11)].index)\n",
        "for i in 컬럼13_list:\n",
        "  cluster_02_df.loc[i,'컬럼13_'] = 6\n",
        "\n",
        "컬럼13_list = list(cluster_02_df[(cluster_02_df['컬럼13'] == 6) | (cluster_02_df['컬럼13'] == 12)| (cluster_02_df['컬럼13'] == 19) | (cluster_02_df['컬럼13'] == 15) | (cluster_02_df['컬럼13'] == 14)].index)\n",
        "for i in 컬럼13_list:\n",
        "  cluster_02_df.loc[i,'컬럼13_'] = 5\n",
        "\n",
        "컬럼13_list = list(cluster_02_df[(cluster_02_df['컬럼13'] == 17) | (cluster_02_df['컬럼13'] == 20)].index)\n",
        "for i in 컬럼13_list:\n",
        "  cluster_02_df.loc[i,'컬럼13_'] = 4\n",
        "\n",
        "컬럼13_list = list(cluster_02_df[(cluster_02_df['컬럼13'] == 18) | (cluster_02_df['컬럼13'] == 21) | (cluster_02_df['컬럼13'] == 22) | (cluster_02_df['컬럼13'] == 16)].index)\n",
        "for i in 컬럼13_list:\n",
        "  cluster_02_df.loc[i,'컬럼13_'] = 3\n",
        "\n",
        "컬럼13_list = list(cluster_02_df[(cluster_02_df['컬럼13'] == 23)  | (cluster_02_df['컬럼13'] == 3)].index)\n",
        "for i in 컬럼13_list:\n",
        "  cluster_02_df.loc[i,'컬럼13_'] = 2\n",
        "\n",
        "컬럼13_list = list(cluster_02_df[(cluster_02_df['컬럼13'] == 1) | (cluster_02_df['컬럼13'] == 2) | (cluster_02_df['컬럼13'] == 0) | (cluster_02_df['컬럼13'] == 4)].index)\n",
        "for i in 컬럼13_list:\n",
        "  cluster_02_df.loc[i,'컬럼13_'] = 1"
      ]
    },
    {
      "cell_type": "code",
      "execution_count": null,
      "metadata": {
        "id": "tHfmXwsWjkxJ"
      },
      "outputs": [],
      "source": [
        "cluster_02_df.컬럼13_.value_counts()"
      ]
    },
    {
      "cell_type": "markdown",
      "metadata": {
        "id": "QOIyOVpDB49Z"
      },
      "source": [
        "## Modeling"
      ]
    },
    {
      "cell_type": "code",
      "execution_count": null,
      "metadata": {
        "id": "wLYh0xZ-aDKH"
      },
      "outputs": [],
      "source": [
        "cluster_02_ols = cluster_02_df.copy()\n",
        "cluster_02_cat = cluster_02_df.copy()"
      ]
    },
    {
      "cell_type": "code",
      "execution_count": null,
      "metadata": {
        "id": "mA1uIWYSaCXq"
      },
      "outputs": [],
      "source": [
        "from scipy import stats\n",
        "\n",
        "fig, axs = plt.subplots(1,3, figsize = (15,6))\n",
        "\n",
        "sns.histplot(cluster_02_ols[\"컬럼15\"], ax =axs[0], kde=True)\n",
        "stats.probplot(cluster_02_ols[\"컬럼15\"], dist='norm', fit=True, plot=axs[1])\n",
        "sns.histplot(np.log1p(cluster_02_ols[\"컬럼15\"]), ax=axs[2], kde=True)\n",
        "\n",
        "axs[0].set_title(\"Original 컬럼15 Histogram\")\n",
        "axs[2].set_title(\"Log Transformed 컬럼15 Histogram\")\n",
        "\n",
        "plt.show()"
      ]
    },
    {
      "cell_type": "markdown",
      "metadata": {
        "id": "uJcByJkxb3nt"
      },
      "source": [
        "## 베짱이 OLS base"
      ]
    },
    {
      "cell_type": "code",
      "execution_count": null,
      "metadata": {
        "id": "3v3xUo3rb-yI"
      },
      "outputs": [],
      "source": [
        "cluster_02_ols_base = cluster_02_ols.copy()"
      ]
    },
    {
      "cell_type": "code",
      "execution_count": null,
      "metadata": {
        "id": "OwyfoGMwcDf2"
      },
      "outputs": [],
      "source": [
        "cluster_02_ols_base.info()"
      ]
    },
    {
      "cell_type": "code",
      "execution_count": null,
      "metadata": {
        "id": "863rmSDKj4l7"
      },
      "outputs": [],
      "source": [
        "cluster_02_ols_base.isnull().sum()"
      ]
    },
    {
      "cell_type": "code",
      "execution_count": null,
      "metadata": {
        "id": "3ti-jrVycepq"
      },
      "outputs": [],
      "source": [
        "# 피처 제거\n",
        "c_02_base_drop_cols = ['컬럼16', '컬럼3', '컬럼4', '컬럼14', '컬럼11', '컬럼9', '컬럼8', \n",
        "                     '컬럼15_G', '컬럼15_bin','Cluster_num', '컬럼7', '컬럼13_bin', '컬럼13', '컬럼12', '컬럼2', '컬럼10', '컬럼17']\n",
        "\n",
        "cluster_02_ols_base.drop(c_02_base_drop_cols, axis=1, inplace=True)\n",
        "\n",
        "\n",
        "# 종속 변수 로그 변환\n",
        "org_SalePrice = cluster_02_ols_base[\"컬럼15\"]\n",
        "cluster_02_ols_base[\"컬럼15\"] = np.log1p(cluster_02_ols_base[\"컬럼15\"])\n",
        "\n",
        "\n",
        "cluster_02_ols_base['컬럼6'].replace({'B' : 0, 'A' : 1}, inplace=True) "
      ]
    },
    {
      "cell_type": "code",
      "execution_count": null,
      "metadata": {
        "id": "SPACdW0yco3_"
      },
      "outputs": [],
      "source": [
        "target_02_ols_base = cluster_02_ols_base.컬럼15\n",
        "data_02_ols_base = cluster_02_ols_base.drop(columns = '컬럼15')\n",
        "data_02_ols_base = sm.add_constant(data_02_ols_base)\n",
        "\n",
        "ols_model_02_base = sm.OLS(target_02_ols_base, data_02_ols_base)\n",
        "ols_result_02_base = ols_model_02_base.fit()\n",
        "print(ols_result_02_base.summary())"
      ]
    },
    {
      "cell_type": "markdown",
      "metadata": {
        "id": "mFeaK4qPdHbZ"
      },
      "source": [
        "### VIF 지수 확인"
      ]
    },
    {
      "cell_type": "code",
      "execution_count": null,
      "metadata": {
        "id": "DIA3FAlOjzYW"
      },
      "outputs": [],
      "source": [
        "result1, result2 = dmatrices('컬럼15 ~ + ' + '+'.join(cluster_02_ols_base.columns),\n",
        "                             cluster_02_ols_base, return_type = 'dataframe')\n",
        "\n",
        "vif = pd.DataFrame()\n",
        "vif['VIF Factor'] = [variance_inflation_factor(result2.values, i) for i in range(result2.shape[1])]\n",
        "vif['features'] = result2.columns\n",
        "print(vif)"
      ]
    },
    {
      "cell_type": "code",
      "execution_count": null,
      "metadata": {
        "id": "79Uh8CT5kAaF"
      },
      "outputs": [],
      "source": [
        "c_02_del_vif = []\n",
        "\n",
        "for idx, row in vif.iterrows():\n",
        "  if row['VIF Factor'] >= 10:\n",
        "    c_02_del_vif.append(row['features'])"
      ]
    },
    {
      "cell_type": "code",
      "execution_count": null,
      "metadata": {
        "id": "KFOOKQFjkORO"
      },
      "outputs": [],
      "source": [
        "c_02_del_vif"
      ]
    },
    {
      "cell_type": "markdown",
      "metadata": {
        "id": "oae_6CqyR5eC"
      },
      "source": [
        "### 기본 성능"
      ]
    },
    {
      "cell_type": "code",
      "execution_count": null,
      "metadata": {
        "id": "CKWJlDEOR1ky"
      },
      "outputs": [],
      "source": [
        "from sklearn.metrics import mean_squared_error \n",
        "\n",
        "target_02_ols_base = cluster_02_ols_base.컬럼15\n",
        "data_02_ols_base = cluster_02_ols_base.drop(columns = '컬럼15')\n",
        "x_train, x_test, y_train, y_test = train_test_split(data_02_ols_base, target_02_ols_base, test_size =0.3, random_state = 126)\n",
        "\n",
        "lr = LinearRegression()\n",
        "lr.fit(x_train, y_train)\n",
        "\n",
        "pred_lr = lr.predict(x_test)\n",
        "MSE_lr = mean_squared_error(y_test, pred_lr)\n",
        "np.sqrt(MSE_lr) "
      ]
    },
    {
      "cell_type": "code",
      "execution_count": null,
      "metadata": {
        "id": "NzLNKqI0SKGy"
      },
      "outputs": [],
      "source": [
        "r2_score(y_test, pred_lr)"
      ]
    },
    {
      "cell_type": "code",
      "execution_count": null,
      "metadata": {
        "id": "ah3qG9T9SOAt"
      },
      "outputs": [],
      "source": [
        "adj_r2_score(y_test, pred_lr)"
      ]
    },
    {
      "cell_type": "markdown",
      "metadata": {
        "id": "31ZNtL3zeAJi"
      },
      "source": [
        "## 베짱이 OLS - Feature Engineering"
      ]
    },
    {
      "cell_type": "code",
      "execution_count": null,
      "metadata": {
        "id": "9DLooa3ZeDqD"
      },
      "outputs": [],
      "source": [
        "cluster_02_ols_fe = cluster_02_ols.copy()\n",
        "cluster_02_ols_fe.info()"
      ]
    },
    {
      "cell_type": "markdown",
      "metadata": {
        "id": "K80Cbn7CeQL0"
      },
      "source": [
        "### 피쳐 추가"
      ]
    },
    {
      "cell_type": "code",
      "execution_count": null,
      "metadata": {
        "id": "FTT92du7eQ-3"
      },
      "outputs": [],
      "source": [
        "# 평일 2구간(10-13시)\n",
        "cluster_02_ols_fe['평일_2구간'] = 0\n",
        "컬럼13_list = list(cluster_02_ols_fe[(cluster_02_ols_fe['컬럼17']==0) & \n",
        "                                         (cluster_02_ols_fe['컬럼13'].between(10,12))].index)\n",
        "for i in 컬럼13_list:\n",
        "  cluster_02_ols_fe.loc[i,'평일_2구간'] = 1\n",
        "\n",
        "\n",
        "# 주말 1구간(07-10시)\n",
        "cluster_02_ols_fe['주말_1구간'] = 0\n",
        "컬럼13_list = list(cluster_02_ols_fe[(cluster_02_ols_fe['컬럼17']==1) & \n",
        "                                         (cluster_02_ols_fe['컬럼13'].between(7,9))].index)\n",
        "for i in 컬럼13_list:\n",
        "  cluster_02_ols_fe.loc[i,'주말_1구간'] = 1\n",
        "\n",
        "\n",
        "# 주말 4구간(18-23시)\n",
        "cluster_02_ols_fe['주말_4구간'] = 0\n",
        "컬럼13_list = list(cluster_02_ols_fe[(cluster_02_ols_fe['컬럼17']==1) & \n",
        "                                         (cluster_02_ols_fe['컬럼13'].between(18,22))].index)\n",
        "for i in 컬럼13_list:\n",
        "  cluster_02_ols_fe.loc[i,'주말_4구간'] = 1"
      ]
    },
    {
      "cell_type": "code",
      "execution_count": null,
      "metadata": {
        "id": "a9U-tHEFfJHs"
      },
      "outputs": [],
      "source": [
        "# 피처 제거\n",
        "c_02_base_drop_cols = ['컬럼16', '컬럼3', '컬럼4', '컬럼14', '컬럼11', '컬럼9', '컬럼8', \n",
        "                     '컬럼15_G', '컬럼15_bin','Cluster_num', '컬럼7', '컬럼13_bin', '컬럼13', '컬럼12', '컬럼2', '컬럼10', '컬럼17']\n",
        "\n",
        "cluster_02_ols_fe.drop(c_02_base_drop_cols, axis=1, inplace=True)\n",
        "\n",
        "\n",
        "# 종속 변수 로그 변환\n",
        "org_SalePrice = cluster_02_ols_fe[\"컬럼15\"]\n",
        "cluster_02_ols_fe[\"컬럼15\"] = np.log1p(cluster_02_ols_fe[\"컬럼15\"])\n",
        "\n",
        "\n",
        "cluster_02_ols_fe['컬럼6'].replace({'B' : 0, 'A' : 1}, inplace=True) "
      ]
    },
    {
      "cell_type": "code",
      "execution_count": null,
      "metadata": {
        "id": "dn6BuOdHfYEu"
      },
      "outputs": [],
      "source": [
        "cluster_02_ols_fe.info()"
      ]
    },
    {
      "cell_type": "code",
      "execution_count": null,
      "metadata": {
        "id": "5tjZZPF_fYBB"
      },
      "outputs": [],
      "source": [
        "target_02_ols_fe = cluster_02_ols_fe.컬럼15\n",
        "data_02_ols_fe = cluster_02_ols_fe.drop(columns = '컬럼15')\n",
        "data_02_ols_fe = sm.add_constant(data_02_ols_fe)\n",
        "\n",
        "ols_model_02_fe = sm.OLS(target_02_ols_fe, data_02_ols_fe)\n",
        "ols_result_02_fe = ols_model_02_fe.fit()\n",
        "print(ols_result_02_fe.summary())"
      ]
    },
    {
      "cell_type": "markdown",
      "metadata": {
        "id": "_vtSElL9fdc-"
      },
      "source": [
        "### 피쳐 엔지니어링 후 성능"
      ]
    },
    {
      "cell_type": "code",
      "execution_count": null,
      "metadata": {
        "id": "3S0A8qZNfX-H"
      },
      "outputs": [],
      "source": [
        "target_02_ols_fe = cluster_02_ols_fe.컬럼15\n",
        "data_02_ols_fe = cluster_02_ols_fe.drop(columns = '컬럼15')\n",
        "x_train, x_test, y_train, y_test = train_test_split(data_02_ols_fe, target_02_ols_fe, test_size =0.3, random_state = 126)\n",
        "\n",
        "lr = LinearRegression()\n",
        "lr.fit(x_train, y_train)\n",
        "\n",
        "pred_lr = lr.predict(x_test)\n",
        "MSE_lr = mean_squared_error(y_test, pred_lr)\n",
        "np.sqrt(MSE_lr) "
      ]
    },
    {
      "cell_type": "code",
      "execution_count": null,
      "metadata": {
        "id": "EgRP7peXf2Il"
      },
      "outputs": [],
      "source": [
        "from sklearn.metrics import r2_score\n",
        "\n",
        "r2_score(y_test, pred_lr)"
      ]
    },
    {
      "cell_type": "code",
      "execution_count": null,
      "metadata": {
        "id": "JENm1gSHRjvJ"
      },
      "outputs": [],
      "source": [
        "adj_r2_score(y_test, pred_lr)"
      ]
    },
    {
      "cell_type": "code",
      "execution_count": null,
      "metadata": {
        "id": "RyGi96KUgVSS"
      },
      "outputs": [],
      "source": [
        "# 상위, 하위 10개 coefficients 추출\n",
        "def get_top_bottom_coef(model):\n",
        "    # coef series\n",
        "    coef = pd.Series(model.coef_, index = data_02_ols_fe.columns)\n",
        "    \n",
        "    coef_high = coef.sort_values(ascending=False).head(10)\n",
        "    coef_low = coef.sort_values(ascending=False).tail(10)\n",
        "    return coef_high, coef_low\n",
        "\n",
        "visualize_coefficient([lr])"
      ]
    },
    {
      "cell_type": "markdown",
      "metadata": {
        "id": "bJF7i_TtgeEa"
      },
      "source": [
        "## 베짱이 Catboost Regression"
      ]
    },
    {
      "cell_type": "code",
      "execution_count": null,
      "metadata": {
        "id": "_QAJwWcZggwG"
      },
      "outputs": [],
      "source": [
        "cluster_02_cat_fe = cluster_02_cat.copy()"
      ]
    },
    {
      "cell_type": "code",
      "execution_count": null,
      "metadata": {
        "id": "kZhtGPCCglvn"
      },
      "outputs": [],
      "source": [
        "# 평일 2구간(10-13시)\n",
        "cluster_02_cat_fe['평일_2구간'] = 0\n",
        "컬럼13_list = list(cluster_02_cat_fe[(cluster_02_cat_fe['컬럼17']==0) & \n",
        "                                         (cluster_02_cat_fe['컬럼13'].between(10,12))].index)\n",
        "for i in 컬럼13_list:\n",
        "  cluster_02_cat_fe.loc[i,'평일_2구간'] = 1\n",
        "\n",
        "\n",
        "# 주말 1구간(07-10시)\n",
        "cluster_02_cat_fe['주말_1구간'] = 0\n",
        "컬럼13_list = list(cluster_02_cat_fe[(cluster_02_cat_fe['컬럼17']==1) & \n",
        "                                         (cluster_02_cat_fe['컬럼13'].between(7,9))].index)\n",
        "for i in 컬럼13_list:\n",
        "  cluster_02_cat_fe.loc[i,'주말_1구간'] = 1\n",
        "\n",
        "\n",
        "# 주말 4구간(18-23시)\n",
        "cluster_02_cat_fe['주말_4구간'] = 0\n",
        "컬럼13_list = list(cluster_02_cat_fe[(cluster_02_cat_fe['컬럼17']==1) & \n",
        "                                         (cluster_02_cat_fe['컬럼13'].between(18,22))].index)\n",
        "for i in 컬럼13_list:\n",
        "  cluster_02_cat_fe.loc[i,'주말_4구간'] = 1"
      ]
    },
    {
      "cell_type": "code",
      "execution_count": null,
      "metadata": {
        "id": "_D4EbGwSgx4Z"
      },
      "outputs": [],
      "source": [
        "from sklearn.preprocessing import LabelEncoder\n",
        "\n",
        "cols = ['컬럼6']\n",
        "for col in cols:\n",
        "    le = LabelEncoder()\n",
        "    cluster_02_cat_fe[col] = le.fit_transform(cluster_02_cat_fe[col])"
      ]
    },
    {
      "cell_type": "code",
      "execution_count": null,
      "metadata": {
        "id": "Zy5WLEQhg0vl"
      },
      "outputs": [],
      "source": [
        "drop_cols_02_cat = ['컬럼3', '컬럼4', 'Cluster_num',\n",
        "                    '컬럼14', '컬럼11', '컬럼13', '컬럼12', '컬럼7', '컬럼16', '컬럼8', '컬럼9', '컬럼15_G',\n",
        "                    '컬럼13_bin', '컬럼15_bin', '컬럼10', '컬럼17', '컬럼2']\n",
        "\n",
        "cluster_02_cat_fe.drop(drop_cols_02_cat, axis=1, inplace=True)"
      ]
    },
    {
      "cell_type": "code",
      "execution_count": null,
      "metadata": {
        "id": "PwDJ7N8Mg6fm"
      },
      "outputs": [],
      "source": [
        "target_02_cat = cluster_02_cat_fe['컬럼15']\n",
        "data_df_02_cat = cluster_02_cat_fe.drop(columns = '컬럼15')\n",
        "x_train, x_test, y_train, y_test = train_test_split(data_df_02_cat, target_02_cat, test_size =0.3, random_state = 126)"
      ]
    },
    {
      "cell_type": "code",
      "execution_count": null,
      "metadata": {
        "id": "GdXIGU_ig_Jt"
      },
      "outputs": [],
      "source": [
        "cat_02 = CatBoostRegressor(random_state=126, \n",
        "                           learning_rate = 0.01, max_depth = 4, n_estimators = 400, min_child_samples= 8)\n",
        "evals = [(x_test, y_test)]"
      ]
    },
    {
      "cell_type": "code",
      "execution_count": null,
      "metadata": {
        "id": "eOv61y6fhC7P"
      },
      "outputs": [],
      "source": [
        "cat_02.fit(x_train, y_train,  verbose=False)\n",
        "pred_cat_02 = cat_02.predict(x_test)\n",
        "\n",
        "MSE_cat_02 = mean_squared_error(y_test, pred_cat_02) \n",
        "np.sqrt(MSE_cat_02)"
      ]
    },
    {
      "cell_type": "code",
      "execution_count": null,
      "metadata": {
        "id": "4HMGj3hwhWCc"
      },
      "outputs": [],
      "source": [
        "r2_score(y_test, pred_cat_02)"
      ]
    },
    {
      "cell_type": "code",
      "execution_count": null,
      "metadata": {
        "id": "8nju8UJURhXg"
      },
      "outputs": [],
      "source": [
        "adj_r2_score(y_test, pred_cat_02)"
      ]
    },
    {
      "cell_type": "code",
      "execution_count": null,
      "metadata": {
        "id": "tKejAQCvhdfT"
      },
      "outputs": [],
      "source": [
        "plot_features_importances(cat_02, data_df_02_cat)"
      ]
    },
    {
      "cell_type": "markdown",
      "metadata": {
        "id": "1lIpanSOkj-T"
      },
      "source": [
        "# 달팽이 군집 Modeling\n"
      ]
    },
    {
      "cell_type": "code",
      "execution_count": null,
      "metadata": {
        "id": "opdG5wbYCfN7"
      },
      "outputs": [],
      "source": [
        "cluster_1_df = cluster_1.copy()"
      ]
    },
    {
      "cell_type": "markdown",
      "metadata": {
        "id": "Uz0HhZUoCHr-"
      },
      "source": [
        "## feature 그룹화"
      ]
    },
    {
      "cell_type": "code",
      "execution_count": null,
      "metadata": {
        "id": "ICODluqICOM0"
      },
      "outputs": [],
      "source": [
        "컬럼7_list = list(cluster_1_df[(cluster_1_df['컬럼7'] == 'CA') | (cluster_1_df['컬럼7'] == 'CL')].index)\n",
        "for i in 컬럼7_list:\n",
        "  cluster_1_df.loc[i,'컬럼7그룹'] = 5\n",
        "\n",
        "컬럼7_list = list(cluster_1_df[ (cluster_1_df['컬럼7'] == 'CK')].index)\n",
        "for i in 컬럼7_list:\n",
        "  cluster_1_df.loc[i,'컬럼7그룹'] = 4\n",
        "\n",
        "컬럼7_list = list(cluster_1_df[(cluster_1_df['컬럼7'] == 'CF') | (cluster_1_df['컬럼7'] == 'CG') | (cluster_1_df['컬럼7'] == 'CD') ].index)\n",
        "for i in 컬럼7_list:\n",
        "  cluster_1_df.loc[i,'컬럼7그룹'] = 3\n",
        "\n",
        "컬럼7_list = list(cluster_1_df[(cluster_1_df['컬럼7'] == 'CI') | (cluster_1_df['컬럼7'] == 'CC')].index)\n",
        "for i in 컬럼7_list:\n",
        "  cluster_1_df.loc[i,'컬럼7그룹'] = 2\n",
        "\n",
        "컬럼7_list = list(cluster_1_df[(cluster_1_df['컬럼7'] == 'CJ') | (cluster_1_df['컬럼7'] == 'CE')].index)\n",
        "for i in 컬럼7_list:\n",
        "  cluster_1_df.loc[i,'컬럼7그룹'] = 1"
      ]
    },
    {
      "cell_type": "code",
      "execution_count": null,
      "metadata": {
        "id": "pUkFsF33Co2S"
      },
      "outputs": [],
      "source": [
        "컬럼10_list = list(cluster_1_df[(cluster_1_df['컬럼10'] == 12) ].index)\n",
        "for i in 컬럼10_list:\n",
        "  cluster_1_df.loc[i,'컬럼10_'] = 6\n",
        "\n",
        "컬럼10_list = list(cluster_1_df[(cluster_1_df['컬럼10'] == 7) | (cluster_1_df['컬럼10'] == 8)].index)\n",
        "for i in 컬럼10_list:\n",
        "  cluster_1_df.loc[i,'컬럼10_'] = 5\n",
        "\n",
        "컬럼10_list = list(cluster_1_df[(cluster_1_df['컬럼10'] == 9) | (cluster_1_df['컬럼10'] == 6) | (cluster_1_df['컬럼10'] == 10)| (cluster_1_df['컬럼10'] == 11)].index)\n",
        "for i in 컬럼10_list:\n",
        "  cluster_1_df.loc[i,'컬럼10_'] = 4\n",
        "\n",
        "컬럼10_list = list(cluster_1_df[(cluster_1_df['컬럼10'] == 4) | (cluster_1_df['컬럼10'] == 5)].index)\n",
        "for i in 컬럼10_list:\n",
        "  cluster_1_df.loc[i,'컬럼10_'] = 3\n",
        "\n",
        "컬럼10_list = list(cluster_1_df[(cluster_1_df['컬럼10'] ==2) | (cluster_1_df['컬럼10'] == 3)].index)\n",
        "for i in 컬럼10_list:\n",
        "  cluster_1_df.loc[i,'컬럼10_'] = 2\n",
        "\n",
        "컬럼10_list = list(cluster_1_df[(cluster_1_df['컬럼10'] == 1)].index)\n",
        "for i in 컬럼10_list:\n",
        "  cluster_1_df.loc[i,'컬럼10_'] = 1"
      ]
    },
    {
      "cell_type": "code",
      "execution_count": null,
      "metadata": {
        "id": "FE7KhGkkDEqb"
      },
      "outputs": [],
      "source": [
        "컬럼12_list = list(cluster_1_df[(cluster_1_df['컬럼12'] == 5)].index)\n",
        "for i in 컬럼12_list:\n",
        "  cluster_1_df.loc[i,'컬럼12_'] = 4\n",
        "\n",
        "컬럼12_list = list(cluster_1_df[(cluster_1_df['컬럼12'] == 4) ].index)\n",
        "for i in 컬럼12_list:\n",
        "  cluster_1_df.loc[i,'컬럼12_'] = 3\n",
        "\n",
        "컬럼12_list = list(cluster_1_df[(cluster_1_df['컬럼12'] == 2) | (cluster_1_df['컬럼12'] == 0) |(cluster_1_df['컬럼12'] == 3) | (cluster_1_df['컬럼12'] == 1)].index)\n",
        "for i in 컬럼12_list:\n",
        "  cluster_1_df.loc[i,'컬럼12_'] = 2\n",
        "\n",
        "컬럼12_list = list(cluster_1_df[(cluster_1_df['컬럼12'] == 6) ].index)\n",
        "for i in 컬럼12_list:\n",
        "  cluster_1_df.loc[i,'컬럼12_'] = 1"
      ]
    },
    {
      "cell_type": "code",
      "execution_count": null,
      "metadata": {
        "id": "gWfy4HLOkYpR"
      },
      "outputs": [],
      "source": [
        "컬럼2_list = list(cluster_1_df[(cluster_1_df['컬럼2'] == 'ABB')].index)\n",
        "for i in 컬럼2_list:\n",
        "  cluster_1_df.loc[i,'컬럼2분류'] = 1\n",
        "\n",
        "컬럼2_list = list(cluster_1_df[(cluster_1_df['컬럼2'] == 'ABE')].index)\n",
        "for i in 컬럼2_list:\n",
        "  cluster_1_df.loc[i,'컬럼2분류'] = 2\n",
        "\n",
        "컬럼2_list = list(cluster_1_df[(cluster_1_df['컬럼2'] == 'ABA')].index)\n",
        "for i in 컬럼2_list:\n",
        "  cluster_1_df.loc[i,'컬럼2분류'] = 3\n",
        "\n",
        "컬럼2_list = list(cluster_1_df[(cluster_1_df['컬럼2'] == 'ABD')].index)\n",
        "for i in 컬럼2_list:\n",
        "  cluster_1_df.loc[i,'컬럼2분류'] = 4\n",
        "\n",
        "컬럼2_list = list(cluster_1_df[(cluster_1_df['컬럼2'] == 'ABC')].index)\n",
        "for i in 컬럼2_list:\n",
        "  cluster_1_df.loc[i,'컬럼2분류'] = 5"
      ]
    },
    {
      "cell_type": "code",
      "execution_count": null,
      "metadata": {
        "id": "mzWUKGock6q4"
      },
      "outputs": [],
      "source": [
        "컬럼13_list = list(cluster_1_df[(cluster_1_df['컬럼13'] == 6) | (cluster_1_df['컬럼13'] == 7) ].index)\n",
        "for i in 컬럼13_list:\n",
        "  cluster_1_df.loc[i,'컬럼13_'] = 9\n",
        "\n",
        "컬럼13_list = list(cluster_1_df[(cluster_1_df['컬럼13'] == 5)  | (cluster_1_df['컬럼13'] == 8) | (cluster_1_df['컬럼13'] == 10) | (cluster_1_df['컬럼13'] == 9) ].index)\n",
        "for i in 컬럼13_list:\n",
        "  cluster_1_df.loc[i,'컬럼13_'] = 8\n",
        "\n",
        "컬럼13_list = list(cluster_1_df[(cluster_1_df['컬럼13'] == 12) | (cluster_1_df['컬럼13'] == 11)  ].index)\n",
        "for i in 컬럼13_list:\n",
        "  cluster_1_df.loc[i,'컬럼13_'] = 7\n",
        "\n",
        "컬럼13_list = list(cluster_1_df[(cluster_1_df['컬럼13'] == 18) | (cluster_1_df['컬럼13'] == 13)].index)\n",
        "for i in 컬럼13_list:\n",
        "  cluster_1_df.loc[i,'컬럼13_'] = 6\n",
        "\n",
        "컬럼13_list = list(cluster_1_df[ (cluster_1_df['컬럼13'] == 19) | (cluster_1_df['컬럼13'] == 15) | (cluster_1_df['컬럼13'] == 14)].index)\n",
        "for i in 컬럼13_list:\n",
        "  cluster_1_df.loc[i,'컬럼13_'] = 5\n",
        "\n",
        "컬럼13_list = list(cluster_1_df[(cluster_1_df['컬럼13'] == 17) | (cluster_1_df['컬럼13'] == 20)| (cluster_1_df['컬럼13'] == 16)].index)\n",
        "for i in 컬럼13_list:\n",
        "  cluster_1_df.loc[i,'컬럼13_'] = 4\n",
        "\n",
        "컬럼13_list = list(cluster_1_df[(cluster_1_df['컬럼13'] == 21) | (cluster_1_df['컬럼13'] == 4) ].index)\n",
        "for i in 컬럼13_list:\n",
        "  cluster_1_df.loc[i,'컬럼13_'] = 3\n",
        "\n",
        "컬럼13_list = list(cluster_1_df[(cluster_1_df['컬럼13'] == 23)  | (cluster_1_df['컬럼13'] == 22)].index)\n",
        "for i in 컬럼13_list:\n",
        "  cluster_1_df.loc[i,'컬럼13_'] = 2\n",
        "\n",
        "컬럼13_list = list(cluster_1_df[(cluster_1_df['컬럼13'] == 1) | (cluster_1_df['컬럼13'] == 2) | (cluster_1_df['컬럼13'] == 0) | (cluster_1_df['컬럼13'] == 3)].index)\n",
        "for i in 컬럼13_list:\n",
        "  cluster_1_df.loc[i,'컬럼13_'] = 1"
      ]
    },
    {
      "cell_type": "markdown",
      "metadata": {
        "id": "YQx23J7rDXMY"
      },
      "source": [
        "## Modeling"
      ]
    },
    {
      "cell_type": "code",
      "execution_count": null,
      "metadata": {
        "id": "2eySpZdUiGpZ"
      },
      "outputs": [],
      "source": [
        "cluster_1_ols = cluster_1_df.copy()\n",
        "cluster_1_cat = cluster_1_df.copy()"
      ]
    },
    {
      "cell_type": "code",
      "execution_count": null,
      "metadata": {
        "id": "_HCrWJQUiRLz"
      },
      "outputs": [],
      "source": [
        "fig, axs = plt.subplots(1,3, figsize = (15,6))\n",
        "\n",
        "sns.histplot(cluster_1_ols[\"컬럼15\"], ax =axs[0], kde=True)\n",
        "stats.probplot(cluster_1_ols[\"컬럼15\"], dist='norm', fit=True, plot=axs[1])\n",
        "sns.histplot(np.log1p(cluster_1_ols[\"컬럼15\"]), ax=axs[2], kde=True)\n",
        "\n",
        "axs[0].set_title(\"Original 컬럼15 Histogram\")\n",
        "axs[2].set_title(\"Log Transformed 컬럼15 Histogram\")\n",
        "\n",
        "plt.show()"
      ]
    },
    {
      "cell_type": "markdown",
      "metadata": {
        "id": "59zNPqzoifr4"
      },
      "source": [
        "## 달팽이 OLS base"
      ]
    },
    {
      "cell_type": "code",
      "execution_count": null,
      "metadata": {
        "id": "ezN_fHq0idyC"
      },
      "outputs": [],
      "source": [
        "cluster_1_ols_base = cluster_1_ols.copy()"
      ]
    },
    {
      "cell_type": "code",
      "execution_count": null,
      "metadata": {
        "id": "PN5TKGXfi2ch"
      },
      "outputs": [],
      "source": [
        "cluster_1_ols_base.info()"
      ]
    },
    {
      "cell_type": "code",
      "execution_count": null,
      "metadata": {
        "id": "rVSqYzuai683"
      },
      "outputs": [],
      "source": [
        "# 피처 제거\n",
        "c_1_base_drop_cols = ['컬럼16', '컬럼3', '컬럼4', '컬럼14', '컬럼11', '컬럼9', '컬럼8', \n",
        "                     '컬럼15_G', '컬럼15_bin','Cluster_num', '컬럼7', '컬럼13_bin', '컬럼13', '컬럼12', '컬럼2', '컬럼10', '컬럼17']\n",
        "\n",
        "cluster_1_ols_base.drop(c_1_base_drop_cols, axis=1, inplace=True)\n",
        "\n",
        "\n",
        "# 종속 변수 로그 변환\n",
        "org_SalePrice = cluster_1_ols_base[\"컬럼15\"]\n",
        "cluster_1_ols_base[\"컬럼15\"] = np.log1p(cluster_1_ols_base[\"컬럼15\"])\n",
        "\n",
        "\n",
        "cluster_1_ols_base['컬럼6'].replace({'B' : 0, 'A' : 1}, inplace=True) "
      ]
    },
    {
      "cell_type": "code",
      "execution_count": null,
      "metadata": {
        "id": "v_xjTX6Oi64j"
      },
      "outputs": [],
      "source": [
        "target_1_ols_base = cluster_1_ols_base.컬럼15\n",
        "data_1_ols_base = cluster_1_ols_base.drop(columns = '컬럼15')\n",
        "data_1_ols_base = sm.add_constant(data_1_ols_base)\n",
        "\n",
        "ols_model_1_base = sm.OLS(target_1_ols_base, data_1_ols_base)\n",
        "ols_result_1_base = ols_model_1_base.fit()\n",
        "print(ols_result_1_base.summary())"
      ]
    },
    {
      "cell_type": "markdown",
      "metadata": {
        "id": "YUufL7PAlqfH"
      },
      "source": [
        "### VIF 지수 확인"
      ]
    },
    {
      "cell_type": "code",
      "execution_count": null,
      "metadata": {
        "id": "Y1P6sxX_i6x2"
      },
      "outputs": [],
      "source": [
        "result1, result2 = dmatrices('컬럼15 ~ + ' + '+'.join(cluster_1_ols_base.columns),\n",
        "                             cluster_1_ols_base, return_type = 'dataframe')\n",
        "\n",
        "vif = pd.DataFrame()\n",
        "vif['VIF Factor'] = [variance_inflation_factor(result2.values, i) for i in range(result2.shape[1])]\n",
        "vif['features'] = result2.columns\n",
        "print(vif)"
      ]
    },
    {
      "cell_type": "code",
      "execution_count": null,
      "metadata": {
        "id": "NqVBi-oBi6ub"
      },
      "outputs": [],
      "source": [
        "c_1_lr_del_vif = []\n",
        "\n",
        "for idx, row in vif.iterrows():\n",
        "  if row['VIF Factor'] >= 10:\n",
        "    c_1_lr_del_vif.append(row['features'])"
      ]
    },
    {
      "cell_type": "code",
      "execution_count": null,
      "metadata": {
        "id": "GX_Hf2yQl4Ur"
      },
      "outputs": [],
      "source": [
        "c_1_lr_del_vif"
      ]
    },
    {
      "cell_type": "markdown",
      "metadata": {
        "id": "JGh3pyh4Uglv"
      },
      "source": [
        "### 기본 성능"
      ]
    },
    {
      "cell_type": "code",
      "execution_count": null,
      "metadata": {
        "id": "pZ3yO-AZUf2_"
      },
      "outputs": [],
      "source": [
        "target_1_ols_base = cluster_1_ols_base.컬럼15\n",
        "data_1_ols_base = cluster_1_ols_base.drop(columns = '컬럼15')\n",
        "x_train, x_test, y_train, y_test = train_test_split(data_1_ols_base, target_1_ols_base, test_size =0.3, random_state = 126)\n",
        "\n",
        "lr = LinearRegression()\n",
        "lr.fit(x_train, y_train)\n",
        "\n",
        "pred_lr = lr.predict(x_test)\n",
        "MSE_lr = mean_squared_error(y_test, pred_lr)\n",
        "np.sqrt(MSE_lr) "
      ]
    },
    {
      "cell_type": "code",
      "execution_count": null,
      "metadata": {
        "id": "CBUJYoNLUvab"
      },
      "outputs": [],
      "source": [
        "r2_score(y_test, pred_lr)"
      ]
    },
    {
      "cell_type": "code",
      "execution_count": null,
      "metadata": {
        "id": "0UoJjB9BUtWw"
      },
      "outputs": [],
      "source": [
        "adj_r2_score(y_test, pred_lr)"
      ]
    },
    {
      "cell_type": "markdown",
      "metadata": {
        "id": "BlGb2w4Wl99_"
      },
      "source": [
        "## 달팽이 OLS - Feature Engineering"
      ]
    },
    {
      "cell_type": "code",
      "execution_count": null,
      "metadata": {
        "id": "YLLq_-qjl6LF"
      },
      "outputs": [],
      "source": [
        "cluster_1_ols_fe = cluster_1_ols.copy()\n",
        "cluster_1_ols_fe.info()"
      ]
    },
    {
      "cell_type": "markdown",
      "metadata": {
        "id": "aT9Qe9F2mL_W"
      },
      "source": [
        "### 피쳐 추가"
      ]
    },
    {
      "cell_type": "code",
      "execution_count": null,
      "metadata": {
        "id": "sVmwD3wumI97"
      },
      "outputs": [],
      "source": [
        "# 평일 1구간(7-10시)\n",
        "cluster_1_ols_fe['평일_1구간'] = 0\n",
        "\n",
        "컬럼13_list = list(cluster_1_ols_fe[(cluster_1_ols_fe['컬럼17'] == 0) & \n",
        "                                        (cluster_1_ols_fe['컬럼13'].between(7,9))].index)\n",
        "for i in 컬럼13_list:\n",
        "  cluster_1_ols_fe.loc[i,'평일_1구간'] = 1\n",
        "\n",
        "# 평일 5구간(20-23시)\n",
        "cluster_1_ols_fe['평일_5구간'] = 0\n",
        "컬럼13_list = list(cluster_1_ols_fe[(cluster_1_ols_fe['컬럼17']==0) & \n",
        "                                        (cluster_1_ols_fe['컬럼13'].between(20,22))].index)\n",
        "for i in 컬럼13_list:\n",
        "  cluster_1_ols_fe.loc[i,'평일_5구간'] = 1"
      ]
    },
    {
      "cell_type": "code",
      "execution_count": null,
      "metadata": {
        "id": "K1OObL2Cm1-G"
      },
      "outputs": [],
      "source": [
        "# 피처 제거\n",
        "c_1_base_drop_cols = ['컬럼16', '컬럼3', '컬럼4', '컬럼14', '컬럼11', '컬럼9', '컬럼8', \n",
        "                     '컬럼15_G', '컬럼15_bin','Cluster_num', '컬럼7', '컬럼13_bin', '컬럼13', '컬럼12', '컬럼2', '컬럼10', '컬럼17']\n",
        "\n",
        "cluster_1_ols_fe.drop(c_1_base_drop_cols, axis=1, inplace=True)\n",
        "\n",
        "\n",
        "# 종속 변수 로그 변환\n",
        "org_SalePrice = cluster_1_ols_fe[\"컬럼15\"]\n",
        "cluster_1_ols_fe[\"컬럼15\"] = np.log1p(cluster_1_ols_fe[\"컬럼15\"])\n",
        "\n",
        "\n",
        "cluster_1_ols_fe['컬럼6'].replace({'B' : 0, 'A' : 1}, inplace=True) "
      ]
    },
    {
      "cell_type": "code",
      "execution_count": null,
      "metadata": {
        "id": "ntMqhMGrmI3C"
      },
      "outputs": [],
      "source": [
        "cluster_1_ols_fe.info()"
      ]
    },
    {
      "cell_type": "code",
      "execution_count": null,
      "metadata": {
        "id": "6OE9qyBTmIz-"
      },
      "outputs": [],
      "source": [
        "target_1_ols_fe = cluster_1_ols_fe.컬럼15\n",
        "data_1_ols_fe = cluster_1_ols_fe.drop(columns = '컬럼15')\n",
        "data_1_ols_fe = sm.add_constant(data_1_ols_fe)\n",
        "\n",
        "ols_model_1_fe = sm.OLS(target_1_ols_fe, data_1_ols_fe)\n",
        "ols_result_1_fe = ols_model_1_fe.fit()\n",
        "print(ols_result_1_fe.summary())"
      ]
    },
    {
      "cell_type": "markdown",
      "metadata": {
        "id": "Ms7Gc9V1nlBX"
      },
      "source": [
        "### 피쳐 엔지니어링 후 성능"
      ]
    },
    {
      "cell_type": "code",
      "execution_count": null,
      "metadata": {
        "id": "QxmEbRD3mIxi"
      },
      "outputs": [],
      "source": [
        "target_1_ols_fe = cluster_1_ols_fe.컬럼15\n",
        "data_1_ols_fe = cluster_1_ols_fe.drop(columns = '컬럼15')\n",
        "x_train, x_test, y_train, y_test = train_test_split(data_1_ols_fe, target_1_ols_fe, test_size =0.3, random_state = 126)\n",
        "\n",
        "lr = LinearRegression()\n",
        "lr.fit(x_train, y_train)\n",
        "\n",
        "pred_lr = lr.predict(x_test)\n",
        "MSE_lr = mean_squared_error(y_test, pred_lr)\n",
        "np.sqrt(MSE_lr) "
      ]
    },
    {
      "cell_type": "code",
      "execution_count": null,
      "metadata": {
        "id": "TNiZWvYfmIu0"
      },
      "outputs": [],
      "source": [
        "r2_score(y_test, pred_lr)"
      ]
    },
    {
      "cell_type": "code",
      "execution_count": null,
      "metadata": {
        "id": "9J6t_pmlVJew"
      },
      "outputs": [],
      "source": [
        "adj_r2_score(y_test, pred_lr)"
      ]
    },
    {
      "cell_type": "code",
      "execution_count": null,
      "metadata": {
        "id": "XC2xCd16n1R6"
      },
      "outputs": [],
      "source": [
        "# 상위, 하위 10개 coefficients 추출\n",
        "def get_top_bottom_coef(model):\n",
        "    # coef series\n",
        "    coef = pd.Series(model.coef_, index = data_1_ols_fe.columns)\n",
        "    \n",
        "    coef_high = coef.sort_values(ascending=False).head(10)\n",
        "    coef_low = coef.sort_values(ascending=False).tail(10)\n",
        "    return coef_high, coef_low\n",
        "\n",
        "visualize_coefficient([lr])"
      ]
    },
    {
      "cell_type": "markdown",
      "metadata": {
        "id": "B61hUUK5n-7y"
      },
      "source": [
        "## 달팽이 Catboost Regression"
      ]
    },
    {
      "cell_type": "code",
      "execution_count": null,
      "metadata": {
        "id": "51n7yzv6oCl7"
      },
      "outputs": [],
      "source": [
        "cluster_1_cat_fe = cluster_1_cat.copy()"
      ]
    },
    {
      "cell_type": "code",
      "execution_count": null,
      "metadata": {
        "id": "Ag_8d_froCjb"
      },
      "outputs": [],
      "source": [
        "# 평일 1구간(7-10시)\n",
        "cluster_1_cat_fe['평일_1구간'] = 0\n",
        "\n",
        "컬럼13_list = list(cluster_1_cat_fe[(cluster_1_cat_fe['컬럼17'] == 0) & \n",
        "                                        (cluster_1_cat_fe['컬럼13'].between(7,9))].index)\n",
        "for i in 컬럼13_list:\n",
        "  cluster_1_cat_fe.loc[i,'평일_1구간'] = 1\n",
        "\n",
        "# 평일 5구간(20-23시)\n",
        "cluster_1_cat_fe['평일_5구간'] = 0\n",
        "컬럼13_list = list(cluster_1_cat_fe[(cluster_1_cat_fe['컬럼17']==0) & \n",
        "                                        (cluster_1_cat_fe['컬럼13'].between(20,22))].index)\n",
        "for i in 컬럼13_list:\n",
        "  cluster_1_cat_fe.loc[i,'평일_5구간'] = 1"
      ]
    },
    {
      "cell_type": "code",
      "execution_count": null,
      "metadata": {
        "id": "9dlfHxxwoLse"
      },
      "outputs": [],
      "source": [
        "from sklearn.preprocessing import LabelEncoder\n",
        "\n",
        "cols = ['컬럼6']\n",
        "for col in cols:\n",
        "    le = LabelEncoder()\n",
        "    cluster_1_cat_fe[col] = le.fit_transform(cluster_1_cat_fe[col])"
      ]
    },
    {
      "cell_type": "code",
      "execution_count": null,
      "metadata": {
        "id": "qXY_enjnoPij"
      },
      "outputs": [],
      "source": [
        "drop_cols_1_cat = ['컬럼3', '컬럼4', 'Cluster_num',\n",
        "                    '컬럼14', '컬럼11', '컬럼13', '컬럼12', '컬럼7', '컬럼16', '컬럼8', '컬럼9', '컬럼15_G',\n",
        "                    '컬럼13_bin', '컬럼15_bin', '컬럼10', '컬럼17', '컬럼2']\n",
        "\n",
        "cluster_1_cat_fe.drop(drop_cols_1_cat, axis=1, inplace=True)"
      ]
    },
    {
      "cell_type": "code",
      "execution_count": null,
      "metadata": {
        "id": "wdYWe6vFoPba"
      },
      "outputs": [],
      "source": [
        "target_1_cat = cluster_1_cat_fe['컬럼15']\n",
        "data_df_1_cat = cluster_1_cat_fe.drop(columns = '컬럼15')\n",
        "x_train, x_test, y_train, y_test = train_test_split(data_df_1_cat, target_1_cat, test_size =0.3, random_state = 126)"
      ]
    },
    {
      "cell_type": "code",
      "execution_count": null,
      "metadata": {
        "id": "zoOlM-fBoPZQ"
      },
      "outputs": [],
      "source": [
        "cat_1 = CatBoostRegressor(random_state=126, \n",
        "                          learning_rate = 0.01, max_depth = 8, n_estimators = 600, min_child_samples= 8)\n",
        "evals = [(x_test, y_test)]"
      ]
    },
    {
      "cell_type": "code",
      "execution_count": null,
      "metadata": {
        "id": "gxNkC9Hxoloi"
      },
      "outputs": [],
      "source": [
        "cat_1.fit(x_train, y_train,  verbose=False)\n",
        "pred_cat_1 = cat_1.predict(x_test)\n",
        "\n",
        "MSE_cat_1 = mean_squared_error(y_test, pred_cat_1) \n",
        "np.sqrt(MSE_cat_1)"
      ]
    },
    {
      "cell_type": "code",
      "execution_count": null,
      "metadata": {
        "id": "uXjlbM1QolmE"
      },
      "outputs": [],
      "source": [
        "r2_score(y_test, pred_cat_1)"
      ]
    },
    {
      "cell_type": "code",
      "execution_count": null,
      "metadata": {
        "id": "WezttZJ3WMnB"
      },
      "outputs": [],
      "source": [
        "adj_r2_score(y_test, pred_cat_1)"
      ]
    },
    {
      "cell_type": "code",
      "execution_count": null,
      "metadata": {
        "id": "XvuNvPyfoljz"
      },
      "outputs": [],
      "source": [
        "plot_features_importances(cat_1, data_df_1_cat)"
      ]
    },
    {
      "cell_type": "markdown",
      "metadata": {
        "id": "5YarExSJmpWk"
      },
      "source": [
        "# 꿀벌 군집 Modeling\n"
      ]
    },
    {
      "cell_type": "code",
      "execution_count": null,
      "metadata": {
        "id": "5vhzDqO7Dfdb"
      },
      "outputs": [],
      "source": [
        "cluster_2_df = cluster_2.copy()"
      ]
    },
    {
      "cell_type": "markdown",
      "metadata": {
        "id": "PPzpaAY_Dfur"
      },
      "source": [
        "## feature 그룹화"
      ]
    },
    {
      "cell_type": "code",
      "execution_count": null,
      "metadata": {
        "id": "xy8bEUp8Dlen"
      },
      "outputs": [],
      "source": [
        "컬럼7_list = list(cluster_2_df[ (cluster_2_df['컬럼7'] == 'CL')].index)\n",
        "for i in 컬럼7_list:\n",
        "  cluster_2_df.loc[i,'컬럼7그룹'] = 5\n",
        "\n",
        "컬럼7_list = list(cluster_2_df[(cluster_2_df['컬럼7'] == 'CA') | (cluster_2_df['컬럼7'] == 'CD')].index)\n",
        "for i in 컬럼7_list:\n",
        "  cluster_2_df.loc[i,'컬럼7그룹'] = 4\n",
        "\n",
        "컬럼7_list = list(cluster_2_df[(cluster_2_df['컬럼7'] == 'CF') | (cluster_2_df['컬럼7'] == 'CG') | (cluster_2_df['컬럼7'] == 'CK') ].index)\n",
        "for i in 컬럼7_list:\n",
        "  cluster_2_df.loc[i,'컬럼7그룹'] = 3\n",
        "\n",
        "컬럼7_list = list(cluster_2_df[(cluster_2_df['컬럼7'] == 'CI') | (cluster_2_df['컬럼7'] == 'CC')].index)\n",
        "for i in 컬럼7_list:\n",
        "  cluster_2_df.loc[i,'컬럼7그룹'] = 2\n",
        "\n",
        "컬럼7_list = list(cluster_2_df[(cluster_2_df['컬럼7'] == 'CJ') | (cluster_2_df['컬럼7'] == 'CE')].index)\n",
        "for i in 컬럼7_list:\n",
        "  cluster_2_df.loc[i,'컬럼7그룹'] = 1"
      ]
    },
    {
      "cell_type": "code",
      "execution_count": null,
      "metadata": {
        "id": "rc6fBXQZDlrd"
      },
      "outputs": [],
      "source": [
        "컬럼10_list = list(cluster_2_df[(cluster_2_df['컬럼10'] == 12) ].index)\n",
        "for i in 컬럼10_list:\n",
        "  cluster_2_df.loc[i,'컬럼10_'] = 6\n",
        "\n",
        "컬럼10_list = list(cluster_2_df[(cluster_2_df['컬럼10'] == 7) ].index)\n",
        "for i in 컬럼10_list:\n",
        "  cluster_2_df.loc[i,'컬럼10_'] = 5\n",
        "\n",
        "컬럼10_list = list(cluster_2_df[(cluster_2_df['컬럼10'] == 8) | (cluster_2_df['컬럼10'] == 6)].index)\n",
        "for i in 컬럼10_list:\n",
        "  cluster_2_df.loc[i,'컬럼10_'] = 4\n",
        "\n",
        "컬럼10_list = list(cluster_2_df[ (cluster_2_df['컬럼10'] == 9) | (cluster_2_df['컬럼10'] == 5)  | (cluster_2_df['컬럼10'] == 10)| (cluster_2_df['컬럼10'] == 11)].index)\n",
        "for i in 컬럼10_list:\n",
        "  cluster_2_df.loc[i,'컬럼10_'] = 3\n",
        "\n",
        "컬럼10_list = list(cluster_2_df[(cluster_2_df['컬럼10'] ==2) | (cluster_2_df['컬럼10'] == 4)].index)\n",
        "for i in 컬럼10_list:\n",
        "  cluster_2_df.loc[i,'컬럼10_'] = 2\n",
        "\n",
        "컬럼10_list = list(cluster_2_df[(cluster_2_df['컬럼10'] == 1) | (cluster_2_df['컬럼10'] == 3)].index)\n",
        "for i in 컬럼10_list:\n",
        "  cluster_2_df.loc[i,'컬럼10_'] = 1"
      ]
    },
    {
      "cell_type": "code",
      "execution_count": null,
      "metadata": {
        "id": "arbGumotDhIG"
      },
      "outputs": [],
      "source": [
        "컬럼12_list = list(cluster_2_df[(cluster_2_df['컬럼12'] == 5)].index)\n",
        "for i in 컬럼12_list:\n",
        "  cluster_2_df.loc[i,'컬럼12_'] = 4\n",
        "\n",
        "컬럼12_list = list(cluster_2_df[(cluster_2_df['컬럼12'] == 4) ].index)\n",
        "for i in 컬럼12_list:\n",
        "  cluster_2_df.loc[i,'컬럼12_'] = 3\n",
        "\n",
        "컬럼12_list = list(cluster_2_df[(cluster_2_df['컬럼12'] == 2) | (cluster_2_df['컬럼12'] == 0) |(cluster_2_df['컬럼12'] == 3) | (cluster_2_df['컬럼12'] == 1)].index)\n",
        "for i in 컬럼12_list:\n",
        "  cluster_2_df.loc[i,'컬럼12_'] = 2\n",
        "\n",
        "컬럼12_list = list(cluster_2_df[(cluster_2_df['컬럼12'] == 6) ].index)\n",
        "for i in 컬럼12_list:\n",
        "  cluster_2_df.loc[i,'컬럼12_'] = 1"
      ]
    },
    {
      "cell_type": "code",
      "execution_count": null,
      "metadata": {
        "id": "PMGprWuYl3zj"
      },
      "outputs": [],
      "source": [
        "컬럼2_list = list(cluster_2_df[(cluster_2_df['컬럼2'] == 'ACD') | (cluster_2_df['컬럼2'] == 'ACA')].index)\n",
        "for i in 컬럼2_list:\n",
        "  cluster_2_df.loc[i,'컬럼2분류'] = 1\n",
        "\n",
        "컬럼2_list = list(cluster_2_df[(cluster_2_df['컬럼2'] == 'ACB')].index)\n",
        "for i in 컬럼2_list:\n",
        "  cluster_2_df.loc[i,'컬럼2분류'] = 2\n",
        "\n",
        "컬럼2_list = list(cluster_2_df[(cluster_2_df['컬럼2'] == 'ACC')].index)\n",
        "for i in 컬럼2_list:\n",
        "  cluster_2_df.loc[i,'컬럼2분류'] = 3\n",
        "\n",
        "컬럼2_list = list(cluster_2_df[(cluster_2_df['컬럼2'] == 'ACE')].index)\n",
        "for i in 컬럼2_list:\n",
        "  cluster_2_df.loc[i,'컬럼2분류'] = 4"
      ]
    },
    {
      "cell_type": "code",
      "execution_count": null,
      "metadata": {
        "id": "eAAyK066nAIS"
      },
      "outputs": [],
      "source": [
        "컬럼13_list = list(cluster_2_df[(cluster_2_df['컬럼13'] == 6) ].index)\n",
        "for i in 컬럼13_list:\n",
        "  cluster_2_df.loc[i,'컬럼13_'] = 9\n",
        "\n",
        "컬럼13_list = list(cluster_2_df[(cluster_2_df['컬럼13'] == 7) ].index)\n",
        "for i in 컬럼13_list:\n",
        "  cluster_2_df.loc[i,'컬럼13_'] = 8\n",
        "\n",
        "컬럼13_list = list(cluster_2_df[ (cluster_2_df['컬럼13'] == 8) ].index)\n",
        "for i in 컬럼13_list:\n",
        "  cluster_2_df.loc[i,'컬럼13_'] = 7\n",
        "\n",
        "컬럼13_list = list(cluster_2_df[(cluster_2_df['컬럼13'] == 5)   | (cluster_2_df['컬럼13'] == 10) | (cluster_2_df['컬럼13'] == 9) ].index)\n",
        "for i in 컬럼13_list:\n",
        "  cluster_2_df.loc[i,'컬럼13_'] = 6\n",
        "\n",
        "컬럼13_list = list(cluster_2_df[ (cluster_2_df['컬럼13'] == 12) | (cluster_2_df['컬럼13'] == 11)  ].index)\n",
        "for i in 컬럼13_list:\n",
        "  cluster_2_df.loc[i,'컬럼13_'] = 5\n",
        "\n",
        "컬럼13_list = list(cluster_2_df[(cluster_2_df['컬럼13'] == 18) | (cluster_2_df['컬럼13'] == 13) | (cluster_2_df['컬럼13'] == 20)| (cluster_2_df['컬럼13'] == 16)].index)\n",
        "for i in 컬럼13_list:\n",
        "  cluster_2_df.loc[i,'컬럼13_'] = 4\n",
        "\n",
        "컬럼13_list = list(cluster_2_df[ (cluster_2_df['컬럼13'] == 17) | (cluster_2_df['컬럼13'] == 4)| (cluster_2_df['컬럼13'] == 19) | (cluster_2_df['컬럼13'] == 15) | (cluster_2_df['컬럼13'] == 14)].index)\n",
        "for i in 컬럼13_list:\n",
        "  cluster_2_df.loc[i,'컬럼13_'] = 3\n",
        "\n",
        "컬럼13_list = list(cluster_2_df[(cluster_2_df['컬럼13'] == 21) | (cluster_2_df['컬럼13'] == 23)  | (cluster_2_df['컬럼13'] == 22) | (cluster_2_df['컬럼13'] == 3)].index)\n",
        "for i in 컬럼13_list:\n",
        "  cluster_2_df.loc[i,'컬럼13_'] = 2\n",
        "\n",
        "컬럼13_list = list(cluster_2_df[(cluster_2_df['컬럼13'] == 1) | (cluster_2_df['컬럼13'] == 2) | (cluster_2_df['컬럼13'] == 0) ].index)\n",
        "for i in 컬럼13_list:\n",
        "  cluster_2_df.loc[i,'컬럼13_'] = 1"
      ]
    },
    {
      "cell_type": "markdown",
      "metadata": {
        "id": "1sbBm7FPERX9"
      },
      "source": [
        "## Modeling"
      ]
    },
    {
      "cell_type": "code",
      "execution_count": null,
      "metadata": {
        "id": "iksxYpPTpUns"
      },
      "outputs": [],
      "source": [
        "cluster_2_ols = cluster_2_df.copy()\n",
        "cluster_2_cat = cluster_2_df.copy()"
      ]
    },
    {
      "cell_type": "code",
      "execution_count": null,
      "metadata": {
        "id": "C9shgI46pUkR"
      },
      "outputs": [],
      "source": [
        "fig, axs = plt.subplots(1,3, figsize = (15,6))\n",
        "\n",
        "sns.histplot(cluster_2_ols[\"컬럼15\"], ax =axs[0], kde=True)\n",
        "stats.probplot(cluster_2_ols[\"컬럼15\"], dist='norm', fit=True, plot=axs[1])\n",
        "sns.histplot(np.log1p(cluster_2_ols[\"컬럼15\"]), ax=axs[2], kde=True)\n",
        "\n",
        "axs[0].set_title(\"Original 컬럼15 Histogram\")\n",
        "axs[2].set_title(\"Log Transformed 컬럼15 Histogram\")\n",
        "\n",
        "plt.show()"
      ]
    },
    {
      "cell_type": "markdown",
      "metadata": {
        "id": "lguay09vprX2"
      },
      "source": [
        "## 꿀벌 OLS base"
      ]
    },
    {
      "cell_type": "code",
      "execution_count": null,
      "metadata": {
        "id": "V7BxbmSSpUho"
      },
      "outputs": [],
      "source": [
        "cluster_2_ols_base = cluster_2_ols.copy()\n",
        "cluster_2_ols_base.info()"
      ]
    },
    {
      "cell_type": "code",
      "execution_count": null,
      "metadata": {
        "id": "mzMdwA41pUew"
      },
      "outputs": [],
      "source": [
        "# 피처 제거\n",
        "c_2_base_drop_cols = ['컬럼16', '컬럼3', '컬럼4', '컬럼14', '컬럼11', '컬럼9', '컬럼8', \n",
        "                     '컬럼15_G', '컬럼15_bin','Cluster_num', '컬럼7', '컬럼13_bin', '컬럼13', '컬럼12', '컬럼2', '컬럼10', '컬럼17']\n",
        "\n",
        "cluster_2_ols_base.drop(c_2_base_drop_cols, axis=1, inplace=True)\n",
        "\n",
        "\n",
        "# 종속 변수 로그 변환\n",
        "org_SalePrice = cluster_2_ols_base[\"컬럼15\"]\n",
        "cluster_2_ols_base[\"컬럼15\"] = np.log1p(cluster_2_ols_base[\"컬럼15\"])\n",
        "\n",
        "\n",
        "cluster_2_ols_base['컬럼6'].replace({'B' : 0, 'A' : 1}, inplace=True) "
      ]
    },
    {
      "cell_type": "code",
      "execution_count": null,
      "metadata": {
        "id": "0ZNdTR9KpUbh"
      },
      "outputs": [],
      "source": [
        "target_2_ols_base = cluster_2_ols_base.컬럼15\n",
        "data_2_ols_base = cluster_2_ols_base.drop(columns = '컬럼15')\n",
        "data_2_ols_base = sm.add_constant(data_2_ols_base)\n",
        "\n",
        "ols_model_2_base = sm.OLS(target_2_ols_base, data_2_ols_base)\n",
        "ols_result_2_base = ols_model_2_base.fit()\n",
        "print(ols_result_2_base.summary())"
      ]
    },
    {
      "cell_type": "markdown",
      "metadata": {
        "id": "2YYlf__fqVUa"
      },
      "source": [
        "### VIF 지수 확인"
      ]
    },
    {
      "cell_type": "code",
      "execution_count": null,
      "metadata": {
        "id": "etdTlSQmpUYx"
      },
      "outputs": [],
      "source": [
        "result1, result2 = dmatrices('컬럼15 ~ + ' + '+'.join(cluster_2_ols_base.columns),\n",
        "                             cluster_2_ols_base, return_type = 'dataframe')\n",
        "\n",
        "vif = pd.DataFrame()\n",
        "vif['VIF Factor'] = [variance_inflation_factor(result2.values, i) for i in range(result2.shape[1])]\n",
        "vif['features'] = result2.columns\n",
        "print(vif)"
      ]
    },
    {
      "cell_type": "code",
      "execution_count": null,
      "metadata": {
        "id": "dmve8wsrpUV5"
      },
      "outputs": [],
      "source": [
        "c_2_lr_del_vif = []\n",
        "\n",
        "for idx, row in vif.iterrows():\n",
        "  if row['VIF Factor'] >= 10:\n",
        "    c_2_lr_del_vif.append(row['features'])"
      ]
    },
    {
      "cell_type": "code",
      "execution_count": null,
      "metadata": {
        "id": "15dis5K9pUTI"
      },
      "outputs": [],
      "source": [
        "c_2_lr_del_vif"
      ]
    },
    {
      "cell_type": "markdown",
      "metadata": {
        "id": "BH8dsqyxXM93"
      },
      "source": [
        "### 기본 성능"
      ]
    },
    {
      "cell_type": "code",
      "execution_count": null,
      "metadata": {
        "id": "Z5TCesFVWoa_"
      },
      "outputs": [],
      "source": [
        "target_2_ols_base = cluster_2_ols_base.컬럼15\n",
        "data_2_ols_base = cluster_2_ols_base.drop(columns = '컬럼15')\n",
        "x_train, x_test, y_train, y_test = train_test_split(data_2_ols_base, target_2_ols_base, test_size =0.3, random_state = 126)\n",
        "\n",
        "lr = LinearRegression()\n",
        "lr.fit(x_train, y_train)\n",
        "\n",
        "pred_lr = lr.predict(x_test)\n",
        "MSE_lr = mean_squared_error(y_test, pred_lr)\n",
        "np.sqrt(MSE_lr) "
      ]
    },
    {
      "cell_type": "code",
      "execution_count": null,
      "metadata": {
        "id": "iNzp-CrrXBDH"
      },
      "outputs": [],
      "source": [
        "r2_score(y_test, pred_lr)"
      ]
    },
    {
      "cell_type": "code",
      "execution_count": null,
      "metadata": {
        "id": "pa5qUNzWXIOZ"
      },
      "outputs": [],
      "source": [
        "adj_r2_score(y_test, pred_lr)"
      ]
    },
    {
      "cell_type": "markdown",
      "metadata": {
        "id": "157rI0__qlP8"
      },
      "source": [
        "## 꿀벌 OLS - Feature Engineering"
      ]
    },
    {
      "cell_type": "code",
      "execution_count": null,
      "metadata": {
        "id": "VrnGA674qkG-"
      },
      "outputs": [],
      "source": [
        "cluster_2_ols_fe = cluster_2_ols.copy()\n",
        "cluster_2_ols_fe.info()"
      ]
    },
    {
      "cell_type": "markdown",
      "metadata": {
        "id": "MGHGRy_PqudO"
      },
      "source": [
        "### 피쳐추가"
      ]
    },
    {
      "cell_type": "code",
      "execution_count": null,
      "metadata": {
        "id": "o3WlUlAlpUPw"
      },
      "outputs": [],
      "source": [
        "# 평일 5구간(20-23시)\n",
        "cluster_2_ols_fe['평일_5구간'] = 0\n",
        "컬럼13_list = list(cluster_2_ols_fe[(cluster_2_ols_fe['컬럼17']==0) & \n",
        "                                             (cluster_2_ols_fe['컬럼13'].between(20,22))].index)\n",
        "for i in 컬럼13_list:\n",
        "  cluster_2_ols_fe.loc[i,'평일_5구간'] = 1\n",
        "\n",
        "# 주말 3구간(15-18시)\n",
        "cluster_2_ols_fe['주말_3구간'] = 0\n",
        "컬럼13_list = list(cluster_2_ols_fe[(cluster_2_ols_fe['컬럼17']==1) & \n",
        "                                        (cluster_2_ols_fe['컬럼13'].between(15,17))].index)\n",
        "for i in 컬럼13_list:\n",
        "  cluster_2_ols_fe.loc[i,'주말_3구간'] = 1"
      ]
    },
    {
      "cell_type": "code",
      "execution_count": null,
      "metadata": {
        "id": "KS3KJ0PopUMo"
      },
      "outputs": [],
      "source": [
        "# 피처 제거\n",
        "c_2_base_drop_cols = ['컬럼16', '컬럼3', '컬럼4', '컬럼14', '컬럼11', '컬럼9', '컬럼8', \n",
        "                     '컬럼15_G', '컬럼15_bin','Cluster_num', '컬럼7', '컬럼13_bin', '컬럼13', '컬럼12', '컬럼2', '컬럼10', '컬럼17']\n",
        "\n",
        "cluster_2_ols_fe.drop(c_2_base_drop_cols, axis=1, inplace=True)\n",
        "\n",
        "\n",
        "# 종속 변수 로그 변환\n",
        "org_SalePrice = cluster_2_ols_fe[\"컬럼15\"]\n",
        "cluster_2_ols_fe[\"컬럼15\"] = np.log1p(cluster_2_ols_fe[\"컬럼15\"])\n",
        "\n",
        "\n",
        "cluster_2_ols_fe['컬럼6'].replace({'B' : 0, 'A' : 1}, inplace=True) "
      ]
    },
    {
      "cell_type": "code",
      "execution_count": null,
      "metadata": {
        "id": "vdTddxmfpUJQ"
      },
      "outputs": [],
      "source": [
        "cluster_2_ols_fe.info()"
      ]
    },
    {
      "cell_type": "code",
      "execution_count": null,
      "metadata": {
        "id": "HSzmD0iQpUGe"
      },
      "outputs": [],
      "source": [
        "target_2_ols_fe = cluster_2_ols_fe.컬럼15\n",
        "data_2_ols_fe = cluster_2_ols_fe.drop(columns = '컬럼15')\n",
        "data_2_ols_fe = sm.add_constant(data_2_ols_fe)\n",
        "\n",
        "ols_model_2_fe = sm.OLS(target_2_ols_fe, data_2_ols_fe)\n",
        "ols_result_2_fe = ols_model_2_fe.fit()\n",
        "print(ols_result_2_fe.summary())"
      ]
    },
    {
      "cell_type": "markdown",
      "metadata": {
        "id": "vucvKzvFrz8q"
      },
      "source": [
        "### 피쳐 엔지니어링 후 성능"
      ]
    },
    {
      "cell_type": "code",
      "execution_count": null,
      "metadata": {
        "id": "n_b-Hu4XrwRg"
      },
      "outputs": [],
      "source": [
        "target_2_ols_fe = cluster_2_ols_fe.컬럼15\n",
        "data_2_ols_fe = cluster_2_ols_fe.drop(columns = '컬럼15')\n",
        "x_train, x_test, y_train, y_test = train_test_split(data_2_ols_fe, target_2_ols_fe, test_size =0.3, random_state = 126)\n",
        "\n",
        "lr = LinearRegression()\n",
        "lr.fit(x_train, y_train)\n",
        "\n",
        "pred_lr = lr.predict(x_test)\n",
        "MSE_lr = mean_squared_error(y_test, pred_lr)\n",
        "np.sqrt(MSE_lr) "
      ]
    },
    {
      "cell_type": "code",
      "execution_count": null,
      "metadata": {
        "id": "3H7a2dVsr8kW"
      },
      "outputs": [],
      "source": [
        "r2_score(y_test, pred_lr)"
      ]
    },
    {
      "cell_type": "code",
      "execution_count": null,
      "metadata": {
        "id": "JnjY1qnUX-d8"
      },
      "outputs": [],
      "source": [
        "adj_r2_score(y_test, pred_lr)"
      ]
    },
    {
      "cell_type": "code",
      "execution_count": null,
      "metadata": {
        "id": "WXXOaIscr_yT"
      },
      "outputs": [],
      "source": [
        "# 상위, 하위 10개 coefficients 추출\n",
        "def get_top_bottom_coef(model):\n",
        "    # coef series\n",
        "    coef = pd.Series(model.coef_, index = data_2_ols_fe.columns)\n",
        "    \n",
        "    coef_high = coef.sort_values(ascending=False).head(10)\n",
        "    coef_low = coef.sort_values(ascending=False).tail(10)\n",
        "    return coef_high, coef_low\n",
        "\n",
        "visualize_coefficient([lr])"
      ]
    },
    {
      "cell_type": "markdown",
      "metadata": {
        "id": "Ooq2PwsdsG7h"
      },
      "source": [
        "## 꿀벌 Catboost Regression"
      ]
    },
    {
      "cell_type": "code",
      "execution_count": null,
      "metadata": {
        "id": "Le9Pln46sLGd"
      },
      "outputs": [],
      "source": [
        "cluster_2_cat_fe = cluster_2_cat.copy()"
      ]
    },
    {
      "cell_type": "code",
      "execution_count": null,
      "metadata": {
        "id": "ovfmNa4HsLDn"
      },
      "outputs": [],
      "source": [
        "# 평일 5구간(20-23시)\n",
        "cluster_2_cat_fe['평일_5구간'] = 0\n",
        "컬럼13_list = list(cluster_2_cat_fe[(cluster_2_cat_fe['컬럼17']==0) & \n",
        "                                             (cluster_2_cat_fe['컬럼13'].between(20,22))].index)\n",
        "for i in 컬럼13_list:\n",
        "  cluster_2_cat_fe.loc[i,'평일_5구간'] = 1\n",
        "\n",
        "# 주말 3구간(15-18시)\n",
        "cluster_2_cat_fe['주말_3구간'] = 0\n",
        "컬럼13_list = list(cluster_2_cat_fe[(cluster_2_cat_fe['컬럼17']==1) & \n",
        "                                        (cluster_2_cat_fe['컬럼13'].between(15,17))].index)\n",
        "for i in 컬럼13_list:\n",
        "  cluster_2_cat_fe.loc[i,'주말_3구간'] = 1"
      ]
    },
    {
      "cell_type": "code",
      "execution_count": null,
      "metadata": {
        "id": "kP02A8LwsLBA"
      },
      "outputs": [],
      "source": [
        "from sklearn.preprocessing import LabelEncoder\n",
        "\n",
        "cols = ['컬럼6', '컬럼2', '컬럼7그룹']\n",
        "for col in cols:\n",
        "    le = LabelEncoder()\n",
        "    cluster_2_cat_fe[col] = le.fit_transform(cluster_2_cat_fe[col])"
      ]
    },
    {
      "cell_type": "code",
      "execution_count": null,
      "metadata": {
        "id": "aCl18R_zs4Zw"
      },
      "outputs": [],
      "source": [
        "drop_cols_2_cat = ['컬럼3', '컬럼4', 'Cluster_num',\n",
        "                    '컬럼14', '컬럼11', '컬럼13', '컬럼12', '컬럼7', '컬럼16', '컬럼8', '컬럼9', '컬럼15_G',\n",
        "                    '컬럼13_bin', '컬럼15_bin', '컬럼10', '컬럼17', '컬럼2']\n",
        "\n",
        "cluster_2_cat_fe.drop(drop_cols_2_cat, axis=1, inplace=True)"
      ]
    },
    {
      "cell_type": "code",
      "execution_count": null,
      "metadata": {
        "id": "zaWRqIYUs4Sj"
      },
      "outputs": [],
      "source": [
        "target_2_cat = cluster_2_cat_fe['컬럼15']\n",
        "data_df_2_cat = cluster_2_cat_fe.drop(columns = '컬럼15')\n",
        "x_train, x_test, y_train, y_test = train_test_split(data_df_2_cat, target_2_cat, test_size =0.3, random_state = 126)"
      ]
    },
    {
      "cell_type": "code",
      "execution_count": null,
      "metadata": {
        "id": "9o1pqPJcs4Mb"
      },
      "outputs": [],
      "source": [
        "cat_2 = CatBoostRegressor(random_state=126, \n",
        "                          learning_rate = 0.01, max_depth = 8, n_estimators = 600, min_child_samples= 12)\n",
        "evals = [(x_test, y_test)]"
      ]
    },
    {
      "cell_type": "code",
      "execution_count": null,
      "metadata": {
        "id": "RYrj5XPztJPW"
      },
      "outputs": [],
      "source": [
        "cat_2.fit(x_train, y_train,  verbose=False)\n",
        "pred_cat_2 = cat_2.predict(x_test)\n",
        "\n",
        "MSE_cat_2 = mean_squared_error(y_test, pred_cat_2) \n",
        "np.sqrt(MSE_cat_2)"
      ]
    },
    {
      "cell_type": "code",
      "execution_count": null,
      "metadata": {
        "id": "7FfWDIjttJLN"
      },
      "outputs": [],
      "source": [
        "r2_score(y_test, pred_cat_2)"
      ]
    },
    {
      "cell_type": "code",
      "execution_count": null,
      "metadata": {
        "id": "9WwAZAgpY3il"
      },
      "outputs": [],
      "source": [
        "adj_r2_score(y_test, pred_cat_2)"
      ]
    },
    {
      "cell_type": "code",
      "execution_count": null,
      "metadata": {
        "id": "Fp07EcrktJEY"
      },
      "outputs": [],
      "source": [
        "plot_features_importances(cat_2, data_df_2_cat)"
      ]
    },
    {
      "cell_type": "markdown",
      "metadata": {
        "id": "Rlf0GM1wnxPM"
      },
      "source": [
        "# 반딧불이 군집 Modeling\n"
      ]
    },
    {
      "cell_type": "code",
      "execution_count": null,
      "metadata": {
        "id": "LvlrjicSFCnB"
      },
      "outputs": [],
      "source": [
        "cluster_3_df = cluster_3.copy()"
      ]
    },
    {
      "cell_type": "markdown",
      "metadata": {
        "id": "KAB1F8mbElTy"
      },
      "source": [
        "## feature 그룹화"
      ]
    },
    {
      "cell_type": "code",
      "execution_count": null,
      "metadata": {
        "id": "K94mFtpwErtA"
      },
      "outputs": [],
      "source": [
        "컬럼7_list = list(cluster_3_df[ (cluster_3_df['컬럼7'] == 'CL')].index)\n",
        "for i in 컬럼7_list:\n",
        "  cluster_3_df.loc[i,'컬럼7그룹'] = 5\n",
        "\n",
        "컬럼7_list = list(cluster_3_df[(cluster_3_df['컬럼7'] == 'CG') | (cluster_3_df['컬럼7'] == 'CC')].index)\n",
        "for i in 컬럼7_list:\n",
        "  cluster_3_df.loc[i,'컬럼7그룹'] = 4\n",
        "\n",
        "컬럼7_list = list(cluster_3_df[(cluster_3_df['컬럼7'] == 'CI') ].index)\n",
        "for i in 컬럼7_list:\n",
        "  cluster_3_df.loc[i,'컬럼7그룹'] = 3\n",
        "\n",
        "컬럼7_list = list(cluster_3_df[(cluster_3_df['컬럼7'] == 'CJ') | (cluster_3_df['컬럼7'] == 'CD') |  (cluster_3_df['컬럼7'] == 'CE') |  (cluster_3_df['컬럼7'] == 'CF')].index)\n",
        "for i in 컬럼7_list:\n",
        "  cluster_3_df.loc[i,'컬럼7그룹'] = 2\n",
        "\n",
        "컬럼7_list = list(cluster_3_df[(cluster_3_df['컬럼7'] == 'CK') ].index)\n",
        "for i in 컬럼7_list:\n",
        "  cluster_3_df.loc[i,'컬럼7그룹'] = 1"
      ]
    },
    {
      "cell_type": "code",
      "execution_count": null,
      "metadata": {
        "id": "EJ-SgBvUEsGA"
      },
      "outputs": [],
      "source": [
        "컬럼10_list = list(cluster_3_df[(cluster_3_df['컬럼10'] == 12) ].index)\n",
        "for i in 컬럼10_list:\n",
        "  cluster_3_df.loc[i,'컬럼10_'] = 6\n",
        "\n",
        "컬럼10_list = list(cluster_3_df[(cluster_3_df['컬럼10'] == 7) | (cluster_3_df['컬럼10'] == 8)].index)\n",
        "for i in 컬럼10_list:\n",
        "  cluster_3_df.loc[i,'컬럼10_'] = 5\n",
        "\n",
        "컬럼10_list = list(cluster_3_df[(cluster_3_df['컬럼10'] == 6) | (cluster_3_df['컬럼10'] == 9) | (cluster_3_df['컬럼10'] == 10) | (cluster_3_df['컬럼10'] == 11)].index)\n",
        "for i in 컬럼10_list:\n",
        "  cluster_3_df.loc[i,'컬럼10_'] = 4\n",
        "\n",
        "컬럼10_list = list(cluster_3_df[ (cluster_3_df['컬럼10'] == 5) | (cluster_3_df['컬럼10'] == 4)].index)\n",
        "for i in 컬럼10_list:\n",
        "  cluster_3_df.loc[i,'컬럼10_'] = 3\n",
        "\n",
        "컬럼10_list = list(cluster_3_df[(cluster_3_df['컬럼10'] ==2) | (cluster_3_df['컬럼10'] == 3)].index)\n",
        "for i in 컬럼10_list:\n",
        "  cluster_3_df.loc[i,'컬럼10_'] = 2\n",
        "\n",
        "컬럼10_list = list(cluster_3_df[(cluster_3_df['컬럼10'] == 1) ].index)\n",
        "for i in 컬럼10_list:\n",
        "  cluster_3_df.loc[i,'컬럼10_'] = 1"
      ]
    },
    {
      "cell_type": "code",
      "execution_count": null,
      "metadata": {
        "id": "XMnWkR8qEsVD"
      },
      "outputs": [],
      "source": [
        "컬럼12_list = list(cluster_3_df[(cluster_3_df['컬럼12'] == 5)].index)\n",
        "for i in 컬럼12_list:\n",
        "  cluster_3_df.loc[i,'컬럼12_'] = 4\n",
        "\n",
        "컬럼12_list = list(cluster_3_df[(cluster_3_df['컬럼12'] == 4) | (cluster_3_df['컬럼12'] == 1) |(cluster_3_df['컬럼12'] == 3)].index)\n",
        "for i in 컬럼12_list:\n",
        "  cluster_3_df.loc[i,'컬럼12_'] = 3\n",
        "\n",
        "컬럼12_list = list(cluster_3_df[(cluster_3_df['컬럼12'] == 2) | (cluster_3_df['컬럼12'] == 0) ].index)\n",
        "for i in 컬럼12_list:\n",
        "  cluster_3_df.loc[i,'컬럼12_'] = 2\n",
        "\n",
        "컬럼12_list = list(cluster_3_df[(cluster_3_df['컬럼12'] == 6) ].index)\n",
        "for i in 컬럼12_list:\n",
        "  cluster_3_df.loc[i,'컬럼12_'] = 1"
      ]
    },
    {
      "cell_type": "code",
      "execution_count": null,
      "metadata": {
        "id": "Al34zV1Rpbxn"
      },
      "outputs": [],
      "source": [
        "컬럼2_list = list(cluster_3_df[(cluster_3_df['컬럼2'] == 'ADA') ].index)\n",
        "for i in 컬럼2_list:\n",
        "  cluster_3_df.loc[i,'컬럼2분류'] = 1\n",
        "\n",
        "컬럼2_list = list(cluster_3_df[(cluster_3_df['컬럼2'] == 'ADC')].index)\n",
        "for i in 컬럼2_list:\n",
        "  cluster_3_df.loc[i,'컬럼2분류'] = 2\n",
        "\n",
        "컬럼2_list = list(cluster_3_df[(cluster_3_df['컬럼2'] == 'ADB')].index)\n",
        "for i in 컬럼2_list:\n",
        "  cluster_3_df.loc[i,'컬럼2분류'] = 3"
      ]
    },
    {
      "cell_type": "code",
      "execution_count": null,
      "metadata": {
        "id": "mCvwC9Bdpp7w"
      },
      "outputs": [],
      "source": [
        "컬럼13_list = list(cluster_3_df[(cluster_3_df['컬럼13'] == 6) ].index)\n",
        "for i in 컬럼13_list:\n",
        "  cluster_3_df.loc[i,'컬럼13_'] = 9\n",
        "\n",
        "컬럼13_list = list(cluster_3_df[(cluster_3_df['컬럼13'] == 7) ].index)\n",
        "for i in 컬럼13_list:\n",
        "  cluster_3_df.loc[i,'컬럼13_'] = 8\n",
        "\n",
        "컬럼13_list = list(cluster_3_df[ (cluster_3_df['컬럼13'] == 5) | (cluster_3_df['컬럼13'] == 8) ].index)\n",
        "for i in 컬럼13_list:\n",
        "  cluster_3_df.loc[i,'컬럼13_'] = 7\n",
        "\n",
        "컬럼13_list = list(cluster_3_df[(cluster_3_df['컬럼13'] == 10) | (cluster_3_df['컬럼13'] == 9) ].index)\n",
        "for i in 컬럼13_list:\n",
        "  cluster_3_df.loc[i,'컬럼13_'] = 6\n",
        "\n",
        "컬럼13_list = list(cluster_3_df[ (cluster_3_df['컬럼13'] == 12) | (cluster_3_df['컬럼13'] == 11)  ].index)\n",
        "for i in 컬럼13_list:\n",
        "  cluster_3_df.loc[i,'컬럼13_'] = 5\n",
        "\n",
        "컬럼13_list = list(cluster_3_df[(cluster_3_df['컬럼13'] == 18) | (cluster_3_df['컬럼13'] == 13) | (cluster_3_df['컬럼13'] == 14)| (cluster_3_df['컬럼13'] == 15)].index)\n",
        "for i in 컬럼13_list:\n",
        "  cluster_3_df.loc[i,'컬럼13_'] = 4\n",
        "\n",
        "컬럼13_list = list(cluster_3_df[ (cluster_3_df['컬럼13'] == 17) | (cluster_3_df['컬럼13'] == 20)| (cluster_3_df['컬럼13'] == 19) | (cluster_3_df['컬럼13'] == 16) | (cluster_3_df['컬럼13'] == 4)].index)\n",
        "for i in 컬럼13_list:\n",
        "  cluster_3_df.loc[i,'컬럼13_'] = 3\n",
        "\n",
        "컬럼13_list = list(cluster_3_df[(cluster_3_df['컬럼13'] == 21) | (cluster_3_df['컬럼13'] == 23)  | (cluster_3_df['컬럼13'] == 22) | (cluster_3_df['컬럼13'] == 3)].index)\n",
        "for i in 컬럼13_list:\n",
        "  cluster_3_df.loc[i,'컬럼13_'] = 2\n",
        "\n",
        "컬럼13_list = list(cluster_3_df[(cluster_3_df['컬럼13'] == 1) | (cluster_3_df['컬럼13'] == 2) | (cluster_3_df['컬럼13'] == 0) ].index)\n",
        "for i in 컬럼13_list:\n",
        "  cluster_3_df.loc[i,'컬럼13_'] = 1"
      ]
    },
    {
      "cell_type": "code",
      "execution_count": null,
      "metadata": {
        "id": "qAExhAa2qmHU"
      },
      "outputs": [],
      "source": [
        "cluster_3_df.isnull().sum()"
      ]
    },
    {
      "cell_type": "markdown",
      "metadata": {
        "id": "8fKvKpgSFrcc"
      },
      "source": [
        "## Modeling"
      ]
    },
    {
      "cell_type": "code",
      "execution_count": null,
      "metadata": {
        "id": "zbBHyT2TuQZC"
      },
      "outputs": [],
      "source": [
        "cluster_3_ols = cluster_3_df.copy()\n",
        "cluster_3_cat = cluster_3_df.copy()"
      ]
    },
    {
      "cell_type": "code",
      "execution_count": null,
      "metadata": {
        "id": "T3hzvAgAuJuj"
      },
      "outputs": [],
      "source": [
        "fig, axs = plt.subplots(1,3, figsize = (15,6))\n",
        "\n",
        "sns.histplot(cluster_3_ols[\"컬럼15\"], ax =axs[0], kde=True)\n",
        "stats.probplot(cluster_3_ols[\"컬럼15\"], dist='norm', fit=True, plot=axs[1])\n",
        "sns.histplot(np.log1p(cluster_3_ols[\"컬럼15\"]), ax=axs[2], kde=True)\n",
        "\n",
        "axs[0].set_title(\"Original 컬럼15 Histogram\")\n",
        "axs[2].set_title(\"Log Transformed 컬럼15 Histogram\")\n",
        "\n",
        "plt.show()"
      ]
    },
    {
      "cell_type": "markdown",
      "metadata": {
        "id": "nlpLiq9DufQH"
      },
      "source": [
        "## 반딧불이 OLS base"
      ]
    },
    {
      "cell_type": "code",
      "execution_count": null,
      "metadata": {
        "id": "_7zyXKFrudoe"
      },
      "outputs": [],
      "source": [
        "cluster_3_ols_base = cluster_3_ols.copy()\n",
        "cluster_3_ols_base.info()"
      ]
    },
    {
      "cell_type": "code",
      "execution_count": null,
      "metadata": {
        "id": "Y_LCyCiDudiF"
      },
      "outputs": [],
      "source": [
        "# 피처 제거\n",
        "c_3_base_drop_cols = ['컬럼16', '컬럼3', '컬럼4', '컬럼14', '컬럼11', '컬럼9', '컬럼8', \n",
        "                     '컬럼15_G', '컬럼15_bin','Cluster_num', '컬럼7', '컬럼13_bin', '컬럼13', '컬럼12', '컬럼2', '컬럼10', '컬럼17']\n",
        "\n",
        "cluster_3_ols_base.drop(c_3_base_drop_cols, axis=1, inplace=True)\n",
        "\n",
        "\n",
        "# 종속 변수 로그 변환\n",
        "org_SalePrice = cluster_3_ols_base[\"컬럼15\"]\n",
        "cluster_3_ols_base[\"컬럼15\"] = np.log1p(cluster_3_ols_base[\"컬럼15\"])\n",
        "\n",
        "\n",
        "cluster_3_ols_base['컬럼6'].replace({'B' : 0, 'A' : 1}, inplace=True) "
      ]
    },
    {
      "cell_type": "code",
      "execution_count": null,
      "metadata": {
        "id": "y2eGclNludeW"
      },
      "outputs": [],
      "source": [
        "target_3_ols_base = cluster_3_ols_base.컬럼15\n",
        "data_3_ols_base = cluster_3_ols_base.drop(columns = '컬럼15')\n",
        "data_3_ols_base = sm.add_constant(data_3_ols_base)\n",
        "\n",
        "ols_model_3_base = sm.OLS(target_3_ols_base, data_3_ols_base)\n",
        "ols_result_3_base = ols_model_3_base.fit()\n",
        "print(ols_result_3_base.summary())"
      ]
    },
    {
      "cell_type": "markdown",
      "metadata": {
        "id": "Ep2Dkv9YuumB"
      },
      "source": [
        "### VIF 지수 확인"
      ]
    },
    {
      "cell_type": "code",
      "execution_count": null,
      "metadata": {
        "id": "Ppyc5sSMuda6"
      },
      "outputs": [],
      "source": [
        "result1, result2 = dmatrices('컬럼15 ~ + ' + '+'.join(cluster_3_ols_base.columns),\n",
        "                             cluster_3_ols_base, return_type = 'dataframe')\n",
        "\n",
        "vif = pd.DataFrame()\n",
        "vif['VIF Factor'] = [variance_inflation_factor(result2.values, i) for i in range(result2.shape[1])]\n",
        "vif['features'] = result2.columns\n",
        "print(vif)"
      ]
    },
    {
      "cell_type": "code",
      "execution_count": null,
      "metadata": {
        "id": "21x7ciVGvEE_"
      },
      "outputs": [],
      "source": [
        "c_3_lr_del_vif = []\n",
        "\n",
        "for idx, row in vif.iterrows():\n",
        "  if row['VIF Factor'] >= 10:\n",
        "    c_3_lr_del_vif.append(row['features'])"
      ]
    },
    {
      "cell_type": "code",
      "execution_count": null,
      "metadata": {
        "id": "DGJo8sd4vHrF"
      },
      "outputs": [],
      "source": [
        "c_3_lr_del_vif"
      ]
    },
    {
      "cell_type": "markdown",
      "metadata": {
        "id": "kj2GsFjfZ3Xy"
      },
      "source": [
        "### 기본 성능"
      ]
    },
    {
      "cell_type": "code",
      "execution_count": null,
      "metadata": {
        "id": "4dntatdlZNx8"
      },
      "outputs": [],
      "source": [
        "target_3_ols_base = cluster_3_ols_base.컬럼15\n",
        "data_3_ols_base = cluster_3_ols_base.drop(columns = '컬럼15')\n",
        "x_train, x_test, y_train, y_test = train_test_split(data_3_ols_base, target_3_ols_base, test_size =0.3, random_state = 126)\n",
        "\n",
        "lr = LinearRegression()\n",
        "lr.fit(x_train, y_train)\n",
        "\n",
        "pred_lr = lr.predict(x_test)\n",
        "MSE_lr = mean_squared_error(y_test, pred_lr)\n",
        "np.sqrt(MSE_lr) "
      ]
    },
    {
      "cell_type": "code",
      "execution_count": null,
      "metadata": {
        "id": "KNHCeelyadva"
      },
      "outputs": [],
      "source": [
        "r2_score(y_test, pred_lr)"
      ]
    },
    {
      "cell_type": "code",
      "execution_count": null,
      "metadata": {
        "id": "gD_8QKi3adgp"
      },
      "outputs": [],
      "source": [
        "adj_r2_score(y_test, pred_lr)"
      ]
    },
    {
      "cell_type": "markdown",
      "metadata": {
        "id": "ikVE6LqvvcB7"
      },
      "source": [
        "## 반딧불이 OLS - Feature Engineering"
      ]
    },
    {
      "cell_type": "code",
      "execution_count": null,
      "metadata": {
        "id": "VR9usYjuudQL"
      },
      "outputs": [],
      "source": [
        "cluster_3_ols_fe = cluster_3_ols.copy()\n",
        "cluster_3_ols_fe.info()"
      ]
    },
    {
      "cell_type": "markdown",
      "metadata": {
        "id": "He8LPVYdvxxI"
      },
      "source": [
        "### 피쳐 추가"
      ]
    },
    {
      "cell_type": "code",
      "execution_count": null,
      "metadata": {
        "id": "uGBkdyRIudMo"
      },
      "outputs": [],
      "source": [
        "# 평일 4구간(17-20시)\n",
        "cluster_3_ols_fe['평일_4구간'] = 0\n",
        "컬럼13_list = list(cluster_3_ols_fe[(cluster_3_ols_fe['컬럼17']==0) & \n",
        "                                        (cluster_3_ols_fe['컬럼13'].between(17,19))].index)\n",
        "for i in 컬럼13_list:\n",
        "  cluster_3_ols_fe.loc[i,'평일_4구간'] = 1\n",
        "\n",
        "# 평일 5구간(20-23시)\n",
        "cluster_3_ols_fe['평일_5구간'] = 0\n",
        "컬럼13_list = list(cluster_3_ols_fe[(cluster_3_ols_fe['컬럼17']==0) & \n",
        "                                             (cluster_3_ols_fe['컬럼13'].between(20,22))].index)\n",
        "for i in 컬럼13_list:\n",
        "  cluster_3_ols_fe.loc[i,'평일_5구간'] = 1\n",
        "\n",
        "# 평일 6구간(23-02시)\n",
        "cluster_3_ols_fe['평일_6구간'] = 0\n",
        "컬럼13_list = list(cluster_3_ols_fe[(cluster_3_ols_fe['컬럼17']==0) & \n",
        "                                       ((cluster_3_ols_fe['컬럼13']==0) | (cluster_3_ols_fe['컬럼13']==1) | (cluster_3_ols_fe['컬럼13']==23))].index)\n",
        "for i in 컬럼13_list:\n",
        "  cluster_3_ols_fe.loc[i,'평일_6구간'] = 1"
      ]
    },
    {
      "cell_type": "code",
      "execution_count": null,
      "metadata": {
        "id": "MeHYaAPyudIc"
      },
      "outputs": [],
      "source": [
        "# 피처 제거\n",
        "c_3_base_drop_cols = ['컬럼16', '컬럼3', '컬럼4', '컬럼14', '컬럼11', '컬럼9', '컬럼8', \n",
        "                     '컬럼15_G', '컬럼15_bin','Cluster_num', '컬럼7', '컬럼13_bin', '컬럼13', '컬럼12', '컬럼2', '컬럼10', '컬럼17']\n",
        "\n",
        "cluster_3_ols_fe.drop(c_3_base_drop_cols, axis=1, inplace=True)\n",
        "\n",
        "\n",
        "# 종속 변수 로그 변환\n",
        "org_SalePrice = cluster_3_ols_fe[\"컬럼15\"]\n",
        "cluster_3_ols_fe[\"컬럼15\"] = np.log1p(cluster_3_ols_fe[\"컬럼15\"])\n",
        "\n",
        "\n",
        "cluster_3_ols_fe['컬럼6'].replace({'B' : 0, 'A' : 1}, inplace=True) "
      ]
    },
    {
      "cell_type": "code",
      "execution_count": null,
      "metadata": {
        "id": "xwrmYttPudDP"
      },
      "outputs": [],
      "source": [
        "cluster_3_ols_fe.info()"
      ]
    },
    {
      "cell_type": "code",
      "execution_count": null,
      "metadata": {
        "id": "xm9o-pDLuc6O"
      },
      "outputs": [],
      "source": [
        "target_3_ols_fe = cluster_3_ols_fe.컬럼15\n",
        "data_3_ols_fe = cluster_3_ols_fe.drop(columns = '컬럼15')\n",
        "data_3_ols_fe = sm.add_constant(data_3_ols_fe)\n",
        "\n",
        "ols_model_3_fe = sm.OLS(target_3_ols_fe, data_3_ols_fe)\n",
        "ols_result_3_fe = ols_model_3_fe.fit()\n",
        "print(ols_result_3_fe.summary())"
      ]
    },
    {
      "cell_type": "markdown",
      "metadata": {
        "id": "wwQSiwTdwz9r"
      },
      "source": [
        "### 피쳐 엔지니어링 후 성능"
      ]
    },
    {
      "cell_type": "code",
      "execution_count": null,
      "metadata": {
        "id": "iIwiz55AwxV5"
      },
      "outputs": [],
      "source": [
        "target_3_ols_fe = cluster_3_ols_fe.컬럼15\n",
        "data_3_ols_fe = cluster_3_ols_fe.drop(columns = '컬럼15')\n",
        "x_train, x_test, y_train, y_test = train_test_split(data_3_ols_fe, target_3_ols_fe, test_size =0.3, random_state = 126)\n",
        "\n",
        "lr = LinearRegression()\n",
        "lr.fit(x_train, y_train)\n",
        "\n",
        "pred_lr = lr.predict(x_test)\n",
        "MSE_lr = mean_squared_error(y_test, pred_lr)\n",
        "np.sqrt(MSE_lr) "
      ]
    },
    {
      "cell_type": "code",
      "execution_count": null,
      "metadata": {
        "id": "NPfz8NdSw7KS"
      },
      "outputs": [],
      "source": [
        "r2_score(y_test, pred_lr)"
      ]
    },
    {
      "cell_type": "code",
      "execution_count": null,
      "metadata": {
        "id": "V-Le0jGLbUBJ"
      },
      "outputs": [],
      "source": [
        "adj_r2_score(y_test, pred_lr)"
      ]
    },
    {
      "cell_type": "code",
      "execution_count": null,
      "metadata": {
        "id": "I957fy7hxARH"
      },
      "outputs": [],
      "source": [
        "# 상위, 하위 10개 coefficients 추출\n",
        "def get_top_bottom_coef(model):\n",
        "    # coef series\n",
        "    coef = pd.Series(model.coef_, index = data_3_ols_fe.columns)\n",
        "    \n",
        "    coef_high = coef.sort_values(ascending=False).head(10)\n",
        "    coef_low = coef.sort_values(ascending=False).tail(10)\n",
        "    return coef_high, coef_low\n",
        "\n",
        "visualize_coefficient([lr])"
      ]
    },
    {
      "cell_type": "markdown",
      "metadata": {
        "id": "8lEpV1M_xKgM"
      },
      "source": [
        "## 반딧불이 Catboost Regression"
      ]
    },
    {
      "cell_type": "code",
      "execution_count": null,
      "metadata": {
        "id": "DwtkaZGIxM7S"
      },
      "outputs": [],
      "source": [
        "cluster_3_cat_fe = cluster_3_cat.copy()"
      ]
    },
    {
      "cell_type": "code",
      "execution_count": null,
      "metadata": {
        "id": "hOitnYo5xM0P"
      },
      "outputs": [],
      "source": [
        "# 평일 4구간(17-20시)\n",
        "cluster_3_cat_fe['평일_4구간'] = 0\n",
        "컬럼13_list = list(cluster_3_cat_fe[(cluster_3_cat_fe['컬럼17']==0) & \n",
        "                                        (cluster_3_cat_fe['컬럼13'].between(17,19))].index)\n",
        "for i in 컬럼13_list:\n",
        "  cluster_3_cat_fe.loc[i,'평일_4구간'] = 1\n",
        "\n",
        "# 평일 5구간(20-23시)\n",
        "cluster_3_cat_fe['평일_5구간'] = 0\n",
        "컬럼13_list = list(cluster_3_cat_fe[(cluster_3_cat_fe['컬럼17']==0) & \n",
        "                                             (cluster_3_cat_fe['컬럼13'].between(20,22))].index)\n",
        "for i in 컬럼13_list:\n",
        "  cluster_3_cat_fe.loc[i,'평일_5구간'] = 1\n",
        "\n",
        "# 평일 6구간(23-02시)\n",
        "cluster_3_cat_fe['평일_6구간'] = 0\n",
        "컬럼13_list = list(cluster_3_cat_fe[(cluster_3_cat_fe['컬럼17']==0) & \n",
        "                                       ((cluster_3_cat_fe['컬럼13']==0) | (cluster_3_cat_fe['컬럼13']==1) | (cluster_3_cat_fe['컬럼13']==23))].index)\n",
        "for i in 컬럼13_list:\n",
        "  cluster_3_cat_fe.loc[i,'평일_6구간'] = 1"
      ]
    },
    {
      "cell_type": "code",
      "execution_count": null,
      "metadata": {
        "id": "vbf1RuhhxTYm"
      },
      "outputs": [],
      "source": [
        "from sklearn.preprocessing import LabelEncoder\n",
        "\n",
        "cols = ['컬럼6']\n",
        "for col in cols:\n",
        "    le = LabelEncoder()\n",
        "    cluster_3_cat_fe[col] = le.fit_transform(cluster_3_cat_fe[col])"
      ]
    },
    {
      "cell_type": "code",
      "execution_count": null,
      "metadata": {
        "id": "jVjZhN9fxTWM"
      },
      "outputs": [],
      "source": [
        "drop_cols_3_cat = ['컬럼3', '컬럼4', 'Cluster_num',\n",
        "                    '컬럼14', '컬럼11', '컬럼13', '컬럼12', '컬럼7', '컬럼16', '컬럼8', '컬럼9', '컬럼15_G',\n",
        "                    '컬럼13_bin', '컬럼15_bin', '컬럼10', '컬럼17', '컬럼2']\n",
        "\n",
        "cluster_3_cat_fe.drop(drop_cols_3_cat, axis=1, inplace=True)"
      ]
    },
    {
      "cell_type": "code",
      "execution_count": null,
      "metadata": {
        "id": "CmH5cgFSxhwT"
      },
      "outputs": [],
      "source": [
        "target_3_cat = cluster_3_cat_fe['컬럼15']\n",
        "data_df_3_cat = cluster_3_cat_fe.drop(columns = '컬럼15')\n",
        "x_train, x_test, y_train, y_test = train_test_split(data_df_3_cat, target_3_cat, test_size =0.3, random_state = 126)"
      ]
    },
    {
      "cell_type": "code",
      "execution_count": null,
      "metadata": {
        "id": "KJJFcL8uxpIc"
      },
      "outputs": [],
      "source": [
        "cat_3 = CatBoostRegressor(random_state=126, \n",
        "                          learning_rate = 0.01, max_depth = 8, n_estimators = 400, min_child_samples= 6)\n",
        "evals = [(x_test, y_test)]"
      ]
    },
    {
      "cell_type": "code",
      "execution_count": null,
      "metadata": {
        "id": "lczoRa9gxpFr"
      },
      "outputs": [],
      "source": [
        "cat_3.fit(x_train, y_train,  verbose=False)\n",
        "pred_cat_3 = cat_3.predict(x_test)\n",
        "\n",
        "MSE_cat_3 = mean_squared_error(y_test, pred_cat_3) \n",
        "np.sqrt(MSE_cat_3)"
      ]
    },
    {
      "cell_type": "code",
      "execution_count": null,
      "metadata": {
        "id": "ZZdSGnPZxpDI"
      },
      "outputs": [],
      "source": [
        "r2_score(y_test, pred_cat_3)"
      ]
    },
    {
      "cell_type": "code",
      "execution_count": null,
      "metadata": {
        "id": "NLr3z9Lpc2dL"
      },
      "outputs": [],
      "source": [
        "adj_r2_score(y_test, pred_cat_3)"
      ]
    },
    {
      "cell_type": "code",
      "execution_count": null,
      "metadata": {
        "id": "BuaUdEgPx5iK"
      },
      "outputs": [],
      "source": [
        "plot_features_importances(cat_3, data_df_3_cat)"
      ]
    }
  ],
  "metadata": {
    "colab": {
      "collapsed_sections": [],
      "name": "데이터_모델링.ipynb",
      "provenance": []
    },
    "kernelspec": {
      "display_name": "Python 3 (ipykernel)",
      "language": "python",
      "name": "python3"
    },
    "language_info": {
      "codemirror_mode": {
        "name": "ipython",
        "version": 3
      },
      "file_extension": ".py",
      "mimetype": "text/x-python",
      "name": "python",
      "nbconvert_exporter": "python",
      "pygments_lexer": "ipython3",
      "version": "3.7.13"
    }
  },
  "nbformat": 4,
  "nbformat_minor": 0
}