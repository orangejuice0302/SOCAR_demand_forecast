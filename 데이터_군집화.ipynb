{
  "cells": [
    {
      "cell_type": "markdown",
      "metadata": {
        "id": "Wwn1WqInrEzp"
      },
      "source": [
        "# 라이브러리 불러오기"
      ]
    },
    {
      "cell_type": "code",
      "execution_count": null,
      "metadata": {
        "id": "4SZ_AytcTntt"
      },
      "outputs": [],
      "source": [
        "import numpy as np\n",
        "import pandas as pd\n",
        "import warnings\n",
        "warnings.filterwarnings('ignore')\n",
        "import matplotlib.pyplot as plt\n",
        "import seaborn as sns\n",
        "plt.rc('font', family='NanumBarunGothic')"
      ]
    },
    {
      "cell_type": "markdown",
      "metadata": {
        "id": "RCuUh-bpUxeL"
      },
      "source": [
        "# 데이터 불러오기"
      ]
    },
    {
      "cell_type": "code",
      "execution_count": null,
      "metadata": {
        "id": "MWSxU9ZLUgJG"
      },
      "outputs": [],
      "source": [
        "data = pd.read_csv('/home/aiffeldefinition/해커톤/data/수요예측_data.csv', encoding = 'cp949')\n",
        "data.head()"
      ]
    },
    {
      "cell_type": "code",
      "execution_count": null,
      "metadata": {
        "id": "a6Xda290UiWS"
      },
      "outputs": [],
      "source": [
        "df = data.copy()\n",
        "df.head()"
      ]
    },
    {
      "cell_type": "code",
      "execution_count": null,
      "metadata": {
        "id": "q7vnJjmWUl3w"
      },
      "outputs": [],
      "source": [
        "target_group"
      ]
    },
    {
      "cell_type": "markdown",
      "metadata": {
        "id": "gouvEcNsU3By"
      },
      "source": [
        "# 데이터 전처리"
      ]
    },
    {
      "cell_type": "code",
      "execution_count": null,
      "metadata": {
        "id": "m-Uusms-Un-A"
      },
      "outputs": [],
      "source": [
        "same_list = []\n",
        "\n",
        "for idx, rows in target_group.iterrows():\n",
        "  if rows['컬럼4'] >= rows['컬럼3']:\n",
        "    same_list.append(idx)\n",
        "  else:\n",
        "    continue\n",
        "\n",
        "target_group.drop(index=same_list, inplace=True)"
      ]
    },
    {
      "cell_type": "code",
      "execution_count": null,
      "metadata": {
        "id": "YrKzfPWVUpNg"
      },
      "outputs": [],
      "source": [
        "from datetime import datetime, timedelta\n",
        "target_group['컬럼4'] = pd.DatetimeIndex(target_group['컬럼4'])\n",
        "target_group['컬럼3'] = pd.DatetimeIndex(target_group['컬럼3'])"
      ]
    },
    {
      "cell_type": "code",
      "execution_count": null,
      "metadata": {
        "id": "gLb0zUwvUvYI"
      },
      "outputs": [],
      "source": [
        "target_group['컬럼20'] = target_group['컬럼4'] - target_group['컬럼4']\n",
        "target_group['컬럼20'].describe()"
      ]
    },
    {
      "cell_type": "code",
      "execution_count": null,
      "metadata": {
        "id": "gDPAD1frVlGk"
      },
      "outputs": [],
      "source": [
        "hours = []\n",
        "for _, rows in target_group.iterrows():\n",
        "  sc = rows['컬럼20'].total_seconds()\n",
        "  hours.append(sc/3600)\n",
        "\n",
        "target_group['컬럼15'] = hours"
      ]
    },
    {
      "cell_type": "code",
      "execution_count": null,
      "metadata": {
        "id": "VyRWz3d_VmDR"
      },
      "outputs": [],
      "source": [
        "# 소수 셋 째자리에서 반올림\n",
        "target_group['컬럼15'] = target_group['컬럼15'].map(lambda x: round(x, 2))"
      ]
    },
    {
      "cell_type": "markdown",
      "metadata": {
        "id": "TW_9CoNV3N36"
      },
      "source": [
        "### 이상치 제거"
      ]
    },
    {
      "cell_type": "code",
      "execution_count": null,
      "metadata": {
        "id": "PnijLBsD3VF-"
      },
      "outputs": [],
      "source": [
        "target_group['컬럼15'].quantile(.99)"
      ]
    },
    {
      "cell_type": "code",
      "execution_count": null,
      "metadata": {
        "id": "ebivTpFGxXN8"
      },
      "outputs": [],
      "source": [
        "target_group['컬럼15'].describe()"
      ]
    },
    {
      "cell_type": "code",
      "execution_count": null,
      "metadata": {
        "id": "NYVQ47sYxHqd"
      },
      "outputs": [],
      "source": [
        "target_group.drop(index = target_group[target_group['컬럼15'] > 52.79].index, inplace=True)"
      ]
    },
    {
      "cell_type": "code",
      "execution_count": null,
      "metadata": {
        "id": "FpRMVpNE4MCL"
      },
      "outputs": [],
      "source": [
        "target_group['컬럼15'].describe()"
      ]
    },
    {
      "cell_type": "code",
      "execution_count": null,
      "metadata": {
        "id": "IpxRDkjdWPrY"
      },
      "outputs": [],
      "source": [
        "target_group.컬럼7.value_counts()"
      ]
    },
    {
      "cell_type": "code",
      "execution_count": null,
      "metadata": {
        "id": "sgV_o-YcW_Qp"
      },
      "outputs": [],
      "source": [
        "car_price_mean = car_price.groupby('분류').mean()\n",
        "car_price_mean.reset_index(inplace=True)\n",
        "car_price_mean"
      ]
    },
    {
      "cell_type": "code",
      "execution_count": null,
      "metadata": {
        "id": "WWR-XT9HXHzp"
      },
      "outputs": [],
      "source": [
        "car_price_mean.rename(columns = {'분류' : '컬럼7_'} ,inplace=True)\n",
        "car_price_mean"
      ]
    },
    {
      "cell_type": "code",
      "execution_count": null,
      "metadata": {
        "id": "82r1nANcYebo"
      },
      "outputs": [],
      "source": [
        "# 반올림\n",
        "car_price_mean['컬럼8'] = car_price_mean['컬럼8'].map(lambda x: round(x, 2))\n",
        "car_price_mean['컬럼9'] = car_price_mean['컬럼9'].map(lambda x: round(x, 2))"
      ]
    },
    {
      "cell_type": "code",
      "execution_count": null,
      "metadata": {
        "id": "vZGezKc1YoPa"
      },
      "outputs": [],
      "source": [
        "target_group_price = pd.merge(target_group, car_price_mean, how='left', on='컬럼7_')\n",
        "target_group_price.head()"
      ]
    },
    {
      "cell_type": "code",
      "execution_count": null,
      "metadata": {
        "id": "h5GyOuqOYys4"
      },
      "outputs": [],
      "source": [
        "target_group_price.isnull().sum()"
      ]
    },
    {
      "cell_type": "code",
      "execution_count": null,
      "metadata": {
        "id": "5kx-s_QAZNuZ"
      },
      "outputs": [],
      "source": [
        "def w_d(x):\n",
        "  if x >= 5:\n",
        "    return 1  \n",
        "  else:\n",
        "    return 0  "
      ]
    },
    {
      "cell_type": "code",
      "execution_count": null,
      "metadata": {
        "id": "lPKavAfLZkxA"
      },
      "outputs": [],
      "source": [
        "target_group_price['컬럼17_'] = target_group_price['컬럼12'].map(lambda x : w_d(x))"
      ]
    },
    {
      "cell_type": "code",
      "execution_count": null,
      "metadata": {
        "id": "uWwYk6GFZ1da"
      },
      "outputs": [],
      "source": [
        "for idx, row in target_group_price.iterrows():\n",
        "  if (row['컬럼12'] == 6) & (row['컬럼13'] >= 19):\n",
        "    target_group_price.loc[idx, '컬럼17_'] = 0\n",
        "  elif (row['컬럼12'] == 4) & (row['컬럼13'] >= 19):\n",
        "    target_group_price.loc[idx, '컬럼17_'] = 1\n",
        "  else:\n",
        "    continue"
      ]
    },
    {
      "cell_type": "code",
      "execution_count": null,
      "metadata": {
        "id": "7JX1Mt9lajD7"
      },
      "outputs": [],
      "source": [
        "for idx, row in target_group_price.iterrows():\n",
        "  if (row['컬럼10'] == 1) & (row['컬럼11'] == 1) :  \n",
        "    target_group_price.loc[idx, '컬럼17_'] = 1\n",
        "  elif (row['컬럼10'] == 2) & (row['컬럼11'] == 4) : \n",
        "    target_group_price.loc[idx, '컬럼17_'] = 1\n",
        "  elif (row['컬럼10'] == 2) & (row['컬럼11'] == 5) : \n",
        "    target_group_price.loc[idx, '컬럼17_'] = 1\n",
        "  elif (row['컬럼10'] == 2) & (row['컬럼11'] == 6) : \n",
        "    target_group_price.loc[idx, '컬럼17_'] = 1\n",
        "  elif (row['컬럼10'] == 3) & (row['컬럼11'] == 1) : \n",
        "    target_group_price.loc[idx, '컬럼17_'] = 1\n",
        "  elif (row['컬럼10'] == 5) & (row['컬럼11'] == 6) : \n",
        "    target_group_price.loc[idx, '컬럼17_'] = 1\n",
        "  elif (row['컬럼10'] == 6) & (row['컬럼11'] == 6) : \n",
        "    target_group_price.loc[idx, '컬럼17_'] = 1\n",
        "  elif (row['컬럼10'] == 8) & (row['컬럼11'] == 15) : \n",
        "    target_group_price.loc[idx, '컬럼17_'] = 1\n",
        "  elif (row['컬럼10'] == 9) & (row['컬럼11'] == 12) : \n",
        "    target_group_price.loc[idx, '컬럼17_'] = 1\n",
        "  elif (row['컬럼10'] == 9) & (row['컬럼11'] == 13) : \n",
        "    target_group_price.loc[idx, '컬럼17_'] = 1\n",
        "  elif (row['컬럼10'] == 10) & (row['컬럼11'] == 3) : \n",
        "    target_group_price.loc[idx, '컬럼17_'] = 1\n",
        "  elif (row['컬럼10'] == 10) & (row['컬럼11'] == 9) : \n",
        "    target_group_price.loc[idx, '컬럼17_'] = 1\n",
        "  else:\n",
        "    continue"
      ]
    },
    {
      "cell_type": "code",
      "execution_count": null,
      "metadata": {
        "id": "pJxpj1-0axcv"
      },
      "outputs": [],
      "source": [
        "target_group_price['컬럼16'] = None\n",
        "\n",
        "for idx, row in target_group_price.iterrows():\n",
        "  if row['컬럼17_'] == 0:\n",
        "    target_group_price.loc[idx, '컬럼16'] = row['컬럼8'] * row['컬럼15']\n",
        "  else:\n",
        "    target_group_price.loc[idx, '컬럼16'] = row['컬럼9'] * row['컬럼15']"
      ]
    },
    {
      "cell_type": "markdown",
      "metadata": {
        "id": "1FlktVoLbop3"
      },
      "source": [
        "#### * 데이터프레임 저장"
      ]
    },
    {
      "cell_type": "code",
      "execution_count": null,
      "metadata": {
        "id": "1I3uJhHAbAad"
      },
      "outputs": [],
      "source": [
        "target_group_price.to_pickle('/home/aiffeldefinition/해커톤/data/target_group_price_99del.pkl')"
      ]
    },
    {
      "cell_type": "code",
      "execution_count": null,
      "metadata": {
        "id": "TqnFLEskcHvw"
      },
      "outputs": [],
      "source": [
        "target_group_price = pd.read_pickle('/home/aiffeldefinition/해커톤/data/target_group_price_99del.pkl')"
      ]
    },
    {
      "cell_type": "code",
      "execution_count": null,
      "metadata": {
        "id": "uhax9_LZbU_B"
      },
      "outputs": [],
      "source": [
        "target_group_price.info()"
      ]
    },
    {
      "cell_type": "code",
      "execution_count": null,
      "metadata": {
        "id": "zJ5qXEvFdq-I"
      },
      "outputs": [],
      "source": [
        "from sklearn.cluster import KMeans\n",
        "from sklearn.metrics import silhouette_samples, silhouette_score\n",
        "from scipy.cluster.hierarchy import linkage, dendrogram\n",
        "from sklearn.cluster import AgglomerativeClustering"
      ]
    },
    {
      "cell_type": "code",
      "execution_count": null,
      "metadata": {
        "id": "5p4a5Woee3Kw"
      },
      "outputs": [],
      "source": [
        "target_group_cluster = target_group_price.copy()"
      ]
    },
    {
      "cell_type": "code",
      "execution_count": null,
      "metadata": {
        "id": "qHJA8kGheNXB"
      },
      "outputs": [],
      "source": [
        "target_group_cluster['컬럼6'].replace({'B':0, 'A':1}, inplace=True)\n",
        "target_group_cluster['컬럼5'].replace({ 1: 0, 2 : 1}, inplace=True)"
      ]
    },
    {
      "cell_type": "code",
      "execution_count": null,
      "metadata": {
        "id": "pKhZdDo8h5Ge"
      },
      "outputs": [],
      "source": [
        "car_onehot = pd.get_dummies(target_group_cluster['컬럼7_'])\n",
        "month_onehot = pd.get_dummies(target_group_cluster['컬럼10'])\n",
        "hour_onehot = pd.get_dummies(target_group_cluster['컬럼13'])"
      ]
    },
    {
      "cell_type": "code",
      "execution_count": null,
      "metadata": {
        "id": "pH-ocOuUfVdY"
      },
      "outputs": [],
      "source": [
        "target_group_cluster = pd.concat([target_group_cluster, car_onehot, month_onehot, hour_onehot], axis = 1)"
      ]
    },
    {
      "cell_type": "code",
      "execution_count": null,
      "metadata": {
        "id": "t4XlRWp_Y7Gj"
      },
      "outputs": [],
      "source": [
        "target_group_cluster.info()"
      ]
    },
    {
      "cell_type": "markdown",
      "metadata": {
        "id": "JnpsGIil-SM7"
      },
      "source": [
        "# Scaling"
      ]
    },
    {
      "cell_type": "code",
      "execution_count": null,
      "metadata": {
        "id": "X4bS1kve65dQ"
      },
      "outputs": [],
      "source": [
        "# Hierarchical Clustering과 kmeans는 거리기반 알고리즘이기 때문에 단위의 영향력을 제거하기 위해 표준화 진행\n",
        "# (x-mean)/std로 변환하여 평균 0, 표준편차 1로 scaling을 맞춰주는 RobustScaler를 사용\n",
        "\n",
        "#from sklearn.preprocessing import StandardScaler\n",
        "#standard_scaler = StandardScaler()\n",
        "\n",
        "#from sklearn.preprocessing import MinMaxScaler\n",
        "#minmax_scaler = MinMaxScaler()\n",
        "\n",
        "from sklearn.preprocessing import RobustScaler\n",
        "robust_scaler = RobustScaler()\n",
        "\n",
        "scale_cols = ['컬럼16', '컬럼8', '컬럼9', '컬럼15']\n",
        "target_group_group_del = target_group_cluster.copy()\n",
        "\n",
        "target_group_group_scaled_features = target_group_group_del[scale_cols]\n",
        "target_group_group_del = target_group_cluster.drop(scale_cols, axis=1)"
      ]
    },
    {
      "cell_type": "code",
      "execution_count": null,
      "metadata": {
        "id": "xqtjD0xK69yr"
      },
      "outputs": [],
      "source": [
        "target_group_group_scaled_features = pd.DataFrame(robust_scaler.fit_transform(target_group_group_scaled_features), columns= target_group_group_scaled_features.columns) # scaled된 데이터\n",
        "target_group_group_scaled_features.index = target_group_group_del.index\n",
        "target_group_group_scaled = pd.concat([target_group_group_del, target_group_group_scaled_features], axis=1)"
      ]
    },
    {
      "cell_type": "code",
      "execution_count": null,
      "metadata": {
        "id": "xt8OcujemGno"
      },
      "outputs": [],
      "source": [
        "target_group_regions = target_group_cluster.groupby('지역').mean()\n",
        "target_group_regions_scaled = target_group_group_scaled.groupby('지역').mean()"
      ]
    },
    {
      "cell_type": "code",
      "execution_count": null,
      "metadata": {
        "id": "LGsXCu05camy"
      },
      "outputs": [],
      "source": [
        "target_group_regions"
      ]
    },
    {
      "cell_type": "code",
      "execution_count": null,
      "metadata": {
        "id": "UlOfA4wE7aHH"
      },
      "outputs": [],
      "source": [
        "target_group_regions_scaled"
      ]
    },
    {
      "cell_type": "code",
      "execution_count": null,
      "metadata": {
        "id": "Ja01LwxWmVzR"
      },
      "outputs": [],
      "source": [
        "regions = ['ADA', 'ACA', 'ADB', 'ABA', 'ADC', 'ACE', 'ACC',\n",
        "           'AAA', 'ABB', 'ACB', 'AAB', 'ABD',\n",
        "           'AAC', 'ABC', 'ACD', 'ABE']\n",
        "\n",
        "weekend_ratio = []\n",
        "for i in regions:\n",
        "  df = target_group_cluster[target_group_cluster['지역'] == i]\n",
        "  ratio = len(df[df['컬럼17_'] == 0]) / len(df['컬럼17_'])\n",
        "  weekend_ratio.append(round(ratio, 4))\n",
        "\n",
        "target_group_regions['컬럼21'] = weekend_ratio"
      ]
    },
    {
      "cell_type": "code",
      "execution_count": null,
      "metadata": {
        "id": "3gHdEfmC7etv"
      },
      "outputs": [],
      "source": [
        "regions = ['ADA', 'ACA', 'ADB', 'ABA', 'ADC', 'ACE', 'ACC',\n",
        "           'AAA', 'ABB', 'ACB', 'AAB', 'ABD',\n",
        "           'AAC', 'ABC', 'ACD', 'ABE']\n",
        "\n",
        "weekend_ratio = []\n",
        "for i in regions:\n",
        "  df = target_group_group_scaled[target_group_group_scaled['지역'] == i]\n",
        "  ratio = len(df[df['컬럼17_'] == 0]) / len(df['컬럼17_'])\n",
        "  weekend_ratio.append(round(ratio, 4))\n",
        "\n",
        "target_group_regions_scaled['컬럼21'] = weekend_ratio"
      ]
    },
    {
      "cell_type": "code",
      "execution_count": null,
      "metadata": {
        "id": "pJfDl9CEszS-"
      },
      "outputs": [],
      "source": [
        "target_group_regions"
      ]
    },
    {
      "cell_type": "code",
      "execution_count": null,
      "metadata": {
        "id": "LhoE6TSkmbs5"
      },
      "outputs": [],
      "source": [
        "drop_cols = ['컬럼14', '컬럼10', '컬럼11', '컬럼12', '컬럼13']\n",
        "target_group_group_num = target_group_regions.drop(drop_cols, axis = 1)\n",
        "target_group_group_num    "
      ]
    },
    {
      "cell_type": "code",
      "execution_count": null,
      "metadata": {
        "id": "D8Xj8QC47zIe"
      },
      "outputs": [],
      "source": [
        "drop_cols = ['컬럼14', '컬럼10', '컬럼11', '컬럼12', '컬럼13']\n",
        "target_group_regions_scaled_num = target_group_regions_scaled.drop(drop_cols, axis = 1)\n",
        "target_group_regions_scaled_num    "
      ]
    },
    {
      "cell_type": "markdown",
      "metadata": {
        "id": "Jyt5bkl7m0PZ"
      },
      "source": [
        "# Clustering - Hierarchical Clustering"
      ]
    },
    {
      "cell_type": "code",
      "execution_count": null,
      "metadata": {
        "id": "YDLAmCfo0BAa"
      },
      "outputs": [],
      "source": [
        "target_group_group_num.info()"
      ]
    },
    {
      "cell_type": "code",
      "execution_count": null,
      "metadata": {
        "id": "66wdVclm8Na9"
      },
      "outputs": [],
      "source": [
        "target_group_regions_scaled_num.info()"
      ]
    },
    {
      "cell_type": "code",
      "execution_count": null,
      "metadata": {
        "id": "Ru1HUlG1nOcr"
      },
      "outputs": [],
      "source": [
        "# 왼쪽은 scaling 적용 X 데이터, 오른쪽은 scaling 적용 O 데이터\n",
        "# 순서대로 single linkage, complete linkage, average linkage, centroid linkage, ward linkage 적용\n",
        "\n",
        "linkage_list = ['single', 'complete', 'average', 'centroid', 'ward']\n",
        "data = [target_group_group_num, target_group_regions_scaled_num]\n",
        "\n",
        "fig, axes = plt.subplots(nrows=len(linkage_list), ncols=2, figsize=(16, 26))\n",
        "for i in range(len(linkage_list)):\n",
        "    for j in range(len(data)):\n",
        "        hierarchical_single = linkage(data[j], method=linkage_list[i])\n",
        "        dn = dendrogram(hierarchical_single, ax=axes[i][j])\n",
        "        axes[i][j].title.set_text(linkage_list[i])\n",
        "plt.show()"
      ]
    },
    {
      "cell_type": "code",
      "execution_count": null,
      "metadata": {
        "id": "cs4BfEKPnrD6"
      },
      "outputs": [],
      "source": [
        "# 위의 dendrogram 결과 중 ward가 비교적 균일하게 군집화가 이루어진 것 같아 \n",
        "# cluster가 4가 되도록 클러스터링\n",
        "\n",
        "agg_clustering = AgglomerativeClustering(n_clusters=4, linkage='ward')\n",
        "agg_labels = agg_clustering.fit_predict(target_group_group_num)"
      ]
    },
    {
      "cell_type": "code",
      "execution_count": null,
      "metadata": {
        "id": "uqRvAsE2nxI0"
      },
      "outputs": [],
      "source": [
        "plt.figure(figsize=(20, 12))\n",
        "\n",
        "plt.subplot(331)\n",
        "sns.scatterplot(x='컬럼16', y='컬럼21', data=target_group_group_num, hue=agg_labels, palette='Set2')\n",
        "\n",
        "plt.subplot(333)\n",
        "sns.scatterplot(x='컬럼16', y='컬럼15', data=target_group_group_num, hue=agg_labels, palette='Set2')\n",
        "\n",
        "plt.subplot(334)\n",
        "sns.scatterplot(x='컬럼16', y= '컬럼5', data=target_group_group_num, hue=agg_labels, palette='Set2')\n",
        "\n",
        "plt.subplot(336)\n",
        "sns.scatterplot(x='컬럼21', y='컬럼5', data=target_group_group_num, hue=agg_labels, palette='Set2')\n",
        "\n",
        "plt.subplot(337)\n",
        "sns.scatterplot(x='컬럼21', y='컬럼15', data=target_group_group_num, hue=agg_labels, palette='Set2')"
      ]
    },
    {
      "cell_type": "code",
      "execution_count": null,
      "metadata": {
        "id": "qVY8s7MaBbHz"
      },
      "outputs": [],
      "source": [
        "agg_labels"
      ]
    },
    {
      "cell_type": "code",
      "execution_count": null,
      "metadata": {
        "id": "T07s25kjBge-"
      },
      "outputs": [],
      "source": [
        "target_group_group_num.index"
      ]
    },
    {
      "cell_type": "markdown",
      "metadata": {
        "id": "hr__7Mkun5BH"
      },
      "source": [
        "### Sclaed Data로 군집화"
      ]
    },
    {
      "cell_type": "code",
      "execution_count": null,
      "metadata": {
        "id": "ZytGFSrvoUEJ"
      },
      "outputs": [],
      "source": [
        "# 2차원으로 시각화 해보았을 때는 scaling하기 전의 데이터보다 clustering 결과가 안 좋아보임.\n",
        "\n",
        "agg_clustering = AgglomerativeClustering(n_clusters=4, linkage='ward')\n",
        "labels = agg_clustering.fit_predict(target_group_regions_scaled_num)\n",
        "\n",
        "plt.figure(figsize=(20, 12))\n",
        "plt.subplot(331)\n",
        "sns.scatterplot(x='컬럼16', y='컬럼21', data=target_group_regions_scaled_num, hue=labels, palette='Set2')\n",
        "\n",
        "plt.subplot(332)\n",
        "sns.scatterplot(x='컬럼16', y='컬럼17_', data=target_group_regions_scaled_num, hue=labels, palette='Set2')\n",
        "\n",
        "plt.subplot(333)\n",
        "sns.scatterplot(x='컬럼16', y='컬럼15', data=target_group_regions_scaled_num, hue=labels, palette='Set2')\n",
        "\n",
        "plt.subplot(334)\n",
        "sns.scatterplot(x='컬럼16', y= '컬럼5', data=target_group_regions_scaled_num, hue=labels, palette='Set2')\n",
        "\n",
        "plt.subplot(336)\n",
        "sns.scatterplot(x='컬럼21', y='컬럼5', data=target_group_regions_scaled_num, hue=labels, palette='Set2')\n",
        "\n",
        "plt.subplot(337)\n",
        "sns.scatterplot(x='컬럼21', y='컬럼15', data=target_group_regions_scaled_num, hue=labels, palette='Set2')"
      ]
    },
    {
      "cell_type": "markdown",
      "metadata": {
        "id": "5FgrmiGLo1pB"
      },
      "source": [
        "# Clustering - K-means"
      ]
    },
    {
      "cell_type": "code",
      "execution_count": null,
      "metadata": {
        "id": "9CpigRSAovcM"
      },
      "outputs": [],
      "source": [
        "# k에 따라 inertia_(군집 내 거리제곱합의 합)이 어떻게 변하는 지 시각화\n",
        "def change_n_clusters(n_clusters, data):\n",
        "    sum_of_squared_distance = []\n",
        "    for n_cluster in n_clusters:\n",
        "        kmeans = KMeans(n_clusters=n_cluster)\n",
        "        kmeans.fit(target_group_group_num)\n",
        "        sum_of_squared_distance.append(kmeans.inertia_)\n",
        "        \n",
        "    plt.figure(1 , figsize = (12, 6))\n",
        "    plt.plot(n_clusters , sum_of_squared_distance , 'o')\n",
        "    plt.plot(n_clusters , sum_of_squared_distance , '-' , alpha = 0.5)\n",
        "    plt.xlabel('Number of Clusters')\n",
        "    plt.ylabel('Inertia')"
      ]
    },
    {
      "cell_type": "code",
      "execution_count": null,
      "metadata": {
        "id": "AobWz1flp9Dj"
      },
      "outputs": [],
      "source": [
        "n_clusters = [2, 3, 4, 5, 6, 7, 8]"
      ]
    },
    {
      "cell_type": "markdown",
      "metadata": {
        "id": "EeBVlqd5qAkB"
      },
      "source": [
        "### not scaled data"
      ]
    },
    {
      "cell_type": "code",
      "execution_count": null,
      "metadata": {
        "id": "9qmG_b5Up-mJ"
      },
      "outputs": [],
      "source": [
        "# 4가 elbow poin\n",
        "change_n_clusters(n_clusters, target_group_group_num)"
      ]
    },
    {
      "cell_type": "code",
      "execution_count": null,
      "metadata": {
        "id": "ef5c6MRWqHyA"
      },
      "outputs": [],
      "source": [
        "# scaling하지 않은 데이터를 kmeans(k=4)로 학습하고 시각화\n",
        "# 어느정도 군집화가 잘 된 것으로 보여짐\n",
        "\n",
        "kmeans = KMeans(n_clusters=4)\n",
        "kmeans.fit(target_group_group_num)\n",
        "\n",
        "plt.figure(figsize=(20, 6))\n",
        "plt.subplot(131)\n",
        "sns.scatterplot(x='컬럼16', y='컬럼21', data=target_group_group_num, hue=kmeans.labels_,palette='coolwarm')\n",
        "\n",
        "plt.subplot(132)\n",
        "sns.scatterplot(x='컬럼16', y='컬럼17_', data=target_group_group_num, hue=kmeans.labels_, palette='coolwarm')\n",
        "\n",
        "plt.subplot(133)\n",
        "sns.scatterplot(x='컬럼16', y='컬럼15', data=target_group_group_num, hue=kmeans.labels_, palette='coolwarm')"
      ]
    },
    {
      "cell_type": "code",
      "execution_count": null,
      "metadata": {
        "id": "nVp5OV6sY-lV"
      },
      "outputs": [],
      "source": [
        "kmeans.labels_"
      ]
    },
    {
      "cell_type": "code",
      "execution_count": null,
      "metadata": {
        "id": "sKbHoX8XZDBN"
      },
      "outputs": [],
      "source": [
        "target_group_group_num.index"
      ]
    },
    {
      "cell_type": "markdown",
      "metadata": {
        "id": "rF9cHHmEtcbe"
      },
      "source": [
        "### scaled data"
      ]
    },
    {
      "cell_type": "code",
      "execution_count": null,
      "metadata": {
        "id": "BGppKJQVti40"
      },
      "outputs": [],
      "source": [
        "# 데이터의 분포는 넓게 퍼진 것 같지만 군집별 구분이 잘 되지 않음\n",
        "\n",
        "kmeans = KMeans(n_clusters=4)\n",
        "kmeans.fit(target_group_regions_scaled_num)\n",
        "\n",
        "plt.figure(figsize=(20, 6))\n",
        "plt.subplot(131)\n",
        "sns.scatterplot(x='컬럼16', y='컬럼21', data=target_group_regions_scaled_num, hue=kmeans.labels_,palette='coolwarm')\n",
        "\n",
        "plt.subplot(132)\n",
        "sns.scatterplot(x='컬럼16', y='컬럼17_', data=target_group_regions_scaled_num, hue=kmeans.labels_, palette='coolwarm')\n",
        "\n",
        "plt.subplot(133)\n",
        "sns.scatterplot(x='컬럼16', y='컬럼15', data=target_group_regions_scaled_num, hue=kmeans.labels_, palette='coolwarm')"
      ]
    },
    {
      "cell_type": "markdown",
      "metadata": {
        "id": "vJgG9LLhrgBK"
      },
      "source": [
        "# Clustering Evaluation"
      ]
    },
    {
      "cell_type": "code",
      "execution_count": null,
      "metadata": {
        "id": "DHlnNoTTrgov"
      },
      "outputs": [],
      "source": [
        "from sklearn.metrics import silhouette_samples, silhouette_score\n",
        "import matplotlib.cm as cm\n",
        "import math"
      ]
    },
    {
      "cell_type": "code",
      "execution_count": null,
      "metadata": {
        "id": "seE7iCgneCo-"
      },
      "outputs": [],
      "source": [
        "### 여러개의 클러스터링 갯수를 List로 입력 받아 각각의 실루엣 계수를 면적으로 시각화한 함수 작성\n",
        "def visualize_silhouette(clustering, X_features, cluster_lists=[1]): \n",
        "    \n",
        "    # 입력값으로 클러스터링 갯수들을 리스트로 받아서, 각 갯수별로 클러스터링을 적용하고 실루엣 개수를 구함\n",
        "    n_cols = len(cluster_lists)\n",
        "    \n",
        "    # plt.subplots()으로 리스트에 기재된 클러스터링 수만큼의 sub figures를 가지는 axs 생성 \n",
        "    fig, axs = plt.subplots(figsize=(4*n_cols, 4), nrows=1, ncols=n_cols)\n",
        "    \n",
        "    # 리스트에 기재된 클러스터링 갯수들을 차례로 iteration 수행하면서 실루엣 개수 시각화\n",
        "    for ind, n_cluster in enumerate(cluster_lists):\n",
        "        \n",
        "        if clustering[0] == 'hierarchical':\n",
        "            model = AgglomerativeClustering(n_clusters=n_cluster, linkage=clustering[1])\n",
        "        elif clustering[0] == 'kmeans':\n",
        "            model = KMeans(n_clusters=n_cluster)\n",
        "        # KMeans 클러스터링 수행하고, 실루엣 스코어와 개별 데이터의 실루엣 값 계산. \n",
        "        cluster_labels = model.fit_predict(X_features)\n",
        "        \n",
        "        #if clustering[0] == 'dbscan':\n",
        "        #    n_cluster = len(set(cluster_labels))-1\n",
        "        \n",
        "        sil_avg = silhouette_score(X_features, cluster_labels)\n",
        "        sil_values = silhouette_samples(X_features, cluster_labels)\n",
        "        \n",
        "        y_lower = 10\n",
        "        axs[ind].set_title('Number of Cluster : '+ str(n_cluster)+'\\n' \\\n",
        "                          'Silhouette Score :' + str(round(sil_avg,4)) )\n",
        "        axs[ind].set_xlabel(\"The silhouette coefficient values\")\n",
        "        axs[ind].set_ylabel(\"Cluster label\")\n",
        "        axs[ind].set_xlim([-0.1, 1])\n",
        "        axs[ind].set_ylim([-1, len(X_features) + (n_cluster + 1) * 10])\n",
        "        axs[ind].set_yticks([])  # Clear the yaxis labels / ticks\n",
        "        axs[ind].set_xticks([0, 0.2, 0.4, 0.6, 0.8, 1])\n",
        "        \n",
        "        # 클러스터링 갯수별로 fill_betweenx( )형태의 막대 그래프 표현. \n",
        "        for i in range(n_cluster):\n",
        "            ith_cluster_sil_values = sil_values[cluster_labels==i]\n",
        "            ith_cluster_sil_values.sort()\n",
        "            \n",
        "            size_cluster_i = ith_cluster_sil_values.shape[0]\n",
        "            y_upper = y_lower + size_cluster_i\n",
        "            \n",
        "            color = cm.nipy_spectral(float(i) / n_cluster)\n",
        "            axs[ind].fill_betweenx(np.arange(y_lower, y_upper), 0, ith_cluster_sil_values, \\\n",
        "                                facecolor=color, edgecolor=color, alpha=0.7)\n",
        "            axs[ind].text(-0.05, y_lower + 0.5 * size_cluster_i, str(i))\n",
        "            y_lower = y_upper + 10\n",
        "            \n",
        "        axs[ind].axvline(x=sil_avg, color=\"red\", linestyle=\"--\")"
      ]
    },
    {
      "cell_type": "markdown",
      "metadata": {
        "id": "2P8nUdJYsPpI"
      },
      "source": [
        "## Hierarchical Clustering Evaluation"
      ]
    },
    {
      "cell_type": "code",
      "execution_count": null,
      "metadata": {
        "id": "MWxed1HqrzXm"
      },
      "outputs": [],
      "source": [
        "params = {\n",
        "    'linkage':['single', 'complete', 'average', 'ward'],\n",
        "    'n_clusters':[2, 3, 4, 5, 6, 7, 8]}\n",
        "\n",
        "scores_hierarcical= {}\n",
        "for linkage in params['linkage']:\n",
        "    for n_cluster in params['n_clusters']:\n",
        "        hierarchical = AgglomerativeClustering(n_clusters=n_cluster, linkage=linkage)\n",
        "        hierarchical.fit(target_group_group_num)\n",
        "        score = silhouette_score(target_group_group_num, hierarchical.labels_)\n",
        "        scores_hierarcical['_'.join(['original', linkage, str(n_cluster)])] = score\n",
        "        \n",
        "        hierarchical = AgglomerativeClustering(n_clusters=n_cluster, linkage=linkage)\n",
        "        hierarchical.fit(target_group_regions_scaled_num)\n",
        "        score = silhouette_score(target_group_regions_scaled_num, hierarchical.labels_)\n",
        "        scores_hierarcical['_'.join(['scaling', linkage, str(n_cluster)])] = score\n",
        "\n",
        "pd.Series(scores_hierarcical).sort_values(ascending=False)[:10]\n",
        "\n",
        "# 전반적으로 scaling을 적용한 후에 silhouette score가 낮아짐\n",
        "# 아무래도 scaling하기 전의 척도가 군집화를 수행함에 있어 적절했던 것으로 예상"
      ]
    },
    {
      "cell_type": "code",
      "execution_count": null,
      "metadata": {
        "id": "X3kcVIc4r4Yy"
      },
      "outputs": [],
      "source": [
        "# silhouette score 확인\n",
        "# scaled 데이터로 군집화했을 경우 매우 낮은 실루엣 지수\n",
        "\n",
        "visualize_silhouette(['hierarchical', 'ward'], target_group_group_num, [3, 4, 5, 6, 7, 8]) # original data\n",
        "visualize_silhouette(['hierarchical', 'ward'], target_group_regions_scaled_num, [3, 4, 5, 6, 7, 8]) # scaled data\n",
        "\n",
        "# cluster의 수가 7일 때 실루엣계수가 가장 높지만, 모든 군집의 실루엣계수가 나타난 건 cluster의 수가 4일 때"
      ]
    },
    {
      "cell_type": "markdown",
      "metadata": {
        "id": "ZfXbYC_qsHhE"
      },
      "source": [
        "## K-means Evaluation"
      ]
    },
    {
      "cell_type": "code",
      "execution_count": null,
      "metadata": {
        "id": "9TBrb46msCqK"
      },
      "outputs": [],
      "source": [
        "params = {'n_clusters':[2, 3, 4, 5, 6, 7, 8]}\n",
        "\n",
        "scores_kmeans = {}\n",
        "for n_cluster in params['n_clusters']:\n",
        "    model = KMeans(n_clusters=n_cluster)\n",
        "    model.fit(target_group_group_num)\n",
        "    score = silhouette_score(target_group_group_num, model.labels_)\n",
        "    scores_kmeans['_'.join(['original', str(n_cluster)])] = score\n",
        "    \n",
        "    model = KMeans(n_clusters=n_cluster)\n",
        "    model.fit(target_group_regions_scaled_num)\n",
        "    score = silhouette_score(target_group_regions_scaled_num, model.labels_)\n",
        "    scores_kmeans['_'.join(['scaled', str(n_cluster)])] = score\n",
        "\n",
        "pd.Series(scores_kmeans).sort_values(ascending=False)[:10]\n",
        "\n",
        "# 계층적 군집화와 마찬가지로 전반적으로 scaling을 적용한 후에 silhouette score가 낮아짐"
      ]
    },
    {
      "cell_type": "code",
      "execution_count": null,
      "metadata": {
        "id": "q4ujo-1asHDw"
      },
      "outputs": [],
      "source": [
        "visualize_silhouette(['kmeans'], target_group_group_num, [3, 4, 5, 6, 7, 8])\n",
        "visualize_silhouette(['kmeans'], target_group_regions_scaled_num, [3, 4, 5, 6, 7, 8])\n",
        "\n",
        "# 이번에도 cluster의 수가 7일 때 실루엣계수가 가장 높지만, 모든 군집의 실루엣계수가 나타난 건 cluster의 수가 4일 때"
      ]
    },
    {
      "cell_type": "code",
      "execution_count": null,
      "metadata": {
        "id": "knYT9CxquT5H"
      },
      "outputs": [],
      "source": [
        "cluster_0 = ['AAA', 'AAB', 'AAC']\n",
        "cluster_1 = ['ABA', 'ABB', 'ABD', 'ABE', 'ABC']\n",
        "cluster_2 = ['ACA', 'ACE', 'ACC', 'ACB', 'ACD']\n",
        "cluster_3 = ['ADA', 'ADB', 'ADC']\n",
        "\n",
        "def int_cluster(x):\n",
        "  if x in cluster_0:\n",
        "    return 0\n",
        "  elif x in cluster_1:\n",
        "    return 1\n",
        "  elif x in cluster_2:\n",
        "    return 2\n",
        "  elif x in cluster_3:\n",
        "    return 3\n",
        "\n",
        "target_group_price['Cluster_num'] = target_group_price['지역'].map(lambda x : int_cluster(x))"
      ]
    },
    {
      "cell_type": "code",
      "execution_count": null,
      "metadata": {
        "id": "O-fcVNn0icyb"
      },
      "outputs": [],
      "source": [
        "Clusters = pd.DataFrame(target_group_price.groupby('Cluster_num')[['컬럼16', '컬럼15']].mean())\n",
        "Clusters.sort_values(by='컬럼16', ascending=False)"
      ]
    },
    {
      "cell_type": "code",
      "execution_count": null,
      "metadata": {
        "id": "9z53PfCoCaS0"
      },
      "outputs": [],
      "source": [
        "target_group_price"
      ]
    },
    {
      "cell_type": "markdown",
      "metadata": {
        "id": "_x6-ZaaQvjbx"
      },
      "source": [
        "# * target_group_cluster 데이터프레임 저장"
      ]
    },
    {
      "cell_type": "code",
      "execution_count": null,
      "metadata": {
        "id": "XiTheTPcvggB"
      },
      "outputs": [],
      "source": [
        "pd.to_pickle(target_group_price, '/home/aiffeldefinition/해커톤/data/target_group_preprocessed.pkl')"
      ]
    },
    {
      "cell_type": "code",
      "execution_count": null,
      "metadata": {
        "id": "v_HVTmmaHJ8r"
      },
      "outputs": [],
      "source": [
        ""
      ]
    }
  ],
  "metadata": {
    "colab": {
      "collapsed_sections": [],
      "name": "데이터_군집화.ipynb",
      "provenance": []
    },
    "kernelspec": {
      "display_name": "Python 3 (ipykernel)",
      "language": "python",
      "name": "python3"
    },
    "language_info": {
      "codemirror_mode": {
        "name": "ipython",
        "version": 3
      },
      "file_extension": ".py",
      "mimetype": "text/x-python",
      "name": "python",
      "nbconvert_exporter": "python",
      "pygments_lexer": "ipython3",
      "version": "3.7.13"
    }
  },
  "nbformat": 4,
  "nbformat_minor": 0
}