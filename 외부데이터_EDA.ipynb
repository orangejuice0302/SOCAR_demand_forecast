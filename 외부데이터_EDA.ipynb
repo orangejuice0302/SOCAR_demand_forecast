{
  "nbformat": 4,
  "nbformat_minor": 0,
  "metadata": {
    "colab": {
      "name": "20220603_외부데이터_v3.ipynb",
      "provenance": [],
      "collapsed_sections": [],
      "toc_visible": true,
      "machine_shape": "hm"
    },
    "kernelspec": {
      "name": "python3",
      "display_name": "Python 3"
    },
    "language_info": {
      "name": "python"
    },
    "accelerator": "GPU"
  },
  "cells": [
    {
      "cell_type": "code",
      "execution_count": null,
      "metadata": {
        "id": "dkUyOK0wR9Lt"
      },
      "outputs": [],
      "source": [
        "import numpy as np\n",
        "import pandas as pd\n",
        "import warnings\n",
        "warnings.filterwarnings('ignore')\n",
        "import matplotlib.pyplot as plt\n",
        "import seaborn as sns\n",
        "plt.rc('font', family='NanumBarunGothic')"
      ]
    },
    {
      "cell_type": "markdown",
      "source": [
        "# 인구통계"
      ],
      "metadata": {
        "id": "o0Zi7DvJgnUy"
      }
    },
    {
      "cell_type": "code",
      "source": [
        "df_ggd_population = pd.read_csv('/content/drive/MyDrive/AIFFEL 해커톤/연령_성별_인구_경기도.csv', encoding='cp949')\n",
        "df_ggd_population"
      ],
      "metadata": {
        "id": "vQ8EKPTSAqCb"
      },
      "execution_count": null,
      "outputs": []
    },
    {
      "cell_type": "code",
      "source": [
        "ggd_population = df_ggd_population.copy()\n",
        "ggd_population = ggd_population[['행정구역별(읍면동)','연령별','2019']]\n",
        "ggd_population.columns = ggd_population.loc[0]\n",
        "ggd_population = ggd_population.drop([0])\n",
        "ggd_population"
      ],
      "metadata": {
        "id": "N0k9L7Y2Ap93"
      },
      "execution_count": null,
      "outputs": []
    },
    {
      "cell_type": "code",
      "source": [
        "ggd2030 = ggd_population\n",
        "ggd2030['연령별'].astype('str')\n",
        "ggd2030 = ggd2030[(ggd2030['연령별']=='20~24세') | (ggd2030['연령별']=='25~29세') | (ggd2030['연령별']=='30~34세') | (ggd2030['연령별']=='35~39세')]\n",
        "ggd2030"
      ],
      "metadata": {
        "id": "Sau9McStEaoL"
      },
      "execution_count": null,
      "outputs": []
    },
    {
      "cell_type": "code",
      "source": [
        "for region in ggd2030['행정구역별(읍면동)'].unique():\n",
        "  new_row = {'행정구역별(읍면동)': region, '연령별': '2030', \n",
        "             '총인구(명)': sum(ggd2030[ggd2030['행정구역별(읍면동)']==region]['총인구(명)'].astype('int64')),\n",
        "             }\n",
        "  ggd2030 = ggd2030.append(new_row, ignore_index=True)\n",
        "\n",
        "ggd2030"
      ],
      "metadata": {
        "id": "i4wYaybKFy2F"
      },
      "execution_count": null,
      "outputs": []
    },
    {
      "cell_type": "code",
      "source": [
        "ggd2030 = ggd2030[ggd2030['연령별']=='2030']\n",
        "ggd2030"
      ],
      "metadata": {
        "id": "k0fdp3KQGNyx"
      },
      "execution_count": null,
      "outputs": []
    },
    {
      "cell_type": "markdown",
      "source": [
        "### 경기도 지역별 2030 인구"
      ],
      "metadata": {
        "id": "8-MhKDXHLUGG"
      }
    },
    {
      "cell_type": "code",
      "source": [
        "plt.figure(figsize=(15,10))\n",
        "\n",
        "sns.barplot(data=ggd2030.sort_values(by='총인구(명)',ascending=False),x='총인구(명)',y='행정구역별(읍면동)',palette='Blues_d')\n",
        "plt.title('경기도 지역별 2030 인구',fontsize=20)"
      ],
      "metadata": {
        "id": "l8oACY0HIHhF"
      },
      "execution_count": null,
      "outputs": []
    },
    {
      "cell_type": "code",
      "source": [
        "ggd_total = ggd_population[ggd_population['연령별']=='합계']\n",
        "ggd_total"
      ],
      "metadata": {
        "id": "gsb7FzMT0eUQ"
      },
      "execution_count": null,
      "outputs": []
    },
    {
      "cell_type": "markdown",
      "source": [
        "### 경기도 지역별 2030 비율"
      ],
      "metadata": {
        "id": "PElM00tkLX_i"
      }
    },
    {
      "cell_type": "code",
      "source": [
        "ggd2030_ratio = pd.merge(ggd2030, ggd_total, on='행정구역별(읍면동)')\n",
        "ggd2030_ratio = ggd2030_ratio[['행정구역별(읍면동)','총인구(명)_x','총인구(명)_y']]\n",
        "ggd2030_ratio.columns = ['컬럼2030인구','총인구']\n",
        "ggd2030_ratio.set_index('컬럼2',inplace=True)\n",
        "ggd2030_ratio = ggd2030_ratio[['2030인구','총인구']].astype('float')\n",
        "ggd2030_ratio['2030비율'] = ggd2030_ratio['2030인구'] / ggd2030_ratio['총인구']\n",
        "ggd2030_ratio"
      ],
      "metadata": {
        "id": "V7rLNLduIpKP"
      },
      "execution_count": null,
      "outputs": []
    },
    {
      "cell_type": "code",
      "source": [
        "plt.figure(figsize=(15,10))\n",
        "\n",
        "sns.barplot(data=ggd2030_ratio.sort_values(by='2030비율',ascending=False),x='2030비율',y=ggd2030_ratio.index,palette='Blues_d')\n",
        "plt.title('경기도 지역별 2030 인구비율',fontsize=20)"
      ],
      "metadata": {
        "id": "SaA_qfLOLQKQ"
      },
      "execution_count": null,
      "outputs": []
    },
    {
      "cell_type": "markdown",
      "source": [
        "# 쏘카존 "
      ],
      "metadata": {
        "id": "gfjHyboEcWdV"
      }
    },
    {
      "cell_type": "code",
      "source": [
        "df_socar_zone = pd.read_csv('/content/drive/MyDrive/아이펠_해커톤/hackathon_data/20210823_socar_zone.csv')\n",
        "df_socar_zone.head()"
      ],
      "metadata": {
        "id": "YxuRRT3pcGlf"
      },
      "execution_count": null,
      "outputs": []
    },
    {
      "cell_type": "code",
      "source": [
        "socar_zone = df_socar_zone.copy()\n",
        "socar_zone.head()"
      ],
      "metadata": {
        "id": "HBKZKx8TcR1j"
      },
      "execution_count": null,
      "outputs": []
    },
    {
      "cell_type": "code",
      "source": [
        "cluster_0 = ['A', 'B']\n",
        "cluster_1 = ['I','C', 'D', 'G']\n",
        "cluster_2 = ['H','J', 'K', 'L']\n",
        "cluster_3 = ['M', 'N', 'O']\n",
        "cluster_4 = ['P']\n",
        "\n",
        "def int_cluster(x):\n",
        "  if x in cluster_0:\n",
        "    return 0\n",
        "  elif x in cluster_1:\n",
        "    return 1\n",
        "  elif x in cluster_2:\n",
        "    return 2\n",
        "  elif x in cluster_3:\n",
        "    return 3\n",
        "  elif x in cluster_4:\n",
        "   return 4\n",
        "\n",
        "socar_zone_region['Cluster_num'] = socar_zone_region['컬럼2'].map(lambda x : int_cluster(x))"
      ],
      "metadata": {
        "id": "99BwyvqRD74a"
      },
      "execution_count": null,
      "outputs": []
    },
    {
      "cell_type": "code",
      "source": [
        "socar_zone_region_cluster = pd.DataFrame(socar_zone_region.groupby('Cluster_num')['쏘카존개수'].mean())"
      ],
      "metadata": {
        "id": "43XMiDNQEF_R"
      },
      "execution_count": null,
      "outputs": []
    },
    {
      "cell_type": "code",
      "source": [
        "socar_zone_region_cluster"
      ],
      "metadata": {
        "id": "94MxELkrEOWD"
      },
      "execution_count": null,
      "outputs": []
    },
    {
      "cell_type": "markdown",
      "source": [
        "### 군집별 쏘카존 수 순위"
      ],
      "metadata": {
        "id": "tG5UFplCqF6Q"
      }
    },
    {
      "cell_type": "code",
      "source": [
        "socar_zone_region_cluster['rank'] = socar_zone_region_cluster['쏘카존개수'].rank(method='average',ascending=False)\n",
        "socar_zone_region_cluster[['rank']].sort_values(by='rank')"
      ],
      "metadata": {
        "colab": {
          "base_uri": "https://localhost:8080/",
          "height": 238
        },
        "id": "N0iOtgMKpng9",
        "outputId": "479ceeb8-50ad-4e65-ea36-ff5e5b940e99"
      },
      "execution_count": null,
      "outputs": [
        {
          "output_type": "execute_result",
          "data": {
            "text/plain": [
              "             rank\n",
              "Cluster_num      \n",
              "0             1.0\n",
              "2             2.0\n",
              "1             3.0\n",
              "3             4.0\n",
              "4             5.0"
            ],
            "text/html": [
              "\n",
              "  <div id=\"df-b9484332-75ca-4764-942a-5e522b8c1064\">\n",
              "    <div class=\"colab-df-container\">\n",
              "      <div>\n",
              "<style scoped>\n",
              "    .dataframe tbody tr th:only-of-type {\n",
              "        vertical-align: middle;\n",
              "    }\n",
              "\n",
              "    .dataframe tbody tr th {\n",
              "        vertical-align: top;\n",
              "    }\n",
              "\n",
              "    .dataframe thead th {\n",
              "        text-align: right;\n",
              "    }\n",
              "</style>\n",
              "<table border=\"1\" class=\"dataframe\">\n",
              "  <thead>\n",
              "    <tr style=\"text-align: right;\">\n",
              "      <th></th>\n",
              "      <th>rank</th>\n",
              "    </tr>\n",
              "    <tr>\n",
              "      <th>Cluster_num</th>\n",
              "      <th></th>\n",
              "    </tr>\n",
              "  </thead>\n",
              "  <tbody>\n",
              "    <tr>\n",
              "      <th>0</th>\n",
              "      <td>1.0</td>\n",
              "    </tr>\n",
              "    <tr>\n",
              "      <th>2</th>\n",
              "      <td>2.0</td>\n",
              "    </tr>\n",
              "    <tr>\n",
              "      <th>1</th>\n",
              "      <td>3.0</td>\n",
              "    </tr>\n",
              "    <tr>\n",
              "      <th>3</th>\n",
              "      <td>4.0</td>\n",
              "    </tr>\n",
              "    <tr>\n",
              "      <th>4</th>\n",
              "      <td>5.0</td>\n",
              "    </tr>\n",
              "  </tbody>\n",
              "</table>\n",
              "</div>\n",
              "      <button class=\"colab-df-convert\" onclick=\"convertToInteractive('df-b9484332-75ca-4764-942a-5e522b8c1064')\"\n",
              "              title=\"Convert this dataframe to an interactive table.\"\n",
              "              style=\"display:none;\">\n",
              "        \n",
              "  <svg xmlns=\"http://www.w3.org/2000/svg\" height=\"24px\"viewBox=\"0 0 24 24\"\n",
              "       width=\"24px\">\n",
              "    <path d=\"M0 0h24v24H0V0z\" fill=\"none\"/>\n",
              "    <path d=\"M18.56 5.44l.94 2.06.94-2.06 2.06-.94-2.06-.94-.94-2.06-.94 2.06-2.06.94zm-11 1L8.5 8.5l.94-2.06 2.06-.94-2.06-.94L8.5 2.5l-.94 2.06-2.06.94zm10 10l.94 2.06.94-2.06 2.06-.94-2.06-.94-.94-2.06-.94 2.06-2.06.94z\"/><path d=\"M17.41 7.96l-1.37-1.37c-.4-.4-.92-.59-1.43-.59-.52 0-1.04.2-1.43.59L10.3 9.45l-7.72 7.72c-.78.78-.78 2.05 0 2.83L4 21.41c.39.39.9.59 1.41.59.51 0 1.02-.2 1.41-.59l7.78-7.78 2.81-2.81c.8-.78.8-2.07 0-2.86zM5.41 20L4 18.59l7.72-7.72 1.47 1.35L5.41 20z\"/>\n",
              "  </svg>\n",
              "      </button>\n",
              "      \n",
              "  <style>\n",
              "    .colab-df-container {\n",
              "      display:flex;\n",
              "      flex-wrap:wrap;\n",
              "      gap: 12px;\n",
              "    }\n",
              "\n",
              "    .colab-df-convert {\n",
              "      background-color: #E8F0FE;\n",
              "      border: none;\n",
              "      border-radius: 50%;\n",
              "      cursor: pointer;\n",
              "      display: none;\n",
              "      fill: #1967D2;\n",
              "      height: 32px;\n",
              "      padding: 0 0 0 0;\n",
              "      width: 32px;\n",
              "    }\n",
              "\n",
              "    .colab-df-convert:hover {\n",
              "      background-color: #E2EBFA;\n",
              "      box-shadow: 0px 1px 2px rgba(60, 64, 67, 0.3), 0px 1px 3px 1px rgba(60, 64, 67, 0.15);\n",
              "      fill: #174EA6;\n",
              "    }\n",
              "\n",
              "    [theme=dark] .colab-df-convert {\n",
              "      background-color: #3B4455;\n",
              "      fill: #D2E3FC;\n",
              "    }\n",
              "\n",
              "    [theme=dark] .colab-df-convert:hover {\n",
              "      background-color: #434B5C;\n",
              "      box-shadow: 0px 1px 3px 1px rgba(0, 0, 0, 0.15);\n",
              "      filter: drop-shadow(0px 1px 2px rgba(0, 0, 0, 0.3));\n",
              "      fill: #FFFFFF;\n",
              "    }\n",
              "  </style>\n",
              "\n",
              "      <script>\n",
              "        const buttonEl =\n",
              "          document.querySelector('#df-b9484332-75ca-4764-942a-5e522b8c1064 button.colab-df-convert');\n",
              "        buttonEl.style.display =\n",
              "          google.colab.kernel.accessAllowed ? 'block' : 'none';\n",
              "\n",
              "        async function convertToInteractive(key) {\n",
              "          const element = document.querySelector('#df-b9484332-75ca-4764-942a-5e522b8c1064');\n",
              "          const dataTable =\n",
              "            await google.colab.kernel.invokeFunction('convertToInteractive',\n",
              "                                                     [key], {});\n",
              "          if (!dataTable) return;\n",
              "\n",
              "          const docLinkHtml = 'Like what you see? Visit the ' +\n",
              "            '<a target=\"_blank\" href=https://colab.research.google.com/notebooks/data_table.ipynb>data table notebook</a>'\n",
              "            + ' to learn more about interactive tables.';\n",
              "          element.innerHTML = '';\n",
              "          dataTable['output_type'] = 'display_data';\n",
              "          await google.colab.output.renderOutput(dataTable, element);\n",
              "          const docLink = document.createElement('div');\n",
              "          docLink.innerHTML = docLinkHtml;\n",
              "          element.appendChild(docLink);\n",
              "        }\n",
              "      </script>\n",
              "    </div>\n",
              "  </div>\n",
              "  "
            ]
          },
          "metadata": {},
          "execution_count": 223
        }
      ]
    },
    {
      "cell_type": "code",
      "source": [
        "plt.figure(figsize=(15,10))\n",
        "\n",
        "sns.barplot(data=socar_zone_region_cluster,x=socar_zone_region_cluster.index,y=socar_zone_region_cluster['쏘카존개수'],palette='Blues_d')\n",
        "plt.title('Cluster별 쏘카존 개수',fontsize=20)"
      ],
      "metadata": {
        "id": "JvQF_DDg3Fce"
      },
      "execution_count": null,
      "outputs": []
    },
    {
      "cell_type": "markdown",
      "source": [
        "# 버스정류장"
      ],
      "metadata": {
        "id": "sU6UpGUWcUQM"
      }
    },
    {
      "cell_type": "code",
      "source": [
        "df_bus_station = pd.read_csv('/content/drive/MyDrive/아이펠_해커톤/hackathon_data/쏘카트랙_QGIS/시군구별_버스정류장개수.csv')\n",
        "df_bus_station"
      ],
      "metadata": {
        "id": "FcoeK-UGwRi0"
      },
      "execution_count": null,
      "outputs": []
    },
    {
      "cell_type": "code",
      "source": [
        "bus_station = df_bus_station.copy()\n",
        "bus_station.drop(['SIG_CD', 'SIG_ENG_NM'], axis=1, inplace=True)\n",
        "bus_station.rename(columns={'SIG_KOR_NM':'컬럼2',\n",
        "                            'NUMPOINTS' : '버스정류장수'}, inplace=True)\n",
        "bus_station"
      ],
      "metadata": {
        "id": "3_KnPctxwlU1"
      },
      "execution_count": null,
      "outputs": []
    },
    {
      "cell_type": "code",
      "source": [
        "plt.figure(figsize=(15,10))\n",
        "\n",
        "sns.barplot(data=bus_station.sort_values(by='버스정류장수',ascending=False),x='버스정류장수',y='컬럼2',palette='Blues_d')\n",
        "plt.title('경기도 지역별 버스정류장수 개수',fontsize=20)"
      ],
      "metadata": {
        "id": "6XtWkL7S3sLA"
      },
      "execution_count": null,
      "outputs": []
    },
    {
      "cell_type": "code",
      "source": [
        "bus_station['Cluster_num'] = bus_station['컬럼2'].map(lambda x : int_cluster(x))"
      ],
      "metadata": {
        "id": "haMTPn3VETs_"
      },
      "execution_count": null,
      "outputs": []
    },
    {
      "cell_type": "code",
      "source": [
        "bus_station_cluster = pd.DataFrame(bus_station.groupby('Cluster_num')['버스정류장수'].mean())\n",
        "bus_station_cluster"
      ],
      "metadata": {
        "colab": {
          "base_uri": "https://localhost:8080/",
          "height": 238
        },
        "id": "ElgpOyvoEbmE",
        "outputId": "1ae29dde-8862-4903-f0bd-cb2cf69bb362"
      },
      "execution_count": null,
      "outputs": [
        {
          "output_type": "execute_result",
          "data": {
            "text/plain": [
              "                  버스정류장수\n",
              "Cluster_num             \n",
              "0             567.500000\n",
              "1             915.166667\n",
              "2             762.250000\n",
              "3             648.000000\n",
              "4            1089.000000"
            ],
            "text/html": [
              "\n",
              "  <div id=\"df-7f8c52dc-74f1-4d2f-8cdf-663f53a2b1ac\">\n",
              "    <div class=\"colab-df-container\">\n",
              "      <div>\n",
              "<style scoped>\n",
              "    .dataframe tbody tr th:only-of-type {\n",
              "        vertical-align: middle;\n",
              "    }\n",
              "\n",
              "    .dataframe tbody tr th {\n",
              "        vertical-align: top;\n",
              "    }\n",
              "\n",
              "    .dataframe thead th {\n",
              "        text-align: right;\n",
              "    }\n",
              "</style>\n",
              "<table border=\"1\" class=\"dataframe\">\n",
              "  <thead>\n",
              "    <tr style=\"text-align: right;\">\n",
              "      <th></th>\n",
              "      <th>버스정류장수</th>\n",
              "    </tr>\n",
              "    <tr>\n",
              "      <th>Cluster_num</th>\n",
              "      <th></th>\n",
              "    </tr>\n",
              "  </thead>\n",
              "  <tbody>\n",
              "    <tr>\n",
              "      <th>0</th>\n",
              "      <td>567.500000</td>\n",
              "    </tr>\n",
              "    <tr>\n",
              "      <th>1</th>\n",
              "      <td>915.166667</td>\n",
              "    </tr>\n",
              "    <tr>\n",
              "      <th>2</th>\n",
              "      <td>762.250000</td>\n",
              "    </tr>\n",
              "    <tr>\n",
              "      <th>3</th>\n",
              "      <td>648.000000</td>\n",
              "    </tr>\n",
              "    <tr>\n",
              "      <th>4</th>\n",
              "      <td>1089.000000</td>\n",
              "    </tr>\n",
              "  </tbody>\n",
              "</table>\n",
              "</div>\n",
              "      <button class=\"colab-df-convert\" onclick=\"convertToInteractive('df-7f8c52dc-74f1-4d2f-8cdf-663f53a2b1ac')\"\n",
              "              title=\"Convert this dataframe to an interactive table.\"\n",
              "              style=\"display:none;\">\n",
              "        \n",
              "  <svg xmlns=\"http://www.w3.org/2000/svg\" height=\"24px\"viewBox=\"0 0 24 24\"\n",
              "       width=\"24px\">\n",
              "    <path d=\"M0 0h24v24H0V0z\" fill=\"none\"/>\n",
              "    <path d=\"M18.56 5.44l.94 2.06.94-2.06 2.06-.94-2.06-.94-.94-2.06-.94 2.06-2.06.94zm-11 1L8.5 8.5l.94-2.06 2.06-.94-2.06-.94L8.5 2.5l-.94 2.06-2.06.94zm10 10l.94 2.06.94-2.06 2.06-.94-2.06-.94-.94-2.06-.94 2.06-2.06.94z\"/><path d=\"M17.41 7.96l-1.37-1.37c-.4-.4-.92-.59-1.43-.59-.52 0-1.04.2-1.43.59L10.3 9.45l-7.72 7.72c-.78.78-.78 2.05 0 2.83L4 21.41c.39.39.9.59 1.41.59.51 0 1.02-.2 1.41-.59l7.78-7.78 2.81-2.81c.8-.78.8-2.07 0-2.86zM5.41 20L4 18.59l7.72-7.72 1.47 1.35L5.41 20z\"/>\n",
              "  </svg>\n",
              "      </button>\n",
              "      \n",
              "  <style>\n",
              "    .colab-df-container {\n",
              "      display:flex;\n",
              "      flex-wrap:wrap;\n",
              "      gap: 12px;\n",
              "    }\n",
              "\n",
              "    .colab-df-convert {\n",
              "      background-color: #E8F0FE;\n",
              "      border: none;\n",
              "      border-radius: 50%;\n",
              "      cursor: pointer;\n",
              "      display: none;\n",
              "      fill: #1967D2;\n",
              "      height: 32px;\n",
              "      padding: 0 0 0 0;\n",
              "      width: 32px;\n",
              "    }\n",
              "\n",
              "    .colab-df-convert:hover {\n",
              "      background-color: #E2EBFA;\n",
              "      box-shadow: 0px 1px 2px rgba(60, 64, 67, 0.3), 0px 1px 3px 1px rgba(60, 64, 67, 0.15);\n",
              "      fill: #174EA6;\n",
              "    }\n",
              "\n",
              "    [theme=dark] .colab-df-convert {\n",
              "      background-color: #3B4455;\n",
              "      fill: #D2E3FC;\n",
              "    }\n",
              "\n",
              "    [theme=dark] .colab-df-convert:hover {\n",
              "      background-color: #434B5C;\n",
              "      box-shadow: 0px 1px 3px 1px rgba(0, 0, 0, 0.15);\n",
              "      filter: drop-shadow(0px 1px 2px rgba(0, 0, 0, 0.3));\n",
              "      fill: #FFFFFF;\n",
              "    }\n",
              "  </style>\n",
              "\n",
              "      <script>\n",
              "        const buttonEl =\n",
              "          document.querySelector('#df-7f8c52dc-74f1-4d2f-8cdf-663f53a2b1ac button.colab-df-convert');\n",
              "        buttonEl.style.display =\n",
              "          google.colab.kernel.accessAllowed ? 'block' : 'none';\n",
              "\n",
              "        async function convertToInteractive(key) {\n",
              "          const element = document.querySelector('#df-7f8c52dc-74f1-4d2f-8cdf-663f53a2b1ac');\n",
              "          const dataTable =\n",
              "            await google.colab.kernel.invokeFunction('convertToInteractive',\n",
              "                                                     [key], {});\n",
              "          if (!dataTable) return;\n",
              "\n",
              "          const docLinkHtml = 'Like what you see? Visit the ' +\n",
              "            '<a target=\"_blank\" href=https://colab.research.google.com/notebooks/data_table.ipynb>data table notebook</a>'\n",
              "            + ' to learn more about interactive tables.';\n",
              "          element.innerHTML = '';\n",
              "          dataTable['output_type'] = 'display_data';\n",
              "          await google.colab.output.renderOutput(dataTable, element);\n",
              "          const docLink = document.createElement('div');\n",
              "          docLink.innerHTML = docLinkHtml;\n",
              "          element.appendChild(docLink);\n",
              "        }\n",
              "      </script>\n",
              "    </div>\n",
              "  </div>\n",
              "  "
            ]
          },
          "metadata": {},
          "execution_count": 27
        }
      ]
    },
    {
      "cell_type": "code",
      "source": [
        "plt.figure(figsize=(15,10))\n",
        "\n",
        "sns.barplot(data=bus_station_cluster,x=bus_station_cluster.index,y=bus_station_cluster['버스정류장수'],palette='Blues_d')\n",
        "plt.title('Cluster별 버스정류장수 개수',fontsize=20)"
      ],
      "metadata": {
        "colab": {
          "base_uri": "https://localhost:8080/",
          "height": 646
        },
        "id": "M_Gs4jGl31zD",
        "outputId": "632055c4-c191-4175-fa6e-ecf4c018e453"
      },
      "execution_count": null,
      "outputs": [
        {
          "output_type": "execute_result",
          "data": {
            "text/plain": [
              "Text(0.5, 1.0, 'Cluster별 버스정류장수 개수')"
            ]
          },
          "metadata": {},
          "execution_count": 28
        },
        {
          "output_type": "display_data",
          "data": {
            "text/plain": [
              "<Figure size 1080x720 with 1 Axes>"
            ],
            "image/png": "[encoded data removed]"
          },
          "metadata": {
            "needs_background": "light"
          }
        }
      ]
    },
    {
      "cell_type": "markdown",
      "source": [
        "### 지역별 면적 출처 링크\n",
        "\n",
        "https://kosis.kr/statHtml/statHtml.do?orgId=460&tblId=TX_315_2009_H1009&conn_path=I2\n",
        "\n",
        "\n"
      ],
      "metadata": {
        "id": "6XyNZdDs_Cqt"
      }
    },
    {
      "cell_type": "code",
      "source": [
        "df_컬럼2_area = pd.read_csv('/content/drive/MyDrive/아이펠_해커톤/hackathon_data/지역별면적/분석지역면적.csv', encoding='cp949') "
      ],
      "metadata": {
        "id": "df2h2D-6w3B0"
      },
      "execution_count": null,
      "outputs": []
    },
    {
      "cell_type": "code",
      "source": [
        "df_컬럼2_area"
      ],
      "metadata": {
        "id": "5mG-Lv2ACipK"
      },
      "execution_count": null,
      "outputs": []
    },
    {
      "cell_type": "markdown",
      "source": [
        "# 데이터프레임 재생성"
      ],
      "metadata": {
        "id": "_dKpKJOeGbOt"
      }
    },
    {
      "cell_type": "code",
      "source": [
        "컬럼2_area = df_컬럼2_area.copy()\n",
        "컬럼2_area = 컬럼2_area.rename(columns=컬럼2_area.iloc[1])\n",
        "컬럼2_area = 컬럼2_area.drop(컬럼2_area.index[0:2]).reset_index(drop=True)\n",
        "컬럼2_area"
      ],
      "metadata": {
        "id": "lq6zcs06RkJA"
      },
      "execution_count": null,
      "outputs": []
    },
    {
      "cell_type": "code",
      "source": [
        "컬럼2_area = df_컬럼2_area.copy()\n",
        "컬럼2_area = 컬럼2_area.rename(columns=컬럼2_area.iloc[1])\n",
        "컬럼2_area = 컬럼2_area.drop(컬럼2_area.index[0:2]).reset_index(drop=True)\n",
        "컬럼2_area.columns = ['region1', '컬럼2', '면적합계(㎢)', '도시지역면적', '도시지역비율', '비도시지역면적', '비도시지역비율']\n",
        "\n",
        "# 면적을 ㎢로 단위로 변환\n",
        "컬럼2_area['면적합계(㎢)'] = 컬럼2_area['면적합계(㎢)'].astype(float)\n",
        "컬럼2_area['도시지역면적'] = 컬럼2_area['도시지역면적'].astype(float)\n",
        "컬럼2_area['비도시지역면적'] = 컬럼2_area['비도시지역면적'].astype(float)\n",
        "\n",
        "컬럼2_area['면적합계(㎢)'] = 컬럼2_area['면적합계(㎢)'].map(lambda x: round(x/1000000, 2))\n",
        "컬럼2_area['도시지역면적'] = 컬럼2_area['도시지역면적'].map(lambda x: round(x/1000000, 2))\n",
        "컬럼2_area['비도시지역면적'] = 컬럼2_area['비도시지역면적'].map(lambda x: round(x/1000000, 2))\n",
        "\n",
        "컬럼2_area = 컬럼2_area.drop(['컬럼1'], axis=1)\n",
        "컬럼2_area"
      ],
      "metadata": {
        "id": "gCXh7s1RFxR3"
      },
      "execution_count": null,
      "outputs": []
    },
    {
      "cell_type": "markdown",
      "source": [
        "### 1㎢ 당 버스정류장 개수 컬럼 추가"
      ],
      "metadata": {
        "id": "EhKieUWkY5GQ"
      }
    },
    {
      "cell_type": "code",
      "source": [
        "merge_bus_area['1㎢당_버스정류장_개수'] =  merge_bus_area['버스정류장수'] / merge_bus_area['면적합계(㎢)']\n",
        "merge_bus_area"
      ],
      "metadata": {
        "id": "MtEdS5tGWh1p"
      },
      "execution_count": null,
      "outputs": []
    },
    {
      "cell_type": "markdown",
      "source": [
        "## 지역별 단위면적당 버스정류장, 쏘카존 수"
      ],
      "metadata": {
        "id": "6_n33_iEedJa"
      }
    },
    {
      "cell_type": "code",
      "source": [
        "merge_bus_socar_area = pd.merge(merge_bus_area, socar_zone_region, how='left',on='컬럼2')"
      ],
      "metadata": {
        "id": "EegQEcaAZYoo"
      },
      "execution_count": null,
      "outputs": []
    },
    {
      "cell_type": "code",
      "source": [
        "merge_bus_socar_area['1㎢당_쏘카존_개수'] =  merge_bus_socar_area['쏘카존개수'] / merge_bus_socar_area['면적합계(㎢)']\n",
        "merge_bus_socar_area"
      ],
      "metadata": {
        "id": "0zmTGOoOepTA"
      },
      "execution_count": null,
      "outputs": []
    },
    {
      "cell_type": "code",
      "source": [
        "cluster_0 = ['A', 'B']\n",
        "cluster_1 = ['I', 'C', 'D', 'E', 'F', 'G']\n",
        "cluster_2 = ['H','J', 'K', 'L']\n",
        "cluster_3 = ['M', 'N', 'O']\n",
        "cluster_4 = ['P']\n",
        "\n",
        "def int_cluster(x):\n",
        "  if x in cluster_0:\n",
        "    return 0\n",
        "  elif x in cluster_1:\n",
        "    return 1\n",
        "  elif x in cluster_2:\n",
        "    return 2\n",
        "  elif x in cluster_3:\n",
        "    return 3\n",
        "  elif x in cluster_4:\n",
        "   return 4\n",
        "\n",
        "merge_bus_socar_area['Cluster_num'] = merge_bus_socar_area['컬럼2'].map(lambda x : int_cluster(x))"
      ],
      "metadata": {
        "id": "i97nmIyDEon0"
      },
      "execution_count": null,
      "outputs": []
    },
    {
      "cell_type": "markdown",
      "source": [
        "## 군집별 단위면적당 쏘카존, 버스정류장 수"
      ],
      "metadata": {
        "id": "wwZrtENgJ8RK"
      }
    },
    {
      "cell_type": "code",
      "source": [
        "merge_bus_socar_area_cluster = pd.DataFrame(merge_bus_socar_area.groupby('Cluster_num')[['1㎢당_버스정류장_개수', '1㎢당_쏘카존_개수']].mean())\n",
        "merge_bus_socar_area_cluster"
      ],
      "metadata": {
        "colab": {
          "base_uri": "https://localhost:8080/",
          "height": 238
        },
        "id": "8KqYoGzGFJqx",
        "outputId": "c734f514-93ef-4bac-fc17-38595ec95420"
      },
      "execution_count": null,
      "outputs": [
        {
          "output_type": "execute_result",
          "data": {
            "text/plain": [
              "             1㎢당_버스정류장_개수  1㎢당_쏘카존_개수\n",
              "Cluster_num                          \n",
              "0               14.012032    0.848848\n",
              "1                7.303430    0.395939\n",
              "2                7.702229    0.444807\n",
              "3                9.217221    0.513785\n",
              "4                1.240814    0.005697"
            ],
            "text/html": [
              "\n",
              "  <div id=\"df-2cb0d73b-b86d-4e6e-bd78-6596ac83042f\">\n",
              "    <div class=\"colab-df-container\">\n",
              "      <div>\n",
              "<style scoped>\n",
              "    .dataframe tbody tr th:only-of-type {\n",
              "        vertical-align: middle;\n",
              "    }\n",
              "\n",
              "    .dataframe tbody tr th {\n",
              "        vertical-align: top;\n",
              "    }\n",
              "\n",
              "    .dataframe thead th {\n",
              "        text-align: right;\n",
              "    }\n",
              "</style>\n",
              "<table border=\"1\" class=\"dataframe\">\n",
              "  <thead>\n",
              "    <tr style=\"text-align: right;\">\n",
              "      <th></th>\n",
              "      <th>1㎢당_버스정류장_개수</th>\n",
              "      <th>1㎢당_쏘카존_개수</th>\n",
              "    </tr>\n",
              "    <tr>\n",
              "      <th>Cluster_num</th>\n",
              "      <th></th>\n",
              "      <th></th>\n",
              "    </tr>\n",
              "  </thead>\n",
              "  <tbody>\n",
              "    <tr>\n",
              "      <th>0</th>\n",
              "      <td>14.012032</td>\n",
              "      <td>0.848848</td>\n",
              "    </tr>\n",
              "    <tr>\n",
              "      <th>1</th>\n",
              "      <td>7.303430</td>\n",
              "      <td>0.395939</td>\n",
              "    </tr>\n",
              "    <tr>\n",
              "      <th>2</th>\n",
              "      <td>7.702229</td>\n",
              "      <td>0.444807</td>\n",
              "    </tr>\n",
              "    <tr>\n",
              "      <th>3</th>\n",
              "      <td>9.217221</td>\n",
              "      <td>0.513785</td>\n",
              "    </tr>\n",
              "    <tr>\n",
              "      <th>4</th>\n",
              "      <td>1.240814</td>\n",
              "      <td>0.005697</td>\n",
              "    </tr>\n",
              "  </tbody>\n",
              "</table>\n",
              "</div>\n",
              "      <button class=\"colab-df-convert\" onclick=\"convertToInteractive('df-2cb0d73b-b86d-4e6e-bd78-6596ac83042f')\"\n",
              "              title=\"Convert this dataframe to an interactive table.\"\n",
              "              style=\"display:none;\">\n",
              "        \n",
              "  <svg xmlns=\"http://www.w3.org/2000/svg\" height=\"24px\"viewBox=\"0 0 24 24\"\n",
              "       width=\"24px\">\n",
              "    <path d=\"M0 0h24v24H0V0z\" fill=\"none\"/>\n",
              "    <path d=\"M18.56 5.44l.94 2.06.94-2.06 2.06-.94-2.06-.94-.94-2.06-.94 2.06-2.06.94zm-11 1L8.5 8.5l.94-2.06 2.06-.94-2.06-.94L8.5 2.5l-.94 2.06-2.06.94zm10 10l.94 2.06.94-2.06 2.06-.94-2.06-.94-.94-2.06-.94 2.06-2.06.94z\"/><path d=\"M17.41 7.96l-1.37-1.37c-.4-.4-.92-.59-1.43-.59-.52 0-1.04.2-1.43.59L10.3 9.45l-7.72 7.72c-.78.78-.78 2.05 0 2.83L4 21.41c.39.39.9.59 1.41.59.51 0 1.02-.2 1.41-.59l7.78-7.78 2.81-2.81c.8-.78.8-2.07 0-2.86zM5.41 20L4 18.59l7.72-7.72 1.47 1.35L5.41 20z\"/>\n",
              "  </svg>\n",
              "      </button>\n",
              "      \n",
              "  <style>\n",
              "    .colab-df-container {\n",
              "      display:flex;\n",
              "      flex-wrap:wrap;\n",
              "      gap: 12px;\n",
              "    }\n",
              "\n",
              "    .colab-df-convert {\n",
              "      background-color: #E8F0FE;\n",
              "      border: none;\n",
              "      border-radius: 50%;\n",
              "      cursor: pointer;\n",
              "      display: none;\n",
              "      fill: #1967D2;\n",
              "      height: 32px;\n",
              "      padding: 0 0 0 0;\n",
              "      width: 32px;\n",
              "    }\n",
              "\n",
              "    .colab-df-convert:hover {\n",
              "      background-color: #E2EBFA;\n",
              "      box-shadow: 0px 1px 2px rgba(60, 64, 67, 0.3), 0px 1px 3px 1px rgba(60, 64, 67, 0.15);\n",
              "      fill: #174EA6;\n",
              "    }\n",
              "\n",
              "    [theme=dark] .colab-df-convert {\n",
              "      background-color: #3B4455;\n",
              "      fill: #D2E3FC;\n",
              "    }\n",
              "\n",
              "    [theme=dark] .colab-df-convert:hover {\n",
              "      background-color: #434B5C;\n",
              "      box-shadow: 0px 1px 3px 1px rgba(0, 0, 0, 0.15);\n",
              "      filter: drop-shadow(0px 1px 2px rgba(0, 0, 0, 0.3));\n",
              "      fill: #FFFFFF;\n",
              "    }\n",
              "  </style>\n",
              "\n",
              "      <script>\n",
              "        const buttonEl =\n",
              "          document.querySelector('#df-2cb0d73b-b86d-4e6e-bd78-6596ac83042f button.colab-df-convert');\n",
              "        buttonEl.style.display =\n",
              "          google.colab.kernel.accessAllowed ? 'block' : 'none';\n",
              "\n",
              "        async function convertToInteractive(key) {\n",
              "          const element = document.querySelector('#df-2cb0d73b-b86d-4e6e-bd78-6596ac83042f');\n",
              "          const dataTable =\n",
              "            await google.colab.kernel.invokeFunction('convertToInteractive',\n",
              "                                                     [key], {});\n",
              "          if (!dataTable) return;\n",
              "\n",
              "          const docLinkHtml = 'Like what you see? Visit the ' +\n",
              "            '<a target=\"_blank\" href=https://colab.research.google.com/notebooks/data_table.ipynb>data table notebook</a>'\n",
              "            + ' to learn more about interactive tables.';\n",
              "          element.innerHTML = '';\n",
              "          dataTable['output_type'] = 'display_data';\n",
              "          await google.colab.output.renderOutput(dataTable, element);\n",
              "          const docLink = document.createElement('div');\n",
              "          docLink.innerHTML = docLinkHtml;\n",
              "          element.appendChild(docLink);\n",
              "        }\n",
              "      </script>\n",
              "    </div>\n",
              "  </div>\n",
              "  "
            ]
          },
          "metadata": {},
          "execution_count": 52
        }
      ]
    },
    {
      "cell_type": "code",
      "source": [
        "plt.figure(figsize=(15,10))\n",
        "\n",
        "sns.barplot(data=merge_bus_socar_area_cluster,x=merge_bus_socar_area_cluster.index,y=merge_bus_socar_area_cluster['1㎢당_버스정류장_개수'],palette='Blues_d')\n",
        "plt.title('Cluster별 1㎢당_버스정류장_개수',fontsize=20)"
      ],
      "metadata": {
        "colab": {
          "base_uri": "https://localhost:8080/",
          "height": 646
        },
        "id": "U7S7t_Yn-Dwa",
        "outputId": "64302e7f-eb17-4d93-ba16-39ccc4012717"
      },
      "execution_count": null,
      "outputs": [
        {
          "output_type": "execute_result",
          "data": {
            "text/plain": [
              "Text(0.5, 1.0, 'Cluster별 1㎢당_버스정류장_개수')"
            ]
          },
          "metadata": {},
          "execution_count": 53
        },
        {
          "output_type": "display_data",
          "data": {
            "text/plain": [
              "<Figure size 1080x720 with 1 Axes>"
            ],
            "image/png": "[encoded data removed]"
          },
          "metadata": {
            "needs_background": "light"
          }
        }
      ]
    },
    {
      "cell_type": "markdown",
      "source": [
        "# 사업체 "
      ],
      "metadata": {
        "id": "UNJQiRveeqj3"
      }
    },
    {
      "cell_type": "code",
      "source": [
        "industry = pd.read_csv('/content/drive/MyDrive/아이펠_해커톤/hackathon_data/산업중분류_종사자규모_및_시군별_사업체수__종사자수.csv', encoding = 'cp949')\n",
        "industry.head()"
      ],
      "metadata": {
        "id": "E7YuS8nueqVv"
      },
      "execution_count": null,
      "outputs": []
    },
    {
      "cell_type": "code",
      "source": [
        "industry = industry.T\n",
        "industry"
      ],
      "metadata": {
        "id": "MgEHquL8lgYl"
      },
      "execution_count": null,
      "outputs": []
    },
    {
      "cell_type": "code",
      "source": [
        "companies_cluster = pd.DataFrame(companies.groupby('Cluster_num')['사업체수(개)'].mean())\n",
        "companies_cluster"
      ],
      "metadata": {
        "colab": {
          "base_uri": "https://localhost:8080/",
          "height": 238
        },
        "id": "dh_oCk-XF-TL",
        "outputId": "f7d84283-42bb-4b2c-8f4a-c282e2363efe"
      },
      "execution_count": null,
      "outputs": [
        {
          "output_type": "execute_result",
          "data": {
            "text/plain": [
              "                  사업체수(개)\n",
              "Cluster_num              \n",
              "0            1.648564e+09\n",
              "1            1.112789e+29\n",
              "2            9.808069e+18\n",
              "3            8.557721e+13\n",
              "4            8.362000e+03"
            ],
            "text/html": [
              "\n",
              "  <div id=\"df-0791abd0-d868-4072-8ecf-e79701fce100\">\n",
              "    <div class=\"colab-df-container\">\n",
              "      <div>\n",
              "<style scoped>\n",
              "    .dataframe tbody tr th:only-of-type {\n",
              "        vertical-align: middle;\n",
              "    }\n",
              "\n",
              "    .dataframe tbody tr th {\n",
              "        vertical-align: top;\n",
              "    }\n",
              "\n",
              "    .dataframe thead th {\n",
              "        text-align: right;\n",
              "    }\n",
              "</style>\n",
              "<table border=\"1\" class=\"dataframe\">\n",
              "  <thead>\n",
              "    <tr style=\"text-align: right;\">\n",
              "      <th></th>\n",
              "      <th>사업체수(개)</th>\n",
              "    </tr>\n",
              "    <tr>\n",
              "      <th>Cluster_num</th>\n",
              "      <th></th>\n",
              "    </tr>\n",
              "  </thead>\n",
              "  <tbody>\n",
              "    <tr>\n",
              "      <th>0</th>\n",
              "      <td>1.648564e+09</td>\n",
              "    </tr>\n",
              "    <tr>\n",
              "      <th>1</th>\n",
              "      <td>1.112789e+29</td>\n",
              "    </tr>\n",
              "    <tr>\n",
              "      <th>2</th>\n",
              "      <td>9.808069e+18</td>\n",
              "    </tr>\n",
              "    <tr>\n",
              "      <th>3</th>\n",
              "      <td>8.557721e+13</td>\n",
              "    </tr>\n",
              "    <tr>\n",
              "      <th>4</th>\n",
              "      <td>8.362000e+03</td>\n",
              "    </tr>\n",
              "  </tbody>\n",
              "</table>\n",
              "</div>\n",
              "      <button class=\"colab-df-convert\" onclick=\"convertToInteractive('df-0791abd0-d868-4072-8ecf-e79701fce100')\"\n",
              "              title=\"Convert this dataframe to an interactive table.\"\n",
              "              style=\"display:none;\">\n",
              "        \n",
              "  <svg xmlns=\"http://www.w3.org/2000/svg\" height=\"24px\"viewBox=\"0 0 24 24\"\n",
              "       width=\"24px\">\n",
              "    <path d=\"M0 0h24v24H0V0z\" fill=\"none\"/>\n",
              "    <path d=\"M18.56 5.44l.94 2.06.94-2.06 2.06-.94-2.06-.94-.94-2.06-.94 2.06-2.06.94zm-11 1L8.5 8.5l.94-2.06 2.06-.94-2.06-.94L8.5 2.5l-.94 2.06-2.06.94zm10 10l.94 2.06.94-2.06 2.06-.94-2.06-.94-.94-2.06-.94 2.06-2.06.94z\"/><path d=\"M17.41 7.96l-1.37-1.37c-.4-.4-.92-.59-1.43-.59-.52 0-1.04.2-1.43.59L10.3 9.45l-7.72 7.72c-.78.78-.78 2.05 0 2.83L4 21.41c.39.39.9.59 1.41.59.51 0 1.02-.2 1.41-.59l7.78-7.78 2.81-2.81c.8-.78.8-2.07 0-2.86zM5.41 20L4 18.59l7.72-7.72 1.47 1.35L5.41 20z\"/>\n",
              "  </svg>\n",
              "      </button>\n",
              "      \n",
              "  <style>\n",
              "    .colab-df-container {\n",
              "      display:flex;\n",
              "      flex-wrap:wrap;\n",
              "      gap: 12px;\n",
              "    }\n",
              "\n",
              "    .colab-df-convert {\n",
              "      background-color: #E8F0FE;\n",
              "      border: none;\n",
              "      border-radius: 50%;\n",
              "      cursor: pointer;\n",
              "      display: none;\n",
              "      fill: #1967D2;\n",
              "      height: 32px;\n",
              "      padding: 0 0 0 0;\n",
              "      width: 32px;\n",
              "    }\n",
              "\n",
              "    .colab-df-convert:hover {\n",
              "      background-color: #E2EBFA;\n",
              "      box-shadow: 0px 1px 2px rgba(60, 64, 67, 0.3), 0px 1px 3px 1px rgba(60, 64, 67, 0.15);\n",
              "      fill: #174EA6;\n",
              "    }\n",
              "\n",
              "    [theme=dark] .colab-df-convert {\n",
              "      background-color: #3B4455;\n",
              "      fill: #D2E3FC;\n",
              "    }\n",
              "\n",
              "    [theme=dark] .colab-df-convert:hover {\n",
              "      background-color: #434B5C;\n",
              "      box-shadow: 0px 1px 3px 1px rgba(0, 0, 0, 0.15);\n",
              "      filter: drop-shadow(0px 1px 2px rgba(0, 0, 0, 0.3));\n",
              "      fill: #FFFFFF;\n",
              "    }\n",
              "  </style>\n",
              "\n",
              "      <script>\n",
              "        const buttonEl =\n",
              "          document.querySelector('#df-0791abd0-d868-4072-8ecf-e79701fce100 button.colab-df-convert');\n",
              "        buttonEl.style.display =\n",
              "          google.colab.kernel.accessAllowed ? 'block' : 'none';\n",
              "\n",
              "        async function convertToInteractive(key) {\n",
              "          const element = document.querySelector('#df-0791abd0-d868-4072-8ecf-e79701fce100');\n",
              "          const dataTable =\n",
              "            await google.colab.kernel.invokeFunction('convertToInteractive',\n",
              "                                                     [key], {});\n",
              "          if (!dataTable) return;\n",
              "\n",
              "          const docLinkHtml = 'Like what you see? Visit the ' +\n",
              "            '<a target=\"_blank\" href=https://colab.research.google.com/notebooks/data_table.ipynb>data table notebook</a>'\n",
              "            + ' to learn more about interactive tables.';\n",
              "          element.innerHTML = '';\n",
              "          dataTable['output_type'] = 'display_data';\n",
              "          await google.colab.output.renderOutput(dataTable, element);\n",
              "          const docLink = document.createElement('div');\n",
              "          docLink.innerHTML = docLinkHtml;\n",
              "          element.appendChild(docLink);\n",
              "        }\n",
              "      </script>\n",
              "    </div>\n",
              "  </div>\n",
              "  "
            ]
          },
          "metadata": {},
          "execution_count": 69
        }
      ]
    },
    {
      "cell_type": "markdown",
      "source": [
        "## 군집별 산업군별 사업체 수"
      ],
      "metadata": {
        "id": "DYbs-2LzzD8D"
      }
    },
    {
      "cell_type": "code",
      "source": [
        "industry_n_ratio_t = industry_n_ratio.T\n",
        "industry_n_ratio_t = industry_n_ratio_t.fillna(0)\n",
        "industry_n_ratio_t.reset_index(inplace=True)"
      ],
      "metadata": {
        "id": "haOK_Qv_0l5u"
      },
      "execution_count": null,
      "outputs": []
    },
    {
      "cell_type": "code",
      "source": [
        "industry_n_ratio_t.rename(columns={'index' : '컬럼2'}, inplace=True)"
      ],
      "metadata": {
        "id": "-6lFsRHS1Ons"
      },
      "execution_count": null,
      "outputs": []
    },
    {
      "cell_type": "code",
      "source": [
        "industry_n_ratio_t['Cluster_num'] = industry_n_ratio_t['컬럼2'].map(lambda x : int_cluster(x))"
      ],
      "metadata": {
        "id": "XQszdBixzA2w"
      },
      "execution_count": null,
      "outputs": []
    },
    {
      "cell_type": "code",
      "source": [
        "industry_n_ratio_t_cluster = industry_n_ratio_t.groupby('Cluster_num').mean()\n",
        "industry_n_ratio_t_cluster.plot.barh(alpha=0.5, stacked=True, figsize=(25, 15))\n",
        "plt.legend(loc='center left', bbox_to_anchor=(1, 0.5))\n",
        "plt.title('산업별 사업체수', fontsize=20);"
      ],
      "metadata": {
        "colab": {
          "base_uri": "https://localhost:8080/",
          "height": 870
        },
        "id": "x6D-gzQQ1gXv",
        "outputId": "88cc6b42-5d0d-4b3d-f3f9-bec7aaa0ba47"
      },
      "execution_count": null,
      "outputs": [
        {
          "output_type": "display_data",
          "data": {
            "text/plain": [
              "<Figure size 1800x1080 with 1 Axes>"
            ],
            "image/png": "[encoded data removed]"
          },
          "metadata": {
            "needs_background": "light"
          }
        }
      ]
    },
    {
      "cell_type": "code",
      "source": [
        "industry_n_ratio_t_cluster"
      ],
      "metadata": {
        "colab": {
          "base_uri": "https://localhost:8080/",
          "height": 351
        },
        "id": "ZUtVGcFo2sri",
        "outputId": "385c4b3e-a0c6-4cf8-9296-95efc04e28eb"
      },
      "execution_count": null,
      "outputs": [
        {
          "output_type": "execute_result",
          "data": {
            "text/plain": [
              "             농업, 임업 및 어업        광업        제조업  전기, 가스, 증기 및 공기조절 공급업  \\\n",
              "Cluster_num                                                            \n",
              "0.0             0.009099  0.000000   2.538595               0.181978   \n",
              "1.0             0.029788  0.005979  15.038070               0.029258   \n",
              "2.0             0.026735  0.003186  12.847285               0.032916   \n",
              "3.0             0.024701  0.000000   5.710140               0.029373   \n",
              "4.0             0.239177  0.000000   5.166228               0.083712   \n",
              "\n",
              "             수도, 하수 및 폐기물 처리, 원료 재생업       건설업   도매 및 소매업   운수 및 창고업  \\\n",
              "Cluster_num                                                            \n",
              "0.0                         0.060659  2.787298  26.656759   6.351036   \n",
              "1.0                         0.249085  3.053816  22.310718   9.962509   \n",
              "2.0                         0.188726  3.667028  26.617694   9.636325   \n",
              "3.0                         0.146494  3.248063  26.252603  11.955429   \n",
              "4.0                         0.298972  5.524994  19.600574   6.780674   \n",
              "\n",
              "             숙박 및 음식점업     정보통신업  금융 및 보험업      부동산업  전문, 과학 및 기술 서비스업  \\\n",
              "Cluster_num                                                              \n",
              "0.0          16.611568  4.109672  1.428528  6.566377          5.292530   \n",
              "1.0          16.629357  0.634868  0.802250  5.029973          2.232551   \n",
              "2.0          15.526883  1.100931  0.663517  4.641652          2.755709   \n",
              "3.0          16.599557  0.650086  0.759758  4.742950          1.996898   \n",
              "4.0          29.490552  0.597943  0.681655  6.099019          2.128677   \n",
              "\n",
              "             사업시설 관리, 사업 지원 및 임대 서비스업  공공행정, 국방 및 사회보장 행정   교육 서비스업  \\\n",
              "Cluster_num                                                           \n",
              "0.0                          1.880440            0.169846  8.343696   \n",
              "1.0                          1.419607            0.206216  5.289130   \n",
              "2.0                          1.711295            0.157408  4.492035   \n",
              "3.0                          1.619831            0.168393  6.692278   \n",
              "4.0                          1.219804            0.597943  4.460655   \n",
              "\n",
              "             보건업 및 사회복지 서비스업  예술, 스포츠 및 여가관련 서비스업  협회 및 단체, 수리 및 기타 개인 서비스업  \n",
              "Cluster_num                                                                  \n",
              "0.0                 4.652573             3.029935                  9.329411  \n",
              "1.0                 4.154104             3.097598                  9.825124  \n",
              "2.0                 3.728251             3.072645                  9.129781  \n",
              "3.0                 4.416799             3.571746                 11.414900  \n",
              "4.0                 3.910548             3.145181                  9.973691  "
            ],
            "text/html": [
              "\n",
              "  <div id=\"df-d25b5674-3451-41dc-99ec-e8ae58a58d3b\">\n",
              "    <div class=\"colab-df-container\">\n",
              "      <div>\n",
              "<style scoped>\n",
              "    .dataframe tbody tr th:only-of-type {\n",
              "        vertical-align: middle;\n",
              "    }\n",
              "\n",
              "    .dataframe tbody tr th {\n",
              "        vertical-align: top;\n",
              "    }\n",
              "\n",
              "    .dataframe thead th {\n",
              "        text-align: right;\n",
              "    }\n",
              "</style>\n",
              "<table border=\"1\" class=\"dataframe\">\n",
              "  <thead>\n",
              "    <tr style=\"text-align: right;\">\n",
              "      <th></th>\n",
              "      <th>농업, 임업 및 어업</th>\n",
              "      <th>광업</th>\n",
              "      <th>제조업</th>\n",
              "      <th>전기, 가스, 증기 및 공기조절 공급업</th>\n",
              "      <th>수도, 하수 및 폐기물 처리, 원료 재생업</th>\n",
              "      <th>건설업</th>\n",
              "      <th>도매 및 소매업</th>\n",
              "      <th>운수 및 창고업</th>\n",
              "      <th>숙박 및 음식점업</th>\n",
              "      <th>정보통신업</th>\n",
              "      <th>금융 및 보험업</th>\n",
              "      <th>부동산업</th>\n",
              "      <th>전문, 과학 및 기술 서비스업</th>\n",
              "      <th>사업시설 관리, 사업 지원 및 임대 서비스업</th>\n",
              "      <th>공공행정, 국방 및 사회보장 행정</th>\n",
              "      <th>교육 서비스업</th>\n",
              "      <th>보건업 및 사회복지 서비스업</th>\n",
              "      <th>예술, 스포츠 및 여가관련 서비스업</th>\n",
              "      <th>협회 및 단체, 수리 및 기타 개인 서비스업</th>\n",
              "    </tr>\n",
              "    <tr>\n",
              "      <th>Cluster_num</th>\n",
              "      <th></th>\n",
              "      <th></th>\n",
              "      <th></th>\n",
              "      <th></th>\n",
              "      <th></th>\n",
              "      <th></th>\n",
              "      <th></th>\n",
              "      <th></th>\n",
              "      <th></th>\n",
              "      <th></th>\n",
              "      <th></th>\n",
              "      <th></th>\n",
              "      <th></th>\n",
              "      <th></th>\n",
              "      <th></th>\n",
              "      <th></th>\n",
              "      <th></th>\n",
              "      <th></th>\n",
              "      <th></th>\n",
              "    </tr>\n",
              "  </thead>\n",
              "  <tbody>\n",
              "    <tr>\n",
              "      <th>0.0</th>\n",
              "      <td>0.009099</td>\n",
              "      <td>0.000000</td>\n",
              "      <td>2.538595</td>\n",
              "      <td>0.181978</td>\n",
              "      <td>0.060659</td>\n",
              "      <td>2.787298</td>\n",
              "      <td>26.656759</td>\n",
              "      <td>6.351036</td>\n",
              "      <td>16.611568</td>\n",
              "      <td>4.109672</td>\n",
              "      <td>1.428528</td>\n",
              "      <td>6.566377</td>\n",
              "      <td>5.292530</td>\n",
              "      <td>1.880440</td>\n",
              "      <td>0.169846</td>\n",
              "      <td>8.343696</td>\n",
              "      <td>4.652573</td>\n",
              "      <td>3.029935</td>\n",
              "      <td>9.329411</td>\n",
              "    </tr>\n",
              "    <tr>\n",
              "      <th>1.0</th>\n",
              "      <td>0.029788</td>\n",
              "      <td>0.005979</td>\n",
              "      <td>15.038070</td>\n",
              "      <td>0.029258</td>\n",
              "      <td>0.249085</td>\n",
              "      <td>3.053816</td>\n",
              "      <td>22.310718</td>\n",
              "      <td>9.962509</td>\n",
              "      <td>16.629357</td>\n",
              "      <td>0.634868</td>\n",
              "      <td>0.802250</td>\n",
              "      <td>5.029973</td>\n",
              "      <td>2.232551</td>\n",
              "      <td>1.419607</td>\n",
              "      <td>0.206216</td>\n",
              "      <td>5.289130</td>\n",
              "      <td>4.154104</td>\n",
              "      <td>3.097598</td>\n",
              "      <td>9.825124</td>\n",
              "    </tr>\n",
              "    <tr>\n",
              "      <th>2.0</th>\n",
              "      <td>0.026735</td>\n",
              "      <td>0.003186</td>\n",
              "      <td>12.847285</td>\n",
              "      <td>0.032916</td>\n",
              "      <td>0.188726</td>\n",
              "      <td>3.667028</td>\n",
              "      <td>26.617694</td>\n",
              "      <td>9.636325</td>\n",
              "      <td>15.526883</td>\n",
              "      <td>1.100931</td>\n",
              "      <td>0.663517</td>\n",
              "      <td>4.641652</td>\n",
              "      <td>2.755709</td>\n",
              "      <td>1.711295</td>\n",
              "      <td>0.157408</td>\n",
              "      <td>4.492035</td>\n",
              "      <td>3.728251</td>\n",
              "      <td>3.072645</td>\n",
              "      <td>9.129781</td>\n",
              "    </tr>\n",
              "    <tr>\n",
              "      <th>3.0</th>\n",
              "      <td>0.024701</td>\n",
              "      <td>0.000000</td>\n",
              "      <td>5.710140</td>\n",
              "      <td>0.029373</td>\n",
              "      <td>0.146494</td>\n",
              "      <td>3.248063</td>\n",
              "      <td>26.252603</td>\n",
              "      <td>11.955429</td>\n",
              "      <td>16.599557</td>\n",
              "      <td>0.650086</td>\n",
              "      <td>0.759758</td>\n",
              "      <td>4.742950</td>\n",
              "      <td>1.996898</td>\n",
              "      <td>1.619831</td>\n",
              "      <td>0.168393</td>\n",
              "      <td>6.692278</td>\n",
              "      <td>4.416799</td>\n",
              "      <td>3.571746</td>\n",
              "      <td>11.414900</td>\n",
              "    </tr>\n",
              "    <tr>\n",
              "      <th>4.0</th>\n",
              "      <td>0.239177</td>\n",
              "      <td>0.000000</td>\n",
              "      <td>5.166228</td>\n",
              "      <td>0.083712</td>\n",
              "      <td>0.298972</td>\n",
              "      <td>5.524994</td>\n",
              "      <td>19.600574</td>\n",
              "      <td>6.780674</td>\n",
              "      <td>29.490552</td>\n",
              "      <td>0.597943</td>\n",
              "      <td>0.681655</td>\n",
              "      <td>6.099019</td>\n",
              "      <td>2.128677</td>\n",
              "      <td>1.219804</td>\n",
              "      <td>0.597943</td>\n",
              "      <td>4.460655</td>\n",
              "      <td>3.910548</td>\n",
              "      <td>3.145181</td>\n",
              "      <td>9.973691</td>\n",
              "    </tr>\n",
              "  </tbody>\n",
              "</table>\n",
              "</div>\n",
              "      <button class=\"colab-df-convert\" onclick=\"convertToInteractive('df-d25b5674-3451-41dc-99ec-e8ae58a58d3b')\"\n",
              "              title=\"Convert this dataframe to an interactive table.\"\n",
              "              style=\"display:none;\">\n",
              "        \n",
              "  <svg xmlns=\"http://www.w3.org/2000/svg\" height=\"24px\"viewBox=\"0 0 24 24\"\n",
              "       width=\"24px\">\n",
              "    <path d=\"M0 0h24v24H0V0z\" fill=\"none\"/>\n",
              "    <path d=\"M18.56 5.44l.94 2.06.94-2.06 2.06-.94-2.06-.94-.94-2.06-.94 2.06-2.06.94zm-11 1L8.5 8.5l.94-2.06 2.06-.94-2.06-.94L8.5 2.5l-.94 2.06-2.06.94zm10 10l.94 2.06.94-2.06 2.06-.94-2.06-.94-.94-2.06-.94 2.06-2.06.94z\"/><path d=\"M17.41 7.96l-1.37-1.37c-.4-.4-.92-.59-1.43-.59-.52 0-1.04.2-1.43.59L10.3 9.45l-7.72 7.72c-.78.78-.78 2.05 0 2.83L4 21.41c.39.39.9.59 1.41.59.51 0 1.02-.2 1.41-.59l7.78-7.78 2.81-2.81c.8-.78.8-2.07 0-2.86zM5.41 20L4 18.59l7.72-7.72 1.47 1.35L5.41 20z\"/>\n",
              "  </svg>\n",
              "      </button>\n",
              "      \n",
              "  <style>\n",
              "    .colab-df-container {\n",
              "      display:flex;\n",
              "      flex-wrap:wrap;\n",
              "      gap: 12px;\n",
              "    }\n",
              "\n",
              "    .colab-df-convert {\n",
              "      background-color: #E8F0FE;\n",
              "      border: none;\n",
              "      border-radius: 50%;\n",
              "      cursor: pointer;\n",
              "      display: none;\n",
              "      fill: #1967D2;\n",
              "      height: 32px;\n",
              "      padding: 0 0 0 0;\n",
              "      width: 32px;\n",
              "    }\n",
              "\n",
              "    .colab-df-convert:hover {\n",
              "      background-color: #E2EBFA;\n",
              "      box-shadow: 0px 1px 2px rgba(60, 64, 67, 0.3), 0px 1px 3px 1px rgba(60, 64, 67, 0.15);\n",
              "      fill: #174EA6;\n",
              "    }\n",
              "\n",
              "    [theme=dark] .colab-df-convert {\n",
              "      background-color: #3B4455;\n",
              "      fill: #D2E3FC;\n",
              "    }\n",
              "\n",
              "    [theme=dark] .colab-df-convert:hover {\n",
              "      background-color: #434B5C;\n",
              "      box-shadow: 0px 1px 3px 1px rgba(0, 0, 0, 0.15);\n",
              "      filter: drop-shadow(0px 1px 2px rgba(0, 0, 0, 0.3));\n",
              "      fill: #FFFFFF;\n",
              "    }\n",
              "  </style>\n",
              "\n",
              "      <script>\n",
              "        const buttonEl =\n",
              "          document.querySelector('#df-d25b5674-3451-41dc-99ec-e8ae58a58d3b button.colab-df-convert');\n",
              "        buttonEl.style.display =\n",
              "          google.colab.kernel.accessAllowed ? 'block' : 'none';\n",
              "\n",
              "        async function convertToInteractive(key) {\n",
              "          const element = document.querySelector('#df-d25b5674-3451-41dc-99ec-e8ae58a58d3b');\n",
              "          const dataTable =\n",
              "            await google.colab.kernel.invokeFunction('convertToInteractive',\n",
              "                                                     [key], {});\n",
              "          if (!dataTable) return;\n",
              "\n",
              "          const docLinkHtml = 'Like what you see? Visit the ' +\n",
              "            '<a target=\"_blank\" href=https://colab.research.google.com/notebooks/data_table.ipynb>data table notebook</a>'\n",
              "            + ' to learn more about interactive tables.';\n",
              "          element.innerHTML = '';\n",
              "          dataTable['output_type'] = 'display_data';\n",
              "          await google.colab.output.renderOutput(dataTable, element);\n",
              "          const docLink = document.createElement('div');\n",
              "          docLink.innerHTML = docLinkHtml;\n",
              "          element.appendChild(docLink);\n",
              "        }\n",
              "      </script>\n",
              "    </div>\n",
              "  </div>\n",
              "  "
            ]
          },
          "metadata": {},
          "execution_count": 83
        }
      ]
    },
    {
      "cell_type": "markdown",
      "source": [
        "# 종사자 수"
      ],
      "metadata": {
        "id": "jJWdb2SdgAwU"
      }
    },
    {
      "cell_type": "code",
      "source": [
        "industry_p = ggd_industry[ggd_industry['']=='종사자수 (명)']\n",
        "industry_p = industry_p.drop(['','전산업'],axis=1)"
      ],
      "metadata": {
        "id": "ZySXACb1mkLh"
      },
      "execution_count": null,
      "outputs": []
    },
    {
      "cell_type": "code",
      "source": [
        "industry_p = industry_p.astype('float')\n",
        "industry_p_ratio = industry_p.T.div(industry_p.T.sum(), axis=1, level=1)*100"
      ],
      "metadata": {
        "id": "TcHSrtckH-F8"
      },
      "execution_count": null,
      "outputs": []
    },
    {
      "cell_type": "markdown",
      "source": [
        "## 군집별 산업군별 종사자 수"
      ],
      "metadata": {
        "id": "tfjK-WQ2I49V"
      }
    },
    {
      "cell_type": "code",
      "source": [
        "industry_p_ratio_t = industry_p_ratio.T\n",
        "industry_p_ratio_t = industry_p_ratio_t.fillna(0)\n",
        "industry_p_ratio_t.reset_index(inplace=True)"
      ],
      "metadata": {
        "id": "hykNpF2EIV2h"
      },
      "execution_count": null,
      "outputs": []
    },
    {
      "cell_type": "code",
      "source": [
        "industry_p_ratio_t.rename(columns={'index' : '컬럼2'}, inplace=True)"
      ],
      "metadata": {
        "id": "bWMs70g4If-g"
      },
      "execution_count": null,
      "outputs": []
    },
    {
      "cell_type": "code",
      "source": [
        "industry_p_ratio_t['Cluster_num'] = industry_p_ratio_t['컬럼2'].map(lambda x : int_cluster(x))"
      ],
      "metadata": {
        "id": "2G3r3L_DIf4j"
      },
      "execution_count": null,
      "outputs": []
    },
    {
      "cell_type": "code",
      "source": [
        "industry_p_ratio_t_cluster = industry_p_ratio_t.groupby('Cluster_num').mean()\n",
        "industry_p_ratio_t_cluster.plot.barh(alpha=0.5, stacked=True, figsize=(25, 15))\n",
        "plt.legend(loc='center left', bbox_to_anchor=(1, 0.5))\n",
        "plt.title('군집별 산업별 종사자 수', fontsize=20);"
      ],
      "metadata": {
        "colab": {
          "base_uri": "https://localhost:8080/",
          "height": 870
        },
        "id": "d-mw8J0bIxyw",
        "outputId": "2118c6e8-f863-45e7-ff00-749f381d51d8"
      },
      "execution_count": null,
      "outputs": [
        {
          "output_type": "display_data",
          "data": {
            "text/plain": [
              "<Figure size 1800x1080 with 1 Axes>"
            ],
            "image/png": "[encoded data removed]"
          },
          "metadata": {
            "needs_background": "light"
          }
        }
      ]
    },
    {
      "cell_type": "code",
      "source": [
        "industry_p_ratio_t_cluster"
      ],
      "metadata": {
        "colab": {
          "base_uri": "https://localhost:8080/",
          "height": 351
        },
        "id": "81eXtH1WJK-R",
        "outputId": "bf6c8f3d-6590-4f35-d4af-5e923ed3988f"
      },
      "execution_count": null,
      "outputs": [
        {
          "output_type": "execute_result",
          "data": {
            "text/plain": [
              "             농업, 임업 및 어업        광업        제조업  전기, 가스, 증기 및 공기조절 공급업  \\\n",
              "Cluster_num                                                            \n",
              "0.0             0.011169  0.000000   3.316131               0.386307   \n",
              "1.0             0.035205  0.013674  23.392738               0.201563   \n",
              "2.0             0.036136  0.004289  18.437476               0.165062   \n",
              "3.0             0.035334  0.000000   6.407127               0.103638   \n",
              "4.0             0.509752  0.000000   4.923537               0.195354   \n",
              "\n",
              "             수도, 하수 및 폐기물 처리, 원료 재생업       건설업   도매 및 소매업  운수 및 창고업  \\\n",
              "Cluster_num                                                           \n",
              "0.0                         0.107089  6.067913  14.641565  2.131588   \n",
              "1.0                         0.541131  5.255114  14.635568  4.720062   \n",
              "2.0                         0.705970  5.959059  20.522452  5.422509   \n",
              "3.0                         0.459169  6.064923  19.985625  6.085845   \n",
              "4.0                         0.741736  9.868441  14.276121  3.467538   \n",
              "\n",
              "             숙박 및 음식점업      정보통신업  금융 및 보험업      부동산업  전문, 과학 및 기술 서비스업  \\\n",
              "Cluster_num                                                               \n",
              "0.0           8.373601  19.300574  3.203458  4.056553         10.746302   \n",
              "1.0          10.390493   1.135199  2.132874  2.686730          3.735626   \n",
              "2.0          10.200101   1.650072  1.681403  2.652746          3.606510   \n",
              "3.0          12.384549   0.902868  2.429646  3.388393          3.011984   \n",
              "4.0          20.979213   0.744788  1.962700  2.762431          2.194683   \n",
              "\n",
              "             사업시설 관리, 사업 지원 및 임대 서비스업  공공행정, 국방 및 사회보장 행정    교육 서비스업  \\\n",
              "Cluster_num                                                            \n",
              "0.0                          6.803736            1.204253   7.027439   \n",
              "1.0                          3.412278            3.135237   8.922045   \n",
              "2.0                          3.489694            2.607871   6.964762   \n",
              "3.0                          4.447863            2.543673  10.418020   \n",
              "4.0                          1.120234            5.888099   9.444156   \n",
              "\n",
              "             보건업 및 사회복지 서비스업  예술, 스포츠 및 여가관련 서비스업  협회 및 단체, 수리 및 기타 개인 서비스업  \n",
              "Cluster_num                                                                  \n",
              "0.0                 7.883162             1.567237                  3.171923  \n",
              "1.0                 9.475592             2.044684                  4.134188  \n",
              "2.0                 9.500997             2.143696                  4.249193  \n",
              "3.0                12.087376             2.983892                  6.260076  \n",
              "4.0                12.688868             3.388175                  4.844174  "
            ],
            "text/html": [
              "\n",
              "  <div id=\"df-7244b4ec-c17c-45c1-ba26-5ffe73ee4766\">\n",
              "    <div class=\"colab-df-container\">\n",
              "      <div>\n",
              "<style scoped>\n",
              "    .dataframe tbody tr th:only-of-type {\n",
              "        vertical-align: middle;\n",
              "    }\n",
              "\n",
              "    .dataframe tbody tr th {\n",
              "        vertical-align: top;\n",
              "    }\n",
              "\n",
              "    .dataframe thead th {\n",
              "        text-align: right;\n",
              "    }\n",
              "</style>\n",
              "<table border=\"1\" class=\"dataframe\">\n",
              "  <thead>\n",
              "    <tr style=\"text-align: right;\">\n",
              "      <th></th>\n",
              "      <th>농업, 임업 및 어업</th>\n",
              "      <th>광업</th>\n",
              "      <th>제조업</th>\n",
              "      <th>전기, 가스, 증기 및 공기조절 공급업</th>\n",
              "      <th>수도, 하수 및 폐기물 처리, 원료 재생업</th>\n",
              "      <th>건설업</th>\n",
              "      <th>도매 및 소매업</th>\n",
              "      <th>운수 및 창고업</th>\n",
              "      <th>숙박 및 음식점업</th>\n",
              "      <th>정보통신업</th>\n",
              "      <th>금융 및 보험업</th>\n",
              "      <th>부동산업</th>\n",
              "      <th>전문, 과학 및 기술 서비스업</th>\n",
              "      <th>사업시설 관리, 사업 지원 및 임대 서비스업</th>\n",
              "      <th>공공행정, 국방 및 사회보장 행정</th>\n",
              "      <th>교육 서비스업</th>\n",
              "      <th>보건업 및 사회복지 서비스업</th>\n",
              "      <th>예술, 스포츠 및 여가관련 서비스업</th>\n",
              "      <th>협회 및 단체, 수리 및 기타 개인 서비스업</th>\n",
              "    </tr>\n",
              "    <tr>\n",
              "      <th>Cluster_num</th>\n",
              "      <th></th>\n",
              "      <th></th>\n",
              "      <th></th>\n",
              "      <th></th>\n",
              "      <th></th>\n",
              "      <th></th>\n",
              "      <th></th>\n",
              "      <th></th>\n",
              "      <th></th>\n",
              "      <th></th>\n",
              "      <th></th>\n",
              "      <th></th>\n",
              "      <th></th>\n",
              "      <th></th>\n",
              "      <th></th>\n",
              "      <th></th>\n",
              "      <th></th>\n",
              "      <th></th>\n",
              "      <th></th>\n",
              "    </tr>\n",
              "  </thead>\n",
              "  <tbody>\n",
              "    <tr>\n",
              "      <th>0.0</th>\n",
              "      <td>0.011169</td>\n",
              "      <td>0.000000</td>\n",
              "      <td>3.316131</td>\n",
              "      <td>0.386307</td>\n",
              "      <td>0.107089</td>\n",
              "      <td>6.067913</td>\n",
              "      <td>14.641565</td>\n",
              "      <td>2.131588</td>\n",
              "      <td>8.373601</td>\n",
              "      <td>19.300574</td>\n",
              "      <td>3.203458</td>\n",
              "      <td>4.056553</td>\n",
              "      <td>10.746302</td>\n",
              "      <td>6.803736</td>\n",
              "      <td>1.204253</td>\n",
              "      <td>7.027439</td>\n",
              "      <td>7.883162</td>\n",
              "      <td>1.567237</td>\n",
              "      <td>3.171923</td>\n",
              "    </tr>\n",
              "    <tr>\n",
              "      <th>1.0</th>\n",
              "      <td>0.035205</td>\n",
              "      <td>0.013674</td>\n",
              "      <td>23.392738</td>\n",
              "      <td>0.201563</td>\n",
              "      <td>0.541131</td>\n",
              "      <td>5.255114</td>\n",
              "      <td>14.635568</td>\n",
              "      <td>4.720062</td>\n",
              "      <td>10.390493</td>\n",
              "      <td>1.135199</td>\n",
              "      <td>2.132874</td>\n",
              "      <td>2.686730</td>\n",
              "      <td>3.735626</td>\n",
              "      <td>3.412278</td>\n",
              "      <td>3.135237</td>\n",
              "      <td>8.922045</td>\n",
              "      <td>9.475592</td>\n",
              "      <td>2.044684</td>\n",
              "      <td>4.134188</td>\n",
              "    </tr>\n",
              "    <tr>\n",
              "      <th>2.0</th>\n",
              "      <td>0.036136</td>\n",
              "      <td>0.004289</td>\n",
              "      <td>18.437476</td>\n",
              "      <td>0.165062</td>\n",
              "      <td>0.705970</td>\n",
              "      <td>5.959059</td>\n",
              "      <td>20.522452</td>\n",
              "      <td>5.422509</td>\n",
              "      <td>10.200101</td>\n",
              "      <td>1.650072</td>\n",
              "      <td>1.681403</td>\n",
              "      <td>2.652746</td>\n",
              "      <td>3.606510</td>\n",
              "      <td>3.489694</td>\n",
              "      <td>2.607871</td>\n",
              "      <td>6.964762</td>\n",
              "      <td>9.500997</td>\n",
              "      <td>2.143696</td>\n",
              "      <td>4.249193</td>\n",
              "    </tr>\n",
              "    <tr>\n",
              "      <th>3.0</th>\n",
              "      <td>0.035334</td>\n",
              "      <td>0.000000</td>\n",
              "      <td>6.407127</td>\n",
              "      <td>0.103638</td>\n",
              "      <td>0.459169</td>\n",
              "      <td>6.064923</td>\n",
              "      <td>19.985625</td>\n",
              "      <td>6.085845</td>\n",
              "      <td>12.384549</td>\n",
              "      <td>0.902868</td>\n",
              "      <td>2.429646</td>\n",
              "      <td>3.388393</td>\n",
              "      <td>3.011984</td>\n",
              "      <td>4.447863</td>\n",
              "      <td>2.543673</td>\n",
              "      <td>10.418020</td>\n",
              "      <td>12.087376</td>\n",
              "      <td>2.983892</td>\n",
              "      <td>6.260076</td>\n",
              "    </tr>\n",
              "    <tr>\n",
              "      <th>4.0</th>\n",
              "      <td>0.509752</td>\n",
              "      <td>0.000000</td>\n",
              "      <td>4.923537</td>\n",
              "      <td>0.195354</td>\n",
              "      <td>0.741736</td>\n",
              "      <td>9.868441</td>\n",
              "      <td>14.276121</td>\n",
              "      <td>3.467538</td>\n",
              "      <td>20.979213</td>\n",
              "      <td>0.744788</td>\n",
              "      <td>1.962700</td>\n",
              "      <td>2.762431</td>\n",
              "      <td>2.194683</td>\n",
              "      <td>1.120234</td>\n",
              "      <td>5.888099</td>\n",
              "      <td>9.444156</td>\n",
              "      <td>12.688868</td>\n",
              "      <td>3.388175</td>\n",
              "      <td>4.844174</td>\n",
              "    </tr>\n",
              "  </tbody>\n",
              "</table>\n",
              "</div>\n",
              "      <button class=\"colab-df-convert\" onclick=\"convertToInteractive('df-7244b4ec-c17c-45c1-ba26-5ffe73ee4766')\"\n",
              "              title=\"Convert this dataframe to an interactive table.\"\n",
              "              style=\"display:none;\">\n",
              "        \n",
              "  <svg xmlns=\"http://www.w3.org/2000/svg\" height=\"24px\"viewBox=\"0 0 24 24\"\n",
              "       width=\"24px\">\n",
              "    <path d=\"M0 0h24v24H0V0z\" fill=\"none\"/>\n",
              "    <path d=\"M18.56 5.44l.94 2.06.94-2.06 2.06-.94-2.06-.94-.94-2.06-.94 2.06-2.06.94zm-11 1L8.5 8.5l.94-2.06 2.06-.94-2.06-.94L8.5 2.5l-.94 2.06-2.06.94zm10 10l.94 2.06.94-2.06 2.06-.94-2.06-.94-.94-2.06-.94 2.06-2.06.94z\"/><path d=\"M17.41 7.96l-1.37-1.37c-.4-.4-.92-.59-1.43-.59-.52 0-1.04.2-1.43.59L10.3 9.45l-7.72 7.72c-.78.78-.78 2.05 0 2.83L4 21.41c.39.39.9.59 1.41.59.51 0 1.02-.2 1.41-.59l7.78-7.78 2.81-2.81c.8-.78.8-2.07 0-2.86zM5.41 20L4 18.59l7.72-7.72 1.47 1.35L5.41 20z\"/>\n",
              "  </svg>\n",
              "      </button>\n",
              "      \n",
              "  <style>\n",
              "    .colab-df-container {\n",
              "      display:flex;\n",
              "      flex-wrap:wrap;\n",
              "      gap: 12px;\n",
              "    }\n",
              "\n",
              "    .colab-df-convert {\n",
              "      background-color: #E8F0FE;\n",
              "      border: none;\n",
              "      border-radius: 50%;\n",
              "      cursor: pointer;\n",
              "      display: none;\n",
              "      fill: #1967D2;\n",
              "      height: 32px;\n",
              "      padding: 0 0 0 0;\n",
              "      width: 32px;\n",
              "    }\n",
              "\n",
              "    .colab-df-convert:hover {\n",
              "      background-color: #E2EBFA;\n",
              "      box-shadow: 0px 1px 2px rgba(60, 64, 67, 0.3), 0px 1px 3px 1px rgba(60, 64, 67, 0.15);\n",
              "      fill: #174EA6;\n",
              "    }\n",
              "\n",
              "    [theme=dark] .colab-df-convert {\n",
              "      background-color: #3B4455;\n",
              "      fill: #D2E3FC;\n",
              "    }\n",
              "\n",
              "    [theme=dark] .colab-df-convert:hover {\n",
              "      background-color: #434B5C;\n",
              "      box-shadow: 0px 1px 3px 1px rgba(0, 0, 0, 0.15);\n",
              "      filter: drop-shadow(0px 1px 2px rgba(0, 0, 0, 0.3));\n",
              "      fill: #FFFFFF;\n",
              "    }\n",
              "  </style>\n",
              "\n",
              "      <script>\n",
              "        const buttonEl =\n",
              "          document.querySelector('#df-7244b4ec-c17c-45c1-ba26-5ffe73ee4766 button.colab-df-convert');\n",
              "        buttonEl.style.display =\n",
              "          google.colab.kernel.accessAllowed ? 'block' : 'none';\n",
              "\n",
              "        async function convertToInteractive(key) {\n",
              "          const element = document.querySelector('#df-7244b4ec-c17c-45c1-ba26-5ffe73ee4766');\n",
              "          const dataTable =\n",
              "            await google.colab.kernel.invokeFunction('convertToInteractive',\n",
              "                                                     [key], {});\n",
              "          if (!dataTable) return;\n",
              "\n",
              "          const docLinkHtml = 'Like what you see? Visit the ' +\n",
              "            '<a target=\"_blank\" href=https://colab.research.google.com/notebooks/data_table.ipynb>data table notebook</a>'\n",
              "            + ' to learn more about interactive tables.';\n",
              "          element.innerHTML = '';\n",
              "          dataTable['output_type'] = 'display_data';\n",
              "          await google.colab.output.renderOutput(dataTable, element);\n",
              "          const docLink = document.createElement('div');\n",
              "          docLink.innerHTML = docLinkHtml;\n",
              "          element.appendChild(docLink);\n",
              "        }\n",
              "      </script>\n",
              "    </div>\n",
              "  </div>\n",
              "  "
            ]
          },
          "metadata": {},
          "execution_count": 100
        }
      ]
    },
    {
      "cell_type": "markdown",
      "source": [
        "# 대학교 개수"
      ],
      "metadata": {
        "id": "NYNfqDMngDYn"
      }
    },
    {
      "cell_type": "code",
      "source": [
        "univ = pd.read_csv('/content/drive/MyDrive/아이펠_해커톤/hackathon_data/전문및대학교현황.csv', encoding = 'cp949')\n",
        "univ.head()"
      ],
      "metadata": {
        "id": "77gV3-jAgEq8"
      },
      "execution_count": null,
      "outputs": []
    },
    {
      "cell_type": "code",
      "source": [
        "univ = univ.drop(['시설구분명','공사립구분명'],axis=1)\n",
        "univ.head()"
      ],
      "metadata": {
        "id": "VEWJN9NGm8_h"
      },
      "execution_count": null,
      "outputs": []
    },
    {
      "cell_type": "markdown",
      "source": [
        "## 군집별 대학교 수"
      ],
      "metadata": {
        "id": "hhddaIVnIT27"
      }
    },
    {
      "cell_type": "code",
      "source": [
        "ggd_univ['Cluster_num'] = ggd_univ['컬럼2'].map(lambda x : int_cluster(x))"
      ],
      "metadata": {
        "id": "Zzd2stADHi1O"
      },
      "execution_count": null,
      "outputs": []
    },
    {
      "cell_type": "code",
      "source": [
        "ggd_univ_cluster = pd.DataFrame(ggd_univ.groupby('Cluster_num')['대학개수'].mean())\n",
        "ggd_univ_cluster"
      ],
      "metadata": {
        "colab": {
          "base_uri": "https://localhost:8080/",
          "height": 238
        },
        "id": "th9OOEKUHqfO",
        "outputId": "6e894308-507d-4be8-8561-e7c48d5e71cb"
      },
      "execution_count": null,
      "outputs": [
        {
          "output_type": "execute_result",
          "data": {
            "text/plain": [
              "             대학개수\n",
              "Cluster_num      \n",
              "0             1.0\n",
              "1             4.0\n",
              "2             1.0\n",
              "3             5.0\n",
              "4             1.0"
            ],
            "text/html": [
              "\n",
              "  <div id=\"df-add5c7f7-bf34-427e-8260-d448fe9b7f39\">\n",
              "    <div class=\"colab-df-container\">\n",
              "      <div>\n",
              "<style scoped>\n",
              "    .dataframe tbody tr th:only-of-type {\n",
              "        vertical-align: middle;\n",
              "    }\n",
              "\n",
              "    .dataframe tbody tr th {\n",
              "        vertical-align: top;\n",
              "    }\n",
              "\n",
              "    .dataframe thead th {\n",
              "        text-align: right;\n",
              "    }\n",
              "</style>\n",
              "<table border=\"1\" class=\"dataframe\">\n",
              "  <thead>\n",
              "    <tr style=\"text-align: right;\">\n",
              "      <th></th>\n",
              "      <th>대학개수</th>\n",
              "    </tr>\n",
              "    <tr>\n",
              "      <th>Cluster_num</th>\n",
              "      <th></th>\n",
              "    </tr>\n",
              "  </thead>\n",
              "  <tbody>\n",
              "    <tr>\n",
              "      <th>0</th>\n",
              "      <td>1.0</td>\n",
              "    </tr>\n",
              "    <tr>\n",
              "      <th>1</th>\n",
              "      <td>4.0</td>\n",
              "    </tr>\n",
              "    <tr>\n",
              "      <th>2</th>\n",
              "      <td>1.0</td>\n",
              "    </tr>\n",
              "    <tr>\n",
              "      <th>3</th>\n",
              "      <td>5.0</td>\n",
              "    </tr>\n",
              "    <tr>\n",
              "      <th>4</th>\n",
              "      <td>1.0</td>\n",
              "    </tr>\n",
              "  </tbody>\n",
              "</table>\n",
              "</div>\n",
              "      <button class=\"colab-df-convert\" onclick=\"convertToInteractive('df-add5c7f7-bf34-427e-8260-d448fe9b7f39')\"\n",
              "              title=\"Convert this dataframe to an interactive table.\"\n",
              "              style=\"display:none;\">\n",
              "        \n",
              "  <svg xmlns=\"http://www.w3.org/2000/svg\" height=\"24px\"viewBox=\"0 0 24 24\"\n",
              "       width=\"24px\">\n",
              "    <path d=\"M0 0h24v24H0V0z\" fill=\"none\"/>\n",
              "    <path d=\"M18.56 5.44l.94 2.06.94-2.06 2.06-.94-2.06-.94-.94-2.06-.94 2.06-2.06.94zm-11 1L8.5 8.5l.94-2.06 2.06-.94-2.06-.94L8.5 2.5l-.94 2.06-2.06.94zm10 10l.94 2.06.94-2.06 2.06-.94-2.06-.94-.94-2.06-.94 2.06-2.06.94z\"/><path d=\"M17.41 7.96l-1.37-1.37c-.4-.4-.92-.59-1.43-.59-.52 0-1.04.2-1.43.59L10.3 9.45l-7.72 7.72c-.78.78-.78 2.05 0 2.83L4 21.41c.39.39.9.59 1.41.59.51 0 1.02-.2 1.41-.59l7.78-7.78 2.81-2.81c.8-.78.8-2.07 0-2.86zM5.41 20L4 18.59l7.72-7.72 1.47 1.35L5.41 20z\"/>\n",
              "  </svg>\n",
              "      </button>\n",
              "      \n",
              "  <style>\n",
              "    .colab-df-container {\n",
              "      display:flex;\n",
              "      flex-wrap:wrap;\n",
              "      gap: 12px;\n",
              "    }\n",
              "\n",
              "    .colab-df-convert {\n",
              "      background-color: #E8F0FE;\n",
              "      border: none;\n",
              "      border-radius: 50%;\n",
              "      cursor: pointer;\n",
              "      display: none;\n",
              "      fill: #1967D2;\n",
              "      height: 32px;\n",
              "      padding: 0 0 0 0;\n",
              "      width: 32px;\n",
              "    }\n",
              "\n",
              "    .colab-df-convert:hover {\n",
              "      background-color: #E2EBFA;\n",
              "      box-shadow: 0px 1px 2px rgba(60, 64, 67, 0.3), 0px 1px 3px 1px rgba(60, 64, 67, 0.15);\n",
              "      fill: #174EA6;\n",
              "    }\n",
              "\n",
              "    [theme=dark] .colab-df-convert {\n",
              "      background-color: #3B4455;\n",
              "      fill: #D2E3FC;\n",
              "    }\n",
              "\n",
              "    [theme=dark] .colab-df-convert:hover {\n",
              "      background-color: #434B5C;\n",
              "      box-shadow: 0px 1px 3px 1px rgba(0, 0, 0, 0.15);\n",
              "      filter: drop-shadow(0px 1px 2px rgba(0, 0, 0, 0.3));\n",
              "      fill: #FFFFFF;\n",
              "    }\n",
              "  </style>\n",
              "\n",
              "      <script>\n",
              "        const buttonEl =\n",
              "          document.querySelector('#df-add5c7f7-bf34-427e-8260-d448fe9b7f39 button.colab-df-convert');\n",
              "        buttonEl.style.display =\n",
              "          google.colab.kernel.accessAllowed ? 'block' : 'none';\n",
              "\n",
              "        async function convertToInteractive(key) {\n",
              "          const element = document.querySelector('#df-add5c7f7-bf34-427e-8260-d448fe9b7f39');\n",
              "          const dataTable =\n",
              "            await google.colab.kernel.invokeFunction('convertToInteractive',\n",
              "                                                     [key], {});\n",
              "          if (!dataTable) return;\n",
              "\n",
              "          const docLinkHtml = 'Like what you see? Visit the ' +\n",
              "            '<a target=\"_blank\" href=https://colab.research.google.com/notebooks/data_table.ipynb>data table notebook</a>'\n",
              "            + ' to learn more about interactive tables.';\n",
              "          element.innerHTML = '';\n",
              "          dataTable['output_type'] = 'display_data';\n",
              "          await google.colab.output.renderOutput(dataTable, element);\n",
              "          const docLink = document.createElement('div');\n",
              "          docLink.innerHTML = docLinkHtml;\n",
              "          element.appendChild(docLink);\n",
              "        }\n",
              "      </script>\n",
              "    </div>\n",
              "  </div>\n",
              "  "
            ]
          },
          "metadata": {},
          "execution_count": 113
        }
      ]
    },
    {
      "cell_type": "code",
      "source": [
        "plt.figure(figsize=(15,10))\n",
        "\n",
        "sns.barplot(data=ggd_univ_cluster,x=ggd_univ_cluster.index,y=ggd_univ_cluster['대학개수'],palette='Blues_d')\n",
        "plt.title('Cluster별 대학 개수',fontsize=20)"
      ],
      "metadata": {
        "colab": {
          "base_uri": "https://localhost:8080/",
          "height": 646
        },
        "id": "1ZnNKXet-Qm7",
        "outputId": "45083bae-9f62-46ff-9cba-da68d52caa9c"
      },
      "execution_count": null,
      "outputs": [
        {
          "output_type": "execute_result",
          "data": {
            "text/plain": [
              "Text(0.5, 1.0, 'Cluster별 대학 개수')"
            ]
          },
          "metadata": {},
          "execution_count": 114
        },
        {
          "output_type": "display_data",
          "data": {
            "text/plain": [
              "<Figure size 1080x720 with 1 Axes>"
            ],
            "image/png": "[encoded data removed]"
          },
          "metadata": {
            "needs_background": "light"
          }
        }
      ]
    },
    {
      "cell_type": "markdown",
      "source": [
        "# 초등학교/어린이집/유치원"
      ],
      "metadata": {
        "id": "-0zmlD-egK0h"
      }
    },
    {
      "cell_type": "markdown",
      "source": [
        "## 초등학교"
      ],
      "metadata": {
        "id": "_k-7S3SxAK30"
      }
    },
    {
      "cell_type": "code",
      "source": [
        "school = pd.read_csv('/content/drive/MyDrive/아이펠_해커톤/hackathon_data/경기도 초․ 중, 고등학교 위치현황(개방표준).csv', encoding = 'cp949')\n",
        "school.head()"
      ],
      "metadata": {
        "id": "PH0KmhIugkt6"
      },
      "execution_count": null,
      "outputs": []
    },
    {
      "cell_type": "markdown",
      "source": [
        "## 유치원/어린이집"
      ],
      "metadata": {
        "id": "XWSmgEPqAmfy"
      }
    },
    {
      "cell_type": "code",
      "source": [
        "kid = pd.read_csv('/content/drive/MyDrive/아이펠_해커톤/hackathon_data/어린이집및유치원현황.csv', encoding = 'cp949')\n",
        "kid"
      ],
      "metadata": {
        "id": "ru5a3EC1_Kta"
      },
      "execution_count": null,
      "outputs": []
    },
    {
      "cell_type": "markdown",
      "source": [
        "## 군집별 초등학교/유치원/어린이집 수"
      ],
      "metadata": {
        "id": "itumOnCoIXsN"
      }
    },
    {
      "cell_type": "code",
      "source": [
        "kid_elementary_count['Cluster_num'] = kid_elementary_count['컬럼2'].map(lambda x : int_cluster(x))"
      ],
      "metadata": {
        "id": "bgGOd0CECjmb"
      },
      "execution_count": null,
      "outputs": []
    },
    {
      "cell_type": "code",
      "source": [
        "kid_elementary_count_cluster = pd.DataFrame(kid_elementary_count.groupby('Cluster_num')['합계'].mean())\n",
        "kid_elementary_count_cluster"
      ],
      "metadata": {
        "colab": {
          "base_uri": "https://localhost:8080/",
          "height": 238
        },
        "id": "zLw1s0mrCmDd",
        "outputId": "d820e120-c234-4901-8950-ca8c2a9b8489"
      },
      "execution_count": null,
      "outputs": [
        {
          "output_type": "execute_result",
          "data": {
            "text/plain": [
              "                     합계\n",
              "Cluster_num            \n",
              "0            376.000000\n",
              "1            481.333333\n",
              "2            409.000000\n",
              "3            320.666667\n",
              "4            103.000000"
            ],
            "text/html": [
              "\n",
              "  <div id=\"df-0ac37a4b-e737-48ed-9eea-14459a890946\">\n",
              "    <div class=\"colab-df-container\">\n",
              "      <div>\n",
              "<style scoped>\n",
              "    .dataframe tbody tr th:only-of-type {\n",
              "        vertical-align: middle;\n",
              "    }\n",
              "\n",
              "    .dataframe tbody tr th {\n",
              "        vertical-align: top;\n",
              "    }\n",
              "\n",
              "    .dataframe thead th {\n",
              "        text-align: right;\n",
              "    }\n",
              "</style>\n",
              "<table border=\"1\" class=\"dataframe\">\n",
              "  <thead>\n",
              "    <tr style=\"text-align: right;\">\n",
              "      <th></th>\n",
              "      <th>합계</th>\n",
              "    </tr>\n",
              "    <tr>\n",
              "      <th>Cluster_num</th>\n",
              "      <th></th>\n",
              "    </tr>\n",
              "  </thead>\n",
              "  <tbody>\n",
              "    <tr>\n",
              "      <th>0</th>\n",
              "      <td>376.000000</td>\n",
              "    </tr>\n",
              "    <tr>\n",
              "      <th>1</th>\n",
              "      <td>481.333333</td>\n",
              "    </tr>\n",
              "    <tr>\n",
              "      <th>2</th>\n",
              "      <td>409.000000</td>\n",
              "    </tr>\n",
              "    <tr>\n",
              "      <th>3</th>\n",
              "      <td>320.666667</td>\n",
              "    </tr>\n",
              "    <tr>\n",
              "      <th>4</th>\n",
              "      <td>103.000000</td>\n",
              "    </tr>\n",
              "  </tbody>\n",
              "</table>\n",
              "</div>\n",
              "      <button class=\"colab-df-convert\" onclick=\"convertToInteractive('df-0ac37a4b-e737-48ed-9eea-14459a890946')\"\n",
              "              title=\"Convert this dataframe to an interactive table.\"\n",
              "              style=\"display:none;\">\n",
              "        \n",
              "  <svg xmlns=\"http://www.w3.org/2000/svg\" height=\"24px\"viewBox=\"0 0 24 24\"\n",
              "       width=\"24px\">\n",
              "    <path d=\"M0 0h24v24H0V0z\" fill=\"none\"/>\n",
              "    <path d=\"M18.56 5.44l.94 2.06.94-2.06 2.06-.94-2.06-.94-.94-2.06-.94 2.06-2.06.94zm-11 1L8.5 8.5l.94-2.06 2.06-.94-2.06-.94L8.5 2.5l-.94 2.06-2.06.94zm10 10l.94 2.06.94-2.06 2.06-.94-2.06-.94-.94-2.06-.94 2.06-2.06.94z\"/><path d=\"M17.41 7.96l-1.37-1.37c-.4-.4-.92-.59-1.43-.59-.52 0-1.04.2-1.43.59L10.3 9.45l-7.72 7.72c-.78.78-.78 2.05 0 2.83L4 21.41c.39.39.9.59 1.41.59.51 0 1.02-.2 1.41-.59l7.78-7.78 2.81-2.81c.8-.78.8-2.07 0-2.86zM5.41 20L4 18.59l7.72-7.72 1.47 1.35L5.41 20z\"/>\n",
              "  </svg>\n",
              "      </button>\n",
              "      \n",
              "  <style>\n",
              "    .colab-df-container {\n",
              "      display:flex;\n",
              "      flex-wrap:wrap;\n",
              "      gap: 12px;\n",
              "    }\n",
              "\n",
              "    .colab-df-convert {\n",
              "      background-color: #E8F0FE;\n",
              "      border: none;\n",
              "      border-radius: 50%;\n",
              "      cursor: pointer;\n",
              "      display: none;\n",
              "      fill: #1967D2;\n",
              "      height: 32px;\n",
              "      padding: 0 0 0 0;\n",
              "      width: 32px;\n",
              "    }\n",
              "\n",
              "    .colab-df-convert:hover {\n",
              "      background-color: #E2EBFA;\n",
              "      box-shadow: 0px 1px 2px rgba(60, 64, 67, 0.3), 0px 1px 3px 1px rgba(60, 64, 67, 0.15);\n",
              "      fill: #174EA6;\n",
              "    }\n",
              "\n",
              "    [theme=dark] .colab-df-convert {\n",
              "      background-color: #3B4455;\n",
              "      fill: #D2E3FC;\n",
              "    }\n",
              "\n",
              "    [theme=dark] .colab-df-convert:hover {\n",
              "      background-color: #434B5C;\n",
              "      box-shadow: 0px 1px 3px 1px rgba(0, 0, 0, 0.15);\n",
              "      filter: drop-shadow(0px 1px 2px rgba(0, 0, 0, 0.3));\n",
              "      fill: #FFFFFF;\n",
              "    }\n",
              "  </style>\n",
              "\n",
              "      <script>\n",
              "        const buttonEl =\n",
              "          document.querySelector('#df-0ac37a4b-e737-48ed-9eea-14459a890946 button.colab-df-convert');\n",
              "        buttonEl.style.display =\n",
              "          google.colab.kernel.accessAllowed ? 'block' : 'none';\n",
              "\n",
              "        async function convertToInteractive(key) {\n",
              "          const element = document.querySelector('#df-0ac37a4b-e737-48ed-9eea-14459a890946');\n",
              "          const dataTable =\n",
              "            await google.colab.kernel.invokeFunction('convertToInteractive',\n",
              "                                                     [key], {});\n",
              "          if (!dataTable) return;\n",
              "\n",
              "          const docLinkHtml = 'Like what you see? Visit the ' +\n",
              "            '<a target=\"_blank\" href=https://colab.research.google.com/notebooks/data_table.ipynb>data table notebook</a>'\n",
              "            + ' to learn more about interactive tables.';\n",
              "          element.innerHTML = '';\n",
              "          dataTable['output_type'] = 'display_data';\n",
              "          await google.colab.output.renderOutput(dataTable, element);\n",
              "          const docLink = document.createElement('div');\n",
              "          docLink.innerHTML = docLinkHtml;\n",
              "          element.appendChild(docLink);\n",
              "        }\n",
              "      </script>\n",
              "    </div>\n",
              "  </div>\n",
              "  "
            ]
          },
          "metadata": {},
          "execution_count": 141
        }
      ]
    },
    {
      "cell_type": "code",
      "source": [
        "plt.figure(figsize=(15,10))\n",
        "\n",
        "sns.barplot(data=kid_elementary_count_cluster,x=kid_elementary_count_cluster.index,y=kid_elementary_count_cluster['합계'],palette='Blues_d')\n",
        "plt.title('Cluster별 초등학교/유치원/어린이집 수',fontsize=20)"
      ],
      "metadata": {
        "colab": {
          "base_uri": "https://localhost:8080/",
          "height": 646
        },
        "id": "JlRoJPjm_fMJ",
        "outputId": "69222d1e-c183-4f9e-a3dc-43b57a448a3c"
      },
      "execution_count": null,
      "outputs": [
        {
          "output_type": "execute_result",
          "data": {
            "text/plain": [
              "Text(0.5, 1.0, 'Cluster별 초등학교/유치원/어린이집 수')"
            ]
          },
          "metadata": {},
          "execution_count": 142
        },
        {
          "output_type": "display_data",
          "data": {
            "text/plain": [
              "<Figure size 1080x720 with 1 Axes>"
            ],
            "image/png": "[encoded data removed]"
          },
          "metadata": {
            "needs_background": "light"
          }
        }
      ]
    },
    {
      "cell_type": "markdown",
      "source": [
        "# 월평균 소득"
      ],
      "metadata": {
        "id": "3F9mUIE6gFJ7"
      }
    },
    {
      "cell_type": "code",
      "source": [
        "income = pd.read_csv('/content/drive/MyDrive/아이펠_해커톤/hackathon_data/경기도 월평균 가구소득 비율.csv', encoding = 'cp949')\n",
        "income.head()"
      ],
      "metadata": {
        "id": "vhpMRUoZgHTn"
      },
      "execution_count": null,
      "outputs": []
    },
    {
      "cell_type": "code",
      "source": [
        "ggd_income = income[(income['구분별(1)']=='지역별') | (income['구분별(1)']=='구분별(1)')]\n",
        "ggd_income = ggd_income.drop(['구분별(1)','2019','2019.1','2019.2','2019.3','2019.4','2019.5','2019.6','2019.7'], axis=1)\n",
        "ggd_income = ggd_income.iloc[2:]\n",
        "ggd_income.columns = ['','100만원 미만', '100 ~ 200만원 미만',\t'200 ~ 300만원 미만', '300 ~ 400만원 미만',\t'400 ~ 500만원 미만',\t'500 ~ 600만원 미만',\t'600 ~ 700만원 미만',\t'700만원 이상']\n",
        "ggd_income[['100만원 미만', '100 ~ 200만원 미만',\t'200 ~ 300만원 미만', '300 ~ 400만원 미만',\t'400 ~ 500만원 미만',\t'500 ~ 600만원 미만',\t'600 ~ 700만원 미만',\t'700만원 이상']] = ggd_income[['100만원 미만', '100 ~ 200만원 미만',\t'200 ~ 300만원 미만', '300 ~ 400만원 미만',\t'400 ~ 500만원 미만',\t'500 ~ 600만원 미만',\t'600 ~ 700만원 미만',\t'700만원 이상']].astype('float')\n",
        "ggd_income"
      ],
      "metadata": {
        "id": "cT-uAzsVnl4K"
      },
      "execution_count": null,
      "outputs": []
    },
    {
      "cell_type": "code",
      "source": [
        "ggd_income['월평균 가구소득'] = (ggd_income['100만원 미만']*50 + ggd_income['100 ~ 200만원 미만']*150 + ggd_income['200 ~ 300만원 미만']*250 + ggd_income['300 ~ 400만원 미만']*350 + ggd_income['400 ~ 500만원 미만']*450 + ggd_income['500 ~ 600만원 미만']*550 + ggd_income['600 ~ 700만원 미만']*650 + ggd_income['700만원 이상']*700)/100\n",
        "ggd_income"
      ],
      "metadata": {
        "id": "1VqHm_oYnl1E"
      },
      "execution_count": null,
      "outputs": []
    },
    {
      "cell_type": "markdown",
      "source": [
        "## 군집별 월평균 가구소득"
      ],
      "metadata": {
        "id": "R7wycMdoDJ5E"
      }
    },
    {
      "cell_type": "code",
      "source": [
        "ggd_income_mean['Cluster_num'] = ggd_income_mean['컬럼2'].map(lambda x : int_cluster(x))"
      ],
      "metadata": {
        "id": "mxD0Z8fqDGCJ"
      },
      "execution_count": null,
      "outputs": []
    },
    {
      "cell_type": "code",
      "source": [
        "ggd_income_mean_cluster = pd.DataFrame(ggd_income_mean.groupby('Cluster_num')['월평균_가구소득'].mean())\n",
        "ggd_income_mean_cluster"
      ],
      "metadata": {
        "colab": {
          "base_uri": "https://localhost:8080/",
          "height": 238
        },
        "id": "u3heo_W8I35o",
        "outputId": "7a4e41f6-5921-4207-eb02-e0ffe420dd99"
      },
      "execution_count": null,
      "outputs": [
        {
          "output_type": "execute_result",
          "data": {
            "text/plain": [
              "               월평균_가구소득\n",
              "Cluster_num            \n",
              "0            514.675000\n",
              "1            345.508333\n",
              "2            343.712500\n",
              "3            353.816667\n",
              "4            218.550000"
            ],
            "text/html": [
              "\n",
              "  <div id=\"df-dc236866-6882-4690-840f-fe20281dea64\">\n",
              "    <div class=\"colab-df-container\">\n",
              "      <div>\n",
              "<style scoped>\n",
              "    .dataframe tbody tr th:only-of-type {\n",
              "        vertical-align: middle;\n",
              "    }\n",
              "\n",
              "    .dataframe tbody tr th {\n",
              "        vertical-align: top;\n",
              "    }\n",
              "\n",
              "    .dataframe thead th {\n",
              "        text-align: right;\n",
              "    }\n",
              "</style>\n",
              "<table border=\"1\" class=\"dataframe\">\n",
              "  <thead>\n",
              "    <tr style=\"text-align: right;\">\n",
              "      <th></th>\n",
              "      <th>월평균_가구소득</th>\n",
              "    </tr>\n",
              "    <tr>\n",
              "      <th>Cluster_num</th>\n",
              "      <th></th>\n",
              "    </tr>\n",
              "  </thead>\n",
              "  <tbody>\n",
              "    <tr>\n",
              "      <th>0</th>\n",
              "      <td>514.675000</td>\n",
              "    </tr>\n",
              "    <tr>\n",
              "      <th>1</th>\n",
              "      <td>345.508333</td>\n",
              "    </tr>\n",
              "    <tr>\n",
              "      <th>2</th>\n",
              "      <td>343.712500</td>\n",
              "    </tr>\n",
              "    <tr>\n",
              "      <th>3</th>\n",
              "      <td>353.816667</td>\n",
              "    </tr>\n",
              "    <tr>\n",
              "      <th>4</th>\n",
              "      <td>218.550000</td>\n",
              "    </tr>\n",
              "  </tbody>\n",
              "</table>\n",
              "</div>\n",
              "      <button class=\"colab-df-convert\" onclick=\"convertToInteractive('df-dc236866-6882-4690-840f-fe20281dea64')\"\n",
              "              title=\"Convert this dataframe to an interactive table.\"\n",
              "              style=\"display:none;\">\n",
              "        \n",
              "  <svg xmlns=\"http://www.w3.org/2000/svg\" height=\"24px\"viewBox=\"0 0 24 24\"\n",
              "       width=\"24px\">\n",
              "    <path d=\"M0 0h24v24H0V0z\" fill=\"none\"/>\n",
              "    <path d=\"M18.56 5.44l.94 2.06.94-2.06 2.06-.94-2.06-.94-.94-2.06-.94 2.06-2.06.94zm-11 1L8.5 8.5l.94-2.06 2.06-.94-2.06-.94L8.5 2.5l-.94 2.06-2.06.94zm10 10l.94 2.06.94-2.06 2.06-.94-2.06-.94-.94-2.06-.94 2.06-2.06.94z\"/><path d=\"M17.41 7.96l-1.37-1.37c-.4-.4-.92-.59-1.43-.59-.52 0-1.04.2-1.43.59L10.3 9.45l-7.72 7.72c-.78.78-.78 2.05 0 2.83L4 21.41c.39.39.9.59 1.41.59.51 0 1.02-.2 1.41-.59l7.78-7.78 2.81-2.81c.8-.78.8-2.07 0-2.86zM5.41 20L4 18.59l7.72-7.72 1.47 1.35L5.41 20z\"/>\n",
              "  </svg>\n",
              "      </button>\n",
              "      \n",
              "  <style>\n",
              "    .colab-df-container {\n",
              "      display:flex;\n",
              "      flex-wrap:wrap;\n",
              "      gap: 12px;\n",
              "    }\n",
              "\n",
              "    .colab-df-convert {\n",
              "      background-color: #E8F0FE;\n",
              "      border: none;\n",
              "      border-radius: 50%;\n",
              "      cursor: pointer;\n",
              "      display: none;\n",
              "      fill: #1967D2;\n",
              "      height: 32px;\n",
              "      padding: 0 0 0 0;\n",
              "      width: 32px;\n",
              "    }\n",
              "\n",
              "    .colab-df-convert:hover {\n",
              "      background-color: #E2EBFA;\n",
              "      box-shadow: 0px 1px 2px rgba(60, 64, 67, 0.3), 0px 1px 3px 1px rgba(60, 64, 67, 0.15);\n",
              "      fill: #174EA6;\n",
              "    }\n",
              "\n",
              "    [theme=dark] .colab-df-convert {\n",
              "      background-color: #3B4455;\n",
              "      fill: #D2E3FC;\n",
              "    }\n",
              "\n",
              "    [theme=dark] .colab-df-convert:hover {\n",
              "      background-color: #434B5C;\n",
              "      box-shadow: 0px 1px 3px 1px rgba(0, 0, 0, 0.15);\n",
              "      filter: drop-shadow(0px 1px 2px rgba(0, 0, 0, 0.3));\n",
              "      fill: #FFFFFF;\n",
              "    }\n",
              "  </style>\n",
              "\n",
              "      <script>\n",
              "        const buttonEl =\n",
              "          document.querySelector('#df-dc236866-6882-4690-840f-fe20281dea64 button.colab-df-convert');\n",
              "        buttonEl.style.display =\n",
              "          google.colab.kernel.accessAllowed ? 'block' : 'none';\n",
              "\n",
              "        async function convertToInteractive(key) {\n",
              "          const element = document.querySelector('#df-dc236866-6882-4690-840f-fe20281dea64');\n",
              "          const dataTable =\n",
              "            await google.colab.kernel.invokeFunction('convertToInteractive',\n",
              "                                                     [key], {});\n",
              "          if (!dataTable) return;\n",
              "\n",
              "          const docLinkHtml = 'Like what you see? Visit the ' +\n",
              "            '<a target=\"_blank\" href=https://colab.research.google.com/notebooks/data_table.ipynb>data table notebook</a>'\n",
              "            + ' to learn more about interactive tables.';\n",
              "          element.innerHTML = '';\n",
              "          dataTable['output_type'] = 'display_data';\n",
              "          await google.colab.output.renderOutput(dataTable, element);\n",
              "          const docLink = document.createElement('div');\n",
              "          docLink.innerHTML = docLinkHtml;\n",
              "          element.appendChild(docLink);\n",
              "        }\n",
              "      </script>\n",
              "    </div>\n",
              "  </div>\n",
              "  "
            ]
          },
          "metadata": {},
          "execution_count": 160
        }
      ]
    },
    {
      "cell_type": "code",
      "source": [
        "plt.figure(figsize=(15,10))\n",
        "\n",
        "sns.barplot(data=ggd_income_mean_cluster,x=ggd_income_mean_cluster.index,y=ggd_income_mean_cluster['월평균_가구소득'],palette='Blues_d')\n",
        "plt.title('Cluster별 월평균 가구소득',fontsize=20)"
      ],
      "metadata": {
        "colab": {
          "base_uri": "https://localhost:8080/",
          "height": 646
        },
        "id": "Li8iRSSZAHmE",
        "outputId": "e25163dd-a0e2-4b43-a20c-9d4f6a63b022"
      },
      "execution_count": null,
      "outputs": [
        {
          "output_type": "execute_result",
          "data": {
            "text/plain": [
              "Text(0.5, 1.0, 'Cluster별 월평균 가구소득')"
            ]
          },
          "metadata": {},
          "execution_count": 161
        },
        {
          "output_type": "display_data",
          "data": {
            "text/plain": [
              "<Figure size 1080x720 with 1 Axes>"
            ],
            "image/png": "[encoded data removed]"
          },
          "metadata": {
            "needs_background": "light"
          }
        }
      ]
    },
    {
      "cell_type": "markdown",
      "source": [
        "# 대형마트 개수"
      ],
      "metadata": {
        "id": "e-352fYtgI5r"
      }
    },
    {
      "cell_type": "code",
      "source": [
        "mall = pd.read_csv('/content/drive/MyDrive/아이펠_해커톤/hackathon_data/대규모점포현황.csv', encoding = 'cp949')\n",
        "mall.head()"
      ],
      "metadata": {
        "id": "PjyKVBlpgKH4"
      },
      "execution_count": null,
      "outputs": []
    },
    {
      "cell_type": "code",
      "source": [
        "mall.rename(columns = {'시군명':'컬럼2'}, inplace=True)\n",
        "mall.head()"
      ],
      "metadata": {
        "id": "QpmvsyHlg1ct"
      },
      "execution_count": null,
      "outputs": []
    },
    {
      "cell_type": "code",
      "source": [
        "mall.columns"
      ],
      "metadata": {
        "id": "99h5q1TstCbY"
      },
      "execution_count": null,
      "outputs": []
    },
    {
      "cell_type": "code",
      "source": [
        "mall['영업상태명'].value_counts()"
      ],
      "metadata": {
        "colab": {
          "base_uri": "https://localhost:8080/"
        },
        "id": "eKRAgekdtCYX",
        "outputId": "ddd370ae-54eb-4e82-9ac7-09299e69411c"
      },
      "execution_count": null,
      "outputs": [
        {
          "output_type": "execute_result",
          "data": {
            "text/plain": [
              "정상영업     473\n",
              "폐업처리     124\n",
              "휴업처리     114\n",
              "직권취소      52\n",
              "영업개시전     30\n",
              "Name: 영업상태명, dtype: int64"
            ]
          },
          "metadata": {},
          "execution_count": 165
        }
      ]
    },
    {
      "cell_type": "code",
      "source": [
        "mall = mall[((mall['폐업일자'] > 20191231) & (mall['인허가일자'] < 20191231)) | (mall['영업상태명'] == '정상영업')]"
      ],
      "metadata": {
        "id": "iJooj2tPtHak"
      },
      "execution_count": null,
      "outputs": []
    },
    {
      "cell_type": "code",
      "source": [
        "mall[\"업태구분명정보\"].value_counts()"
      ],
      "metadata": {
        "colab": {
          "base_uri": "https://localhost:8080/"
        },
        "id": "RkOUMzdstHXw",
        "outputId": "ca59078f-af8f-4832-89eb-2850b2d8563f"
      },
      "execution_count": null,
      "outputs": [
        {
          "output_type": "execute_result",
          "data": {
            "text/plain": [
              "대형마트          125\n",
              "그 밖의 대규모점포    119\n",
              "구분없음          109\n",
              "쇼핑센터           47\n",
              "전문점            29\n",
              "복합쇼핑몰          25\n",
              "백화점            24\n",
              "시장             20\n",
              "Name: 업태구분명정보, dtype: int64"
            ]
          },
          "metadata": {},
          "execution_count": 167
        }
      ]
    },
    {
      "cell_type": "markdown",
      "source": [
        "## 군집별 대형마트 개수"
      ],
      "metadata": {
        "id": "XrAr71lGJIB1"
      }
    },
    {
      "cell_type": "code",
      "source": [
        "ggdmall_df['Cluster_num'] = ggdmall_df['컬럼2'].map(lambda x : int_cluster(x))"
      ],
      "metadata": {
        "id": "zN6jJXB9JSak"
      },
      "execution_count": null,
      "outputs": []
    },
    {
      "cell_type": "code",
      "source": [
        "ggdmall_df_cluster = pd.DataFrame(ggdmall_df.groupby('Cluster_num')['대형마트개수'].mean())\n",
        "ggdmall_df_cluster"
      ],
      "metadata": {
        "colab": {
          "base_uri": "https://localhost:8080/",
          "height": 238
        },
        "id": "Y9dFaKRDJHCL",
        "outputId": "10d0378d-5473-4bdf-eb3e-15ef98b60e75"
      },
      "execution_count": null,
      "outputs": [
        {
          "output_type": "execute_result",
          "data": {
            "text/plain": [
              "                대형마트개수\n",
              "Cluster_num           \n",
              "0            22.500000\n",
              "1            11.500000\n",
              "2             8.750000\n",
              "3            11.666667\n",
              "4             2.000000"
            ],
            "text/html": [
              "\n",
              "  <div id=\"df-58cc5ce9-fb06-42c5-bf67-b194f9d261b9\">\n",
              "    <div class=\"colab-df-container\">\n",
              "      <div>\n",
              "<style scoped>\n",
              "    .dataframe tbody tr th:only-of-type {\n",
              "        vertical-align: middle;\n",
              "    }\n",
              "\n",
              "    .dataframe tbody tr th {\n",
              "        vertical-align: top;\n",
              "    }\n",
              "\n",
              "    .dataframe thead th {\n",
              "        text-align: right;\n",
              "    }\n",
              "</style>\n",
              "<table border=\"1\" class=\"dataframe\">\n",
              "  <thead>\n",
              "    <tr style=\"text-align: right;\">\n",
              "      <th></th>\n",
              "      <th>대형마트개수</th>\n",
              "    </tr>\n",
              "    <tr>\n",
              "      <th>Cluster_num</th>\n",
              "      <th></th>\n",
              "    </tr>\n",
              "  </thead>\n",
              "  <tbody>\n",
              "    <tr>\n",
              "      <th>0</th>\n",
              "      <td>22.500000</td>\n",
              "    </tr>\n",
              "    <tr>\n",
              "      <th>1</th>\n",
              "      <td>11.500000</td>\n",
              "    </tr>\n",
              "    <tr>\n",
              "      <th>2</th>\n",
              "      <td>8.750000</td>\n",
              "    </tr>\n",
              "    <tr>\n",
              "      <th>3</th>\n",
              "      <td>11.666667</td>\n",
              "    </tr>\n",
              "    <tr>\n",
              "      <th>4</th>\n",
              "      <td>2.000000</td>\n",
              "    </tr>\n",
              "  </tbody>\n",
              "</table>\n",
              "</div>\n",
              "      <button class=\"colab-df-convert\" onclick=\"convertToInteractive('df-58cc5ce9-fb06-42c5-bf67-b194f9d261b9')\"\n",
              "              title=\"Convert this dataframe to an interactive table.\"\n",
              "              style=\"display:none;\">\n",
              "        \n",
              "  <svg xmlns=\"http://www.w3.org/2000/svg\" height=\"24px\"viewBox=\"0 0 24 24\"\n",
              "       width=\"24px\">\n",
              "    <path d=\"M0 0h24v24H0V0z\" fill=\"none\"/>\n",
              "    <path d=\"M18.56 5.44l.94 2.06.94-2.06 2.06-.94-2.06-.94-.94-2.06-.94 2.06-2.06.94zm-11 1L8.5 8.5l.94-2.06 2.06-.94-2.06-.94L8.5 2.5l-.94 2.06-2.06.94zm10 10l.94 2.06.94-2.06 2.06-.94-2.06-.94-.94-2.06-.94 2.06-2.06.94z\"/><path d=\"M17.41 7.96l-1.37-1.37c-.4-.4-.92-.59-1.43-.59-.52 0-1.04.2-1.43.59L10.3 9.45l-7.72 7.72c-.78.78-.78 2.05 0 2.83L4 21.41c.39.39.9.59 1.41.59.51 0 1.02-.2 1.41-.59l7.78-7.78 2.81-2.81c.8-.78.8-2.07 0-2.86zM5.41 20L4 18.59l7.72-7.72 1.47 1.35L5.41 20z\"/>\n",
              "  </svg>\n",
              "      </button>\n",
              "      \n",
              "  <style>\n",
              "    .colab-df-container {\n",
              "      display:flex;\n",
              "      flex-wrap:wrap;\n",
              "      gap: 12px;\n",
              "    }\n",
              "\n",
              "    .colab-df-convert {\n",
              "      background-color: #E8F0FE;\n",
              "      border: none;\n",
              "      border-radius: 50%;\n",
              "      cursor: pointer;\n",
              "      display: none;\n",
              "      fill: #1967D2;\n",
              "      height: 32px;\n",
              "      padding: 0 0 0 0;\n",
              "      width: 32px;\n",
              "    }\n",
              "\n",
              "    .colab-df-convert:hover {\n",
              "      background-color: #E2EBFA;\n",
              "      box-shadow: 0px 1px 2px rgba(60, 64, 67, 0.3), 0px 1px 3px 1px rgba(60, 64, 67, 0.15);\n",
              "      fill: #174EA6;\n",
              "    }\n",
              "\n",
              "    [theme=dark] .colab-df-convert {\n",
              "      background-color: #3B4455;\n",
              "      fill: #D2E3FC;\n",
              "    }\n",
              "\n",
              "    [theme=dark] .colab-df-convert:hover {\n",
              "      background-color: #434B5C;\n",
              "      box-shadow: 0px 1px 3px 1px rgba(0, 0, 0, 0.15);\n",
              "      filter: drop-shadow(0px 1px 2px rgba(0, 0, 0, 0.3));\n",
              "      fill: #FFFFFF;\n",
              "    }\n",
              "  </style>\n",
              "\n",
              "      <script>\n",
              "        const buttonEl =\n",
              "          document.querySelector('#df-58cc5ce9-fb06-42c5-bf67-b194f9d261b9 button.colab-df-convert');\n",
              "        buttonEl.style.display =\n",
              "          google.colab.kernel.accessAllowed ? 'block' : 'none';\n",
              "\n",
              "        async function convertToInteractive(key) {\n",
              "          const element = document.querySelector('#df-58cc5ce9-fb06-42c5-bf67-b194f9d261b9');\n",
              "          const dataTable =\n",
              "            await google.colab.kernel.invokeFunction('convertToInteractive',\n",
              "                                                     [key], {});\n",
              "          if (!dataTable) return;\n",
              "\n",
              "          const docLinkHtml = 'Like what you see? Visit the ' +\n",
              "            '<a target=\"_blank\" href=https://colab.research.google.com/notebooks/data_table.ipynb>data table notebook</a>'\n",
              "            + ' to learn more about interactive tables.';\n",
              "          element.innerHTML = '';\n",
              "          dataTable['output_type'] = 'display_data';\n",
              "          await google.colab.output.renderOutput(dataTable, element);\n",
              "          const docLink = document.createElement('div');\n",
              "          docLink.innerHTML = docLinkHtml;\n",
              "          element.appendChild(docLink);\n",
              "        }\n",
              "      </script>\n",
              "    </div>\n",
              "  </div>\n",
              "  "
            ]
          },
          "metadata": {},
          "execution_count": 179
        }
      ]
    },
    {
      "cell_type": "code",
      "source": [
        "plt.figure(figsize=(15,10))\n",
        "\n",
        "sns.barplot(data=ggdmall_df_cluster,x=ggdmall_df_cluster.index,y=ggdmall_df_cluster['대형마트개수'],palette='Blues_d')\n",
        "plt.title('Cluster별 대형마트 개수',fontsize=20)"
      ],
      "metadata": {
        "colab": {
          "base_uri": "https://localhost:8080/",
          "height": 646
        },
        "id": "8tB-OZmAAcIX",
        "outputId": "ab628c37-1a7c-49e8-c85c-839bd09feed4"
      },
      "execution_count": null,
      "outputs": [
        {
          "output_type": "execute_result",
          "data": {
            "text/plain": [
              "Text(0.5, 1.0, 'Cluster별 대형마트 개수')"
            ]
          },
          "metadata": {},
          "execution_count": 180
        },
        {
          "output_type": "display_data",
          "data": {
            "text/plain": [
              "<Figure size 1080x720 with 1 Axes>"
            ],
            "image/png": "[encoded data removed]"
          },
          "metadata": {
            "needs_background": "light"
          }
        }
      ]
    },
    {
      "cell_type": "markdown",
      "source": [
        "# 주택 수"
      ],
      "metadata": {
        "id": "IRDMrWzhg1yQ"
      }
    },
    {
      "cell_type": "code",
      "source": [
        "df_house = pd.read_csv('/content/drive/MyDrive/아이펠_해커톤/hackathon_data/주택의_종류별_주택읍면동_2015_2020___시군구_20162019__20220601185112.csv', encoding='cp949')"
      ],
      "metadata": {
        "id": "FA4iOf3pg4Du"
      },
      "execution_count": null,
      "outputs": []
    },
    {
      "cell_type": "code",
      "source": [
        "house_count = df_house.copy()\n",
        "house_count"
      ],
      "metadata": {
        "id": "QEweOk-GBnL0"
      },
      "execution_count": null,
      "outputs": []
    },
    {
      "cell_type": "code",
      "source": [
        "house_count = house_count.rename(columns=house_count.iloc[0])\n",
        "house_count = house_count.drop(house_count.index[:2])\n",
        "house_count.reset_index(drop=True, inplace=True)\n",
        "house_count"
      ],
      "metadata": {
        "id": "3ttJJLFhB2TA"
      },
      "execution_count": null,
      "outputs": []
    },
    {
      "cell_type": "code",
      "source": [
        "house_count.rename(columns={'행정구역별(읍면동)' : '컬럼2'}, inplace=True)\n",
        "house_count"
      ],
      "metadata": {
        "id": "ptAY5u8XB_JJ"
      },
      "execution_count": null,
      "outputs": []
    },
    {
      "cell_type": "code",
      "source": [
        "house_count['주택'] = house_count['주택'].astype(int)\n",
        "house_count['아파트'] = house_count['아파트'].astype(int)\n",
        "house_count['연립주택'] = house_count['연립주택'].astype(int)\n",
        "house_count['다세대주택'] = house_count['다세대주택'].astype(int)\n",
        "house_count['비거주용건물내주택'] = house_count['비거주용건물내주택'].astype(int)"
      ],
      "metadata": {
        "id": "RGBD53hQCh3v"
      },
      "execution_count": null,
      "outputs": []
    },
    {
      "cell_type": "code",
      "source": [
        "house_count['합계'] = house_count['주택'] + house_count['아파트'] + house_count['연립주택'] + house_count['다세대주택'] + house_count['비거주용건물내주택']"
      ],
      "metadata": {
        "id": "bkp3hppRCK2n"
      },
      "execution_count": null,
      "outputs": []
    },
    {
      "cell_type": "code",
      "source": [
        "house_count"
      ],
      "metadata": {
        "id": "uU1RBDQnCc77"
      },
      "execution_count": null,
      "outputs": []
    },
    {
      "cell_type": "code",
      "source": [
        "house_count.rename(columns={'합계' : '총주택수'}, inplace=True)"
      ],
      "metadata": {
        "id": "LClhTJ6OerR6"
      },
      "execution_count": null,
      "outputs": []
    },
    {
      "cell_type": "markdown",
      "source": [
        "## 군집별 총 주택 수"
      ],
      "metadata": {
        "id": "RrcrT0QUJdNY"
      }
    },
    {
      "cell_type": "code",
      "source": [
        "house_count['Cluster_num'] = house_count['컬럼2'].map(lambda x : int_cluster(x))"
      ],
      "metadata": {
        "id": "v3x6rnMAJirV"
      },
      "execution_count": null,
      "outputs": []
    },
    {
      "cell_type": "code",
      "source": [
        "house_count_cluster = pd.DataFrame(house_count.groupby('Cluster_num')['총주택수'].mean())\n",
        "house_count_cluster"
      ],
      "metadata": {
        "colab": {
          "base_uri": "https://localhost:8080/",
          "height": 238
        },
        "id": "W_IoR0fAJc9r",
        "outputId": "4027ac48-6360-4c5e-9229-8fff8a7f074f"
      },
      "execution_count": null,
      "outputs": [
        {
          "output_type": "execute_result",
          "data": {
            "text/plain": [
              "                      총주택수\n",
              "Cluster_num               \n",
              "0            236257.000000\n",
              "1            272751.000000\n",
              "2            223407.750000\n",
              "3            202483.666667\n",
              "4             61602.000000"
            ],
            "text/html": [
              "\n",
              "  <div id=\"df-a40be2ca-0744-49d9-833c-d3fd6abbfa80\">\n",
              "    <div class=\"colab-df-container\">\n",
              "      <div>\n",
              "<style scoped>\n",
              "    .dataframe tbody tr th:only-of-type {\n",
              "        vertical-align: middle;\n",
              "    }\n",
              "\n",
              "    .dataframe tbody tr th {\n",
              "        vertical-align: top;\n",
              "    }\n",
              "\n",
              "    .dataframe thead th {\n",
              "        text-align: right;\n",
              "    }\n",
              "</style>\n",
              "<table border=\"1\" class=\"dataframe\">\n",
              "  <thead>\n",
              "    <tr style=\"text-align: right;\">\n",
              "      <th></th>\n",
              "      <th>총주택수</th>\n",
              "    </tr>\n",
              "    <tr>\n",
              "      <th>Cluster_num</th>\n",
              "      <th></th>\n",
              "    </tr>\n",
              "  </thead>\n",
              "  <tbody>\n",
              "    <tr>\n",
              "      <th>0</th>\n",
              "      <td>236257.000000</td>\n",
              "    </tr>\n",
              "    <tr>\n",
              "      <th>1</th>\n",
              "      <td>272751.000000</td>\n",
              "    </tr>\n",
              "    <tr>\n",
              "      <th>2</th>\n",
              "      <td>223407.750000</td>\n",
              "    </tr>\n",
              "    <tr>\n",
              "      <th>3</th>\n",
              "      <td>202483.666667</td>\n",
              "    </tr>\n",
              "    <tr>\n",
              "      <th>4</th>\n",
              "      <td>61602.000000</td>\n",
              "    </tr>\n",
              "  </tbody>\n",
              "</table>\n",
              "</div>\n",
              "      <button class=\"colab-df-convert\" onclick=\"convertToInteractive('df-a40be2ca-0744-49d9-833c-d3fd6abbfa80')\"\n",
              "              title=\"Convert this dataframe to an interactive table.\"\n",
              "              style=\"display:none;\">\n",
              "        \n",
              "  <svg xmlns=\"http://www.w3.org/2000/svg\" height=\"24px\"viewBox=\"0 0 24 24\"\n",
              "       width=\"24px\">\n",
              "    <path d=\"M0 0h24v24H0V0z\" fill=\"none\"/>\n",
              "    <path d=\"M18.56 5.44l.94 2.06.94-2.06 2.06-.94-2.06-.94-.94-2.06-.94 2.06-2.06.94zm-11 1L8.5 8.5l.94-2.06 2.06-.94-2.06-.94L8.5 2.5l-.94 2.06-2.06.94zm10 10l.94 2.06.94-2.06 2.06-.94-2.06-.94-.94-2.06-.94 2.06-2.06.94z\"/><path d=\"M17.41 7.96l-1.37-1.37c-.4-.4-.92-.59-1.43-.59-.52 0-1.04.2-1.43.59L10.3 9.45l-7.72 7.72c-.78.78-.78 2.05 0 2.83L4 21.41c.39.39.9.59 1.41.59.51 0 1.02-.2 1.41-.59l7.78-7.78 2.81-2.81c.8-.78.8-2.07 0-2.86zM5.41 20L4 18.59l7.72-7.72 1.47 1.35L5.41 20z\"/>\n",
              "  </svg>\n",
              "      </button>\n",
              "      \n",
              "  <style>\n",
              "    .colab-df-container {\n",
              "      display:flex;\n",
              "      flex-wrap:wrap;\n",
              "      gap: 12px;\n",
              "    }\n",
              "\n",
              "    .colab-df-convert {\n",
              "      background-color: #E8F0FE;\n",
              "      border: none;\n",
              "      border-radius: 50%;\n",
              "      cursor: pointer;\n",
              "      display: none;\n",
              "      fill: #1967D2;\n",
              "      height: 32px;\n",
              "      padding: 0 0 0 0;\n",
              "      width: 32px;\n",
              "    }\n",
              "\n",
              "    .colab-df-convert:hover {\n",
              "      background-color: #E2EBFA;\n",
              "      box-shadow: 0px 1px 2px rgba(60, 64, 67, 0.3), 0px 1px 3px 1px rgba(60, 64, 67, 0.15);\n",
              "      fill: #174EA6;\n",
              "    }\n",
              "\n",
              "    [theme=dark] .colab-df-convert {\n",
              "      background-color: #3B4455;\n",
              "      fill: #D2E3FC;\n",
              "    }\n",
              "\n",
              "    [theme=dark] .colab-df-convert:hover {\n",
              "      background-color: #434B5C;\n",
              "      box-shadow: 0px 1px 3px 1px rgba(0, 0, 0, 0.15);\n",
              "      filter: drop-shadow(0px 1px 2px rgba(0, 0, 0, 0.3));\n",
              "      fill: #FFFFFF;\n",
              "    }\n",
              "  </style>\n",
              "\n",
              "      <script>\n",
              "        const buttonEl =\n",
              "          document.querySelector('#df-a40be2ca-0744-49d9-833c-d3fd6abbfa80 button.colab-df-convert');\n",
              "        buttonEl.style.display =\n",
              "          google.colab.kernel.accessAllowed ? 'block' : 'none';\n",
              "\n",
              "        async function convertToInteractive(key) {\n",
              "          const element = document.querySelector('#df-a40be2ca-0744-49d9-833c-d3fd6abbfa80');\n",
              "          const dataTable =\n",
              "            await google.colab.kernel.invokeFunction('convertToInteractive',\n",
              "                                                     [key], {});\n",
              "          if (!dataTable) return;\n",
              "\n",
              "          const docLinkHtml = 'Like what you see? Visit the ' +\n",
              "            '<a target=\"_blank\" href=https://colab.research.google.com/notebooks/data_table.ipynb>data table notebook</a>'\n",
              "            + ' to learn more about interactive tables.';\n",
              "          element.innerHTML = '';\n",
              "          dataTable['output_type'] = 'display_data';\n",
              "          await google.colab.output.renderOutput(dataTable, element);\n",
              "          const docLink = document.createElement('div');\n",
              "          docLink.innerHTML = docLinkHtml;\n",
              "          element.appendChild(docLink);\n",
              "        }\n",
              "      </script>\n",
              "    </div>\n",
              "  </div>\n",
              "  "
            ]
          },
          "metadata": {},
          "execution_count": 194
        }
      ]
    },
    {
      "cell_type": "code",
      "source": [
        "plt.figure(figsize=(15,10))\n",
        "\n",
        "sns.barplot(data=house_count_cluster,x=house_count_cluster.index,y=house_count_cluster['총주택수'],palette='Blues_d')\n",
        "plt.title('Cluster별 총주택 수',fontsize=20)"
      ],
      "metadata": {
        "colab": {
          "base_uri": "https://localhost:8080/",
          "height": 646
        },
        "id": "YcwGirVcAqgK",
        "outputId": "9d7e7453-610d-4737-f6d7-8d2de32b6ec1"
      },
      "execution_count": null,
      "outputs": [
        {
          "output_type": "execute_result",
          "data": {
            "text/plain": [
              "Text(0.5, 1.0, 'Cluster별 총주택 수')"
            ]
          },
          "metadata": {},
          "execution_count": 195
        },
        {
          "output_type": "display_data",
          "data": {
            "text/plain": [
              "<Figure size 1080x720 with 1 Axes>"
            ],
            "image/png": "[encoded data removed]"
          },
          "metadata": {
            "needs_background": "light"
          }
        }
      ]
    },
    {
      "cell_type": "markdown",
      "source": [
        "# 자동차 등록대수"
      ],
      "metadata": {
        "id": "Xko0Wk0xOAXn"
      }
    },
    {
      "cell_type": "code",
      "source": [
        "car_count = pd.read_csv('/content/drive/MyDrive/아이펠_해커톤/hackathon_data/자동차등록집계현황.csv', encoding='cp949')"
      ],
      "metadata": {
        "id": "OjTeWiToOR_t"
      },
      "execution_count": null,
      "outputs": []
    },
    {
      "cell_type": "code",
      "source": [
        "car_count"
      ],
      "metadata": {
        "id": "CztVEaJ5RAfr"
      },
      "execution_count": null,
      "outputs": []
    },
    {
      "cell_type": "code",
      "source": [
        "car_count.columns"
      ],
      "metadata": {
        "colab": {
          "base_uri": "https://localhost:8080/"
        },
        "id": "PntaI5XsSHXb",
        "outputId": "1113d454-f1b6-4022-a063-094d237f8434"
      },
      "execution_count": null,
      "outputs": [
        {
          "output_type": "execute_result",
          "data": {
            "text/plain": [
              "Index(['시군명', '시군구명', '승용(관용)', '승용(자가용)', '승용(영업용)', '승용(관용+자가용+영업용)',\n",
              "       '승합(관용)', '승합(자가용)', '승합(영업용)', '승합(관용+자가용+영업용)', '화물(관용)', '화물(자가용)',\n",
              "       '화물(영업용)', '화물(관용+자가용+영업용)', '특수(관용)', '특수(자가용)', '특수(영업용)',\n",
              "       '특수(관용+자가용+영업용)', '관용 자동차(승용+승합+화물+특수) 등록대수',\n",
              "       '자가용 자동차(승용+승합+화물+특수) 등록대수', '영업용 자동차(승용+승합+화물+특수) 등록대수', '총계'],\n",
              "      dtype='object')"
            ]
          },
          "metadata": {},
          "execution_count": 198
        }
      ]
    },
    {
      "cell_type": "code",
      "source": [
        "car_count.index"
      ],
      "metadata": {
        "colab": {
          "base_uri": "https://localhost:8080/"
        },
        "id": "7rl0KXArSV3W",
        "outputId": "10949587-a2d6-4bae-c363-7bd991861243"
      },
      "execution_count": null,
      "outputs": [
        {
          "output_type": "execute_result",
          "data": {
            "text/plain": [
              "RangeIndex(start=0, stop=95, step=1)"
            ]
          },
          "metadata": {},
          "execution_count": 199
        }
      ]
    },
    {
      "cell_type": "markdown",
      "source": [
        "## 군집별 자동차 등록대수"
      ],
      "metadata": {
        "id": "RuS6u0yLJz3Y"
      }
    },
    {
      "cell_type": "code",
      "source": [
        "car_count_group['Cluster_num'] = car_count_group['컬럼2'].map(lambda x : int_cluster(x))"
      ],
      "metadata": {
        "id": "H4ZHZrZyORyT"
      },
      "execution_count": null,
      "outputs": []
    },
    {
      "cell_type": "code",
      "source": [
        "car_count_cluster = car_count_group.groupby('Cluster_num').sum()"
      ],
      "metadata": {
        "id": "fgKXw7vvORuv"
      },
      "execution_count": null,
      "outputs": []
    },
    {
      "cell_type": "code",
      "source": [
        "car_count_cluster.sort_values(by = '총계', ascending=False)"
      ],
      "metadata": {
        "colab": {
          "base_uri": "https://localhost:8080/",
          "height": 238
        },
        "id": "YryaYxi2ORrV",
        "outputId": "b9d5de9d-1163-4c12-f0e8-f9d364c2fd1e"
      },
      "execution_count": null,
      "outputs": [
        {
          "output_type": "execute_result",
          "data": {
            "text/plain": [
              "                    총계\n",
              "Cluster_num           \n",
              "1            1109819.5\n",
              "2             632257.5\n",
              "3             371067.5\n",
              "0             318487.5\n",
              "4              62414.5"
            ],
            "text/html": [
              "\n",
              "  <div id=\"df-106f5fcb-c4a2-4f81-be86-9c85c83b8c9b\">\n",
              "    <div class=\"colab-df-container\">\n",
              "      <div>\n",
              "<style scoped>\n",
              "    .dataframe tbody tr th:only-of-type {\n",
              "        vertical-align: middle;\n",
              "    }\n",
              "\n",
              "    .dataframe tbody tr th {\n",
              "        vertical-align: top;\n",
              "    }\n",
              "\n",
              "    .dataframe thead th {\n",
              "        text-align: right;\n",
              "    }\n",
              "</style>\n",
              "<table border=\"1\" class=\"dataframe\">\n",
              "  <thead>\n",
              "    <tr style=\"text-align: right;\">\n",
              "      <th></th>\n",
              "      <th>총계</th>\n",
              "    </tr>\n",
              "    <tr>\n",
              "      <th>Cluster_num</th>\n",
              "      <th></th>\n",
              "    </tr>\n",
              "  </thead>\n",
              "  <tbody>\n",
              "    <tr>\n",
              "      <th>1</th>\n",
              "      <td>1109819.5</td>\n",
              "    </tr>\n",
              "    <tr>\n",
              "      <th>2</th>\n",
              "      <td>632257.5</td>\n",
              "    </tr>\n",
              "    <tr>\n",
              "      <th>3</th>\n",
              "      <td>371067.5</td>\n",
              "    </tr>\n",
              "    <tr>\n",
              "      <th>0</th>\n",
              "      <td>318487.5</td>\n",
              "    </tr>\n",
              "    <tr>\n",
              "      <th>4</th>\n",
              "      <td>62414.5</td>\n",
              "    </tr>\n",
              "  </tbody>\n",
              "</table>\n",
              "</div>\n",
              "      <button class=\"colab-df-convert\" onclick=\"convertToInteractive('df-106f5fcb-c4a2-4f81-be86-9c85c83b8c9b')\"\n",
              "              title=\"Convert this dataframe to an interactive table.\"\n",
              "              style=\"display:none;\">\n",
              "        \n",
              "  <svg xmlns=\"http://www.w3.org/2000/svg\" height=\"24px\"viewBox=\"0 0 24 24\"\n",
              "       width=\"24px\">\n",
              "    <path d=\"M0 0h24v24H0V0z\" fill=\"none\"/>\n",
              "    <path d=\"M18.56 5.44l.94 2.06.94-2.06 2.06-.94-2.06-.94-.94-2.06-.94 2.06-2.06.94zm-11 1L8.5 8.5l.94-2.06 2.06-.94-2.06-.94L8.5 2.5l-.94 2.06-2.06.94zm10 10l.94 2.06.94-2.06 2.06-.94-2.06-.94-.94-2.06-.94 2.06-2.06.94z\"/><path d=\"M17.41 7.96l-1.37-1.37c-.4-.4-.92-.59-1.43-.59-.52 0-1.04.2-1.43.59L10.3 9.45l-7.72 7.72c-.78.78-.78 2.05 0 2.83L4 21.41c.39.39.9.59 1.41.59.51 0 1.02-.2 1.41-.59l7.78-7.78 2.81-2.81c.8-.78.8-2.07 0-2.86zM5.41 20L4 18.59l7.72-7.72 1.47 1.35L5.41 20z\"/>\n",
              "  </svg>\n",
              "      </button>\n",
              "      \n",
              "  <style>\n",
              "    .colab-df-container {\n",
              "      display:flex;\n",
              "      flex-wrap:wrap;\n",
              "      gap: 12px;\n",
              "    }\n",
              "\n",
              "    .colab-df-convert {\n",
              "      background-color: #E8F0FE;\n",
              "      border: none;\n",
              "      border-radius: 50%;\n",
              "      cursor: pointer;\n",
              "      display: none;\n",
              "      fill: #1967D2;\n",
              "      height: 32px;\n",
              "      padding: 0 0 0 0;\n",
              "      width: 32px;\n",
              "    }\n",
              "\n",
              "    .colab-df-convert:hover {\n",
              "      background-color: #E2EBFA;\n",
              "      box-shadow: 0px 1px 2px rgba(60, 64, 67, 0.3), 0px 1px 3px 1px rgba(60, 64, 67, 0.15);\n",
              "      fill: #174EA6;\n",
              "    }\n",
              "\n",
              "    [theme=dark] .colab-df-convert {\n",
              "      background-color: #3B4455;\n",
              "      fill: #D2E3FC;\n",
              "    }\n",
              "\n",
              "    [theme=dark] .colab-df-convert:hover {\n",
              "      background-color: #434B5C;\n",
              "      box-shadow: 0px 1px 3px 1px rgba(0, 0, 0, 0.15);\n",
              "      filter: drop-shadow(0px 1px 2px rgba(0, 0, 0, 0.3));\n",
              "      fill: #FFFFFF;\n",
              "    }\n",
              "  </style>\n",
              "\n",
              "      <script>\n",
              "        const buttonEl =\n",
              "          document.querySelector('#df-106f5fcb-c4a2-4f81-be86-9c85c83b8c9b button.colab-df-convert');\n",
              "        buttonEl.style.display =\n",
              "          google.colab.kernel.accessAllowed ? 'block' : 'none';\n",
              "\n",
              "        async function convertToInteractive(key) {\n",
              "          const element = document.querySelector('#df-106f5fcb-c4a2-4f81-be86-9c85c83b8c9b');\n",
              "          const dataTable =\n",
              "            await google.colab.kernel.invokeFunction('convertToInteractive',\n",
              "                                                     [key], {});\n",
              "          if (!dataTable) return;\n",
              "\n",
              "          const docLinkHtml = 'Like what you see? Visit the ' +\n",
              "            '<a target=\"_blank\" href=https://colab.research.google.com/notebooks/data_table.ipynb>data table notebook</a>'\n",
              "            + ' to learn more about interactive tables.';\n",
              "          element.innerHTML = '';\n",
              "          dataTable['output_type'] = 'display_data';\n",
              "          await google.colab.output.renderOutput(dataTable, element);\n",
              "          const docLink = document.createElement('div');\n",
              "          docLink.innerHTML = docLinkHtml;\n",
              "          element.appendChild(docLink);\n",
              "        }\n",
              "      </script>\n",
              "    </div>\n",
              "  </div>\n",
              "  "
            ]
          },
          "metadata": {},
          "execution_count": 210
        }
      ]
    },
    {
      "cell_type": "code",
      "source": [
        "plt.figure(figsize=(15,10))\n",
        "\n",
        "sns.barplot(data=car_count_cluster,x=car_count_cluster.index,y=car_count_cluster['총계'],palette='Blues_d')\n",
        "plt.title('Cluster별 자동차 등록대수',fontsize=20)"
      ],
      "metadata": {
        "colab": {
          "base_uri": "https://localhost:8080/",
          "height": 646
        },
        "id": "sbYY4KxZBYzK",
        "outputId": "478a7099-92a2-4c6f-952f-ee2493fda93b"
      },
      "execution_count": null,
      "outputs": [
        {
          "output_type": "execute_result",
          "data": {
            "text/plain": [
              "Text(0.5, 1.0, 'Cluster별 자동차 등록대수')"
            ]
          },
          "metadata": {},
          "execution_count": 211
        },
        {
          "output_type": "display_data",
          "data": {
            "text/plain": [
              "<Figure size 1080x720 with 1 Axes>"
            ],
            "image/png": "[encoded data removed]"
          },
          "metadata": {
            "needs_background": "light"
          }
        }
      ]
    },
    {
      "cell_type": "code",
      "source": [
        "# 1군집\n",
        "1109819.5 / 2024693"
      ],
      "metadata": {
        "colab": {
          "base_uri": "https://localhost:8080/"
        },
        "id": "-DV_Sf57ORmL",
        "outputId": "650a1a5e-74af-4ec8-f9bb-9b5c662e43a9"
      },
      "execution_count": null,
      "outputs": [
        {
          "output_type": "execute_result",
          "data": {
            "text/plain": [
              "0.5481421133969446"
            ]
          },
          "metadata": {},
          "execution_count": 212
        }
      ]
    },
    {
      "cell_type": "code",
      "source": [
        "# 0군집\n",
        "318487.5 / 819686"
      ],
      "metadata": {
        "colab": {
          "base_uri": "https://localhost:8080/"
        },
        "id": "CMjXaOkkTxY8",
        "outputId": "c8de1a04-4edf-4de7-9c28-a02db1918d7a"
      },
      "execution_count": null,
      "outputs": [
        {
          "output_type": "execute_result",
          "data": {
            "text/plain": [
              "0.38854817576486606"
            ]
          },
          "metadata": {},
          "execution_count": 213
        }
      ]
    },
    {
      "cell_type": "code",
      "source": [
        "# 2군집\n",
        "632257.5 / 1885394"
      ],
      "metadata": {
        "colab": {
          "base_uri": "https://localhost:8080/"
        },
        "id": "DYUMyUv1TxH1",
        "outputId": "a96945e9-820e-4532-a8cc-25abbbe5aa10"
      },
      "execution_count": null,
      "outputs": [
        {
          "output_type": "execute_result",
          "data": {
            "text/plain": [
              "0.3353450260263902"
            ]
          },
          "metadata": {},
          "execution_count": 214
        }
      ]
    },
    {
      "cell_type": "code",
      "source": [
        "# 3군집\n",
        "371067.5 / 951011"
      ],
      "metadata": {
        "colab": {
          "base_uri": "https://localhost:8080/"
        },
        "id": "qPxGQgEcTxCM",
        "outputId": "db54232b-eb5a-48e0-95ce-aec63a6cb440"
      },
      "execution_count": null,
      "outputs": [
        {
          "output_type": "execute_result",
          "data": {
            "text/plain": [
              "0.39018213248847805"
            ]
          },
          "metadata": {},
          "execution_count": 215
        }
      ]
    },
    {
      "cell_type": "code",
      "source": [
        "# 4군집\n",
        "62414.5 / 116114"
      ],
      "metadata": {
        "colab": {
          "base_uri": "https://localhost:8080/"
        },
        "id": "v-0j2ptxUkV_",
        "outputId": "36b6197b-d6dc-4c9c-9ec5-d0e90d2b8251"
      },
      "execution_count": null,
      "outputs": [
        {
          "output_type": "execute_result",
          "data": {
            "text/plain": [
              "0.5375277744285788"
            ]
          },
          "metadata": {},
          "execution_count": 216
        }
      ]
    }
  ]
}